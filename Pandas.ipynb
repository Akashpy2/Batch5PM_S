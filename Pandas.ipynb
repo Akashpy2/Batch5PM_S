{
 "cells": [
  {
   "cell_type": "markdown",
   "id": "8a32c41b",
   "metadata": {},
   "source": [
    "# Pandas"
   ]
  },
  {
   "cell_type": "raw",
   "id": "4242754f",
   "metadata": {},
   "source": [
    "Using Pandas - We can do analysis\n"
   ]
  },
  {
   "cell_type": "code",
   "execution_count": 7,
   "id": "ecf3abbe",
   "metadata": {},
   "outputs": [],
   "source": [
    "import pandas as pd"
   ]
  },
  {
   "cell_type": "code",
   "execution_count": 1,
   "id": "e1dafc33",
   "metadata": {},
   "outputs": [],
   "source": [
    "import os"
   ]
  },
  {
   "cell_type": "code",
   "execution_count": 2,
   "id": "55450834",
   "metadata": {},
   "outputs": [
    {
     "data": {
      "text/plain": [
       "'C:\\\\Users\\\\DELL\\\\Batch_Feb23_5PM'"
      ]
     },
     "execution_count": 2,
     "metadata": {},
     "output_type": "execute_result"
    }
   ],
   "source": [
    "os.getcwd()"
   ]
  },
  {
   "cell_type": "code",
   "execution_count": 5,
   "id": "5418705f",
   "metadata": {},
   "outputs": [],
   "source": [
    "os.chdir('D:\\Office\\Python\\Rk\\PYTHON_master\\data')"
   ]
  },
  {
   "cell_type": "code",
   "execution_count": 6,
   "id": "f7988f6c",
   "metadata": {},
   "outputs": [
    {
     "data": {
      "text/plain": [
       "'D:\\\\Office\\\\Python\\\\Rk\\\\PYTHON_master\\\\data'"
      ]
     },
     "execution_count": 6,
     "metadata": {},
     "output_type": "execute_result"
    }
   ],
   "source": [
    "os.getcwd()"
   ]
  },
  {
   "cell_type": "code",
   "execution_count": 32,
   "id": "db630d15",
   "metadata": {},
   "outputs": [
    {
     "name": "stdout",
     "output_type": "stream",
     "text": [
      "   0 First Name  Last Name  Gender        Country  Age        Date    Id\n",
      "0  1      Dulce      Abril  Female  United States   32  15/10/2017  1562\n",
      "1  2       Mara  Hashimoto  Female  Great Britain   25  16/08/2016  1582\n",
      "2  3     Philip       Gent    Male         France   36  21/05/2015  2587\n",
      "3  4   Kathleen     Hanner  Female  United States   25  15/10/2017  3549\n",
      "4  5    Nereida    Magwood  Female  United States   58  16/08/2016  2468\n",
      "5  6     Gaston      Brumm    Male  United States   24  21/05/2015  2554\n",
      "6  7       Etta       Hurn  Female  Great Britain   56  15/10/2017  3598\n",
      "7  8    Earlean     Melgar  Female  United States   27  16/08/2016  2456\n",
      "8  9   Vincenza    Weiland  Female  United States   40  21/05/2015  6548\n"
     ]
    }
   ],
   "source": [
    "df=pd.read_excel(r'example.xlsx')\n",
    "print(df)"
   ]
  },
  {
   "cell_type": "code",
   "execution_count": 34,
   "id": "485fb53f",
   "metadata": {},
   "outputs": [
    {
     "data": {
      "text/html": [
       "<div>\n",
       "<style scoped>\n",
       "    .dataframe tbody tr th:only-of-type {\n",
       "        vertical-align: middle;\n",
       "    }\n",
       "\n",
       "    .dataframe tbody tr th {\n",
       "        vertical-align: top;\n",
       "    }\n",
       "\n",
       "    .dataframe thead th {\n",
       "        text-align: right;\n",
       "    }\n",
       "</style>\n",
       "<table border=\"1\" class=\"dataframe\">\n",
       "  <thead>\n",
       "    <tr style=\"text-align: right;\">\n",
       "      <th></th>\n",
       "      <th>0</th>\n",
       "      <th>First Name</th>\n",
       "      <th>Last Name</th>\n",
       "      <th>Gender</th>\n",
       "      <th>Country</th>\n",
       "      <th>Age</th>\n",
       "      <th>Date</th>\n",
       "      <th>Id</th>\n",
       "    </tr>\n",
       "  </thead>\n",
       "  <tbody>\n",
       "    <tr>\n",
       "      <th>0</th>\n",
       "      <td>1</td>\n",
       "      <td>Dulce</td>\n",
       "      <td>Abril</td>\n",
       "      <td>Female</td>\n",
       "      <td>United States</td>\n",
       "      <td>32</td>\n",
       "      <td>15/10/2017</td>\n",
       "      <td>1562</td>\n",
       "    </tr>\n",
       "    <tr>\n",
       "      <th>1</th>\n",
       "      <td>2</td>\n",
       "      <td>Mara</td>\n",
       "      <td>Hashimoto</td>\n",
       "      <td>Female</td>\n",
       "      <td>Great Britain</td>\n",
       "      <td>25</td>\n",
       "      <td>16/08/2016</td>\n",
       "      <td>1582</td>\n",
       "    </tr>\n",
       "  </tbody>\n",
       "</table>\n",
       "</div>"
      ],
      "text/plain": [
       "   0 First Name  Last Name  Gender        Country  Age        Date    Id\n",
       "0  1      Dulce      Abril  Female  United States   32  15/10/2017  1562\n",
       "1  2       Mara  Hashimoto  Female  Great Britain   25  16/08/2016  1582"
      ]
     },
     "execution_count": 34,
     "metadata": {},
     "output_type": "execute_result"
    }
   ],
   "source": [
    "df.head(2)"
   ]
  },
  {
   "cell_type": "code",
   "execution_count": 35,
   "id": "4f64f071",
   "metadata": {},
   "outputs": [
    {
     "data": {
      "text/html": [
       "<div>\n",
       "<style scoped>\n",
       "    .dataframe tbody tr th:only-of-type {\n",
       "        vertical-align: middle;\n",
       "    }\n",
       "\n",
       "    .dataframe tbody tr th {\n",
       "        vertical-align: top;\n",
       "    }\n",
       "\n",
       "    .dataframe thead th {\n",
       "        text-align: right;\n",
       "    }\n",
       "</style>\n",
       "<table border=\"1\" class=\"dataframe\">\n",
       "  <thead>\n",
       "    <tr style=\"text-align: right;\">\n",
       "      <th></th>\n",
       "      <th>0</th>\n",
       "      <th>First Name</th>\n",
       "      <th>Last Name</th>\n",
       "      <th>Gender</th>\n",
       "      <th>Country</th>\n",
       "      <th>Age</th>\n",
       "      <th>Date</th>\n",
       "      <th>Id</th>\n",
       "    </tr>\n",
       "  </thead>\n",
       "  <tbody>\n",
       "    <tr>\n",
       "      <th>7</th>\n",
       "      <td>8</td>\n",
       "      <td>Earlean</td>\n",
       "      <td>Melgar</td>\n",
       "      <td>Female</td>\n",
       "      <td>United States</td>\n",
       "      <td>27</td>\n",
       "      <td>16/08/2016</td>\n",
       "      <td>2456</td>\n",
       "    </tr>\n",
       "    <tr>\n",
       "      <th>8</th>\n",
       "      <td>9</td>\n",
       "      <td>Vincenza</td>\n",
       "      <td>Weiland</td>\n",
       "      <td>Female</td>\n",
       "      <td>United States</td>\n",
       "      <td>40</td>\n",
       "      <td>21/05/2015</td>\n",
       "      <td>6548</td>\n",
       "    </tr>\n",
       "  </tbody>\n",
       "</table>\n",
       "</div>"
      ],
      "text/plain": [
       "   0 First Name Last Name  Gender        Country  Age        Date    Id\n",
       "7  8    Earlean    Melgar  Female  United States   27  16/08/2016  2456\n",
       "8  9   Vincenza   Weiland  Female  United States   40  21/05/2015  6548"
      ]
     },
     "execution_count": 35,
     "metadata": {},
     "output_type": "execute_result"
    }
   ],
   "source": [
    "df.tail(2)"
   ]
  },
  {
   "cell_type": "code",
   "execution_count": 36,
   "id": "9b088af3",
   "metadata": {},
   "outputs": [
    {
     "name": "stdout",
     "output_type": "stream",
     "text": [
      "   0 First Name  Last Name  Gender        Country  Age        Date    Id\n",
      "0  1      Dulce      Abril  Female  United States   32  15/10/2017  1562\n",
      "1  2       Mara  Hashimoto  Female  Great Britain   25  16/08/2016  1582\n",
      "2  3     Philip       Gent    Male         France   36  21/05/2015  2587\n",
      "3  4   Kathleen     Hanner  Female  United States   25  15/10/2017  3549\n",
      "4  5    Nereida    Magwood  Female  United States   58  16/08/2016  2468\n",
      "5  6     Gaston      Brumm    Male  United States   24  21/05/2015  2554\n",
      "6  7       Etta       Hurn  Female  Great Britain   56  15/10/2017  3598\n",
      "7  8    Earlean     Melgar  Female  United States   27  16/08/2016  2456\n",
      "8  9   Vincenza    Weiland  Female  United States   40  21/05/2015  6548\n"
     ]
    }
   ],
   "source": [
    "df=pd.read_excel(r'example.xlsx')\n",
    "new_df = df.dropna()\n",
    "print(new_df.to_string())"
   ]
  },
  {
   "cell_type": "code",
   "execution_count": null,
   "id": "22b00105",
   "metadata": {},
   "outputs": [],
   "source": [
    "df=pd.read_excel(r'example.xlsx')\n",
    "df.dropna(inplace = True)\n",
    "print(df.to_string())"
   ]
  },
  {
   "cell_type": "code",
   "execution_count": null,
   "id": "80c0b716",
   "metadata": {},
   "outputs": [],
   "source": [
    "df=pd.read_excel(r'example.xlsx')\n",
    "df.fillna(130, inplace = True)\n",
    "df"
   ]
  },
  {
   "cell_type": "code",
   "execution_count": 37,
   "id": "a3be01ec",
   "metadata": {},
   "outputs": [
    {
     "name": "stdout",
     "output_type": "stream",
     "text": [
      "0    False\n",
      "1    False\n",
      "2    False\n",
      "3    False\n",
      "4    False\n",
      "5    False\n",
      "6    False\n",
      "7    False\n",
      "8    False\n",
      "dtype: bool\n"
     ]
    }
   ],
   "source": [
    "#Returns True for every row that is a duplicate, othwerwise False:\n",
    "print(df.duplicated())"
   ]
  },
  {
   "cell_type": "code",
   "execution_count": 13,
   "id": "42d36558",
   "metadata": {},
   "outputs": [
    {
     "name": "stdout",
     "output_type": "stream",
     "text": [
      "    dummy      date loc  x\n",
      "0     bar  20090101   a  1\n",
      "1     bar  20090102   a  3\n",
      "2     bar  20090103   a  5\n",
      "3     bar  20090101   b  1\n",
      "4     bar  20090102   b  3\n",
      "5     bar  20090103   b  5\n"
     ]
    }
   ],
   "source": [
    "df=pd.read_csv(r'foo.csv')\n",
    "print(df)"
   ]
  },
  {
   "cell_type": "code",
   "execution_count": 25,
   "id": "db636753",
   "metadata": {},
   "outputs": [
    {
     "name": "stdout",
     "output_type": "stream",
     "text": [
      "   Duration\n",
      "0        60\n",
      "1        60\n",
      "2        60\n",
      "3        45\n",
      "4        45\n"
     ]
    }
   ],
   "source": [
    "df=pd.read_json('check.json')\n",
    "#print(df, index=[0]) \n",
    "print(df.to_string()) "
   ]
  },
  {
   "cell_type": "code",
   "execution_count": 27,
   "id": "37b8db00",
   "metadata": {},
   "outputs": [
    {
     "name": "stdout",
     "output_type": "stream",
     "text": [
      "0    1\n",
      "1    7\n",
      "2    2\n",
      "dtype: int64\n",
      "1\n"
     ]
    }
   ],
   "source": [
    "import pandas as pd\n",
    "a = [1, 7, 2]\n",
    "myvar = pd.Series(a)\n",
    "print(myvar)\n",
    "print(myvar[0])"
   ]
  },
  {
   "cell_type": "code",
   "execution_count": 28,
   "id": "5a51303d",
   "metadata": {},
   "outputs": [
    {
     "name": "stdout",
     "output_type": "stream",
     "text": [
      "x    1\n",
      "y    7\n",
      "z    2\n",
      "dtype: int64\n",
      "7\n"
     ]
    }
   ],
   "source": [
    "import pandas as pd\n",
    "a = [1, 7, 2]\n",
    "myvar = pd.Series(a, index = [\"x\", \"y\", \"z\"])\n",
    "print(myvar)\n",
    "print(myvar[\"y\"])"
   ]
  },
  {
   "cell_type": "code",
   "execution_count": 29,
   "id": "6ddc655d",
   "metadata": {},
   "outputs": [
    {
     "name": "stdout",
     "output_type": "stream",
     "text": [
      "day1    420\n",
      "day2    380\n",
      "day3    390\n",
      "dtype: int64\n"
     ]
    }
   ],
   "source": [
    "import pandas as pd\n",
    "calories = {\"day1\": 420, \"day2\": 380, \"day3\": 390}\n",
    "myvar = pd.Series(calories)\n",
    "print(myvar)"
   ]
  },
  {
   "cell_type": "code",
   "execution_count": 30,
   "id": "bef6271b",
   "metadata": {},
   "outputs": [
    {
     "name": "stdout",
     "output_type": "stream",
     "text": [
      "   calories  duration\n",
      "0       420        50\n",
      "1       380        40\n",
      "2       390        45\n"
     ]
    }
   ],
   "source": [
    "import pandas as pd\n",
    "data = {\n",
    "  \"calories\": [420, 380, 390],\n",
    "  \"duration\": [50, 40, 45]\n",
    "}\n",
    "#load data into a DataFrame object:\n",
    "df = pd.DataFrame(data)\n",
    "print(df) "
   ]
  },
  {
   "cell_type": "code",
   "execution_count": 38,
   "id": "747962d9",
   "metadata": {},
   "outputs": [
    {
     "name": "stdout",
     "output_type": "stream",
     "text": [
      "   id  Name_x subject_id_x Name_y subject_id_y\n",
      "0   1    Alex         sub1  Billy         sub2\n",
      "1   2     Amy         sub2  Brian         sub4\n",
      "2   3   Allen         sub4   Bran         sub3\n",
      "3   4   Alice         sub6  Bryce         sub6\n",
      "4   5  Ayoung         sub5  Betty         sub5\n"
     ]
    }
   ],
   "source": [
    "import pandas as pd  \n",
    "left = pd.DataFrame({  \n",
    "   'id':[1,2,3,4,5],  \n",
    "   'Name': ['Alex', 'Amy', 'Allen', 'Alice', 'Ayoung'],  \n",
    "   'subject_id':['sub1','sub2','sub4','sub6','sub5']})  \n",
    "right = pd.DataFrame({  \n",
    "    'id':[1,2,3,4,5],  \n",
    "   'Name': ['Billy', 'Brian', 'Bran', 'Bryce', 'Betty'],  \n",
    "   'subject_id':['sub2','sub4','sub3','sub6','sub5']})  \n",
    "print(pd.merge(left,right,on='id')) "
   ]
  },
  {
   "cell_type": "code",
   "execution_count": 39,
   "id": "aa7bf83f",
   "metadata": {},
   "outputs": [
    {
     "name": "stdout",
     "output_type": "stream",
     "text": [
      "      Name  Percentage   Course\n",
      "0   Parker          82     B.Sc\n",
      "1    Smith          98     B.Ed\n",
      "2     John          91  M.Phill\n",
      "3  William          87       BA\n"
     ]
    }
   ],
   "source": [
    "data = {'Name': ['Parker', 'Smith', 'John', 'William'],  \n",
    "   'Percentage': [82, 98, 91, 87],  \n",
    "   'Course': ['B.Sc','B.Ed','M.Phill','BA']}  \n",
    "df = pd.DataFrame(data)  \n",
    "  \n",
    "grouped = df.groupby('Course')  \n",
    "print (df.groupby('Course').filter(lambda x: len(x) >= 1))  "
   ]
  },
  {
   "cell_type": "code",
   "execution_count": 40,
   "id": "8b67db5f",
   "metadata": {},
   "outputs": [
    {
     "data": {
      "text/plain": [
       "Name          object\n",
       "Percentage     int64\n",
       "Course        object\n",
       "dtype: object"
      ]
     },
     "execution_count": 40,
     "metadata": {},
     "output_type": "execute_result"
    }
   ],
   "source": [
    "df.dtypes"
   ]
  },
  {
   "cell_type": "code",
   "execution_count": 48,
   "id": "32f1dee2",
   "metadata": {},
   "outputs": [],
   "source": [
    "dtypes = {\n",
    "    \"first_name\": \"category\",\n",
    "    \"gender\": \"category\",\n",
    "    \"type\": \"category\",\n",
    "    \"state\": \"category\",\n",
    "    \"party\": \"category\",\n",
    "}\n",
    "df = pd.read_csv(\"legislators-historical.csv\",\n",
    "    dtype=dtypes,\n",
    "    usecols=list(dtypes) + [\"birthday\", \"last_name\"],\n",
    "    parse_dates=[\"birthday\"]\n",
    ")"
   ]
  },
  {
   "cell_type": "code",
   "execution_count": null,
   "id": "77343d95",
   "metadata": {},
   "outputs": [],
   "source": [
    "\n",
    "SELECT state, count(name)\n",
    "FROM df\n",
    "GROUP BY state\n",
    "ORDER BY state;"
   ]
  },
  {
   "cell_type": "code",
   "execution_count": 43,
   "id": "7e74aea3",
   "metadata": {},
   "outputs": [
    {
     "data": {
      "text/plain": [
       "state\n",
       "AK      17\n",
       "AL     211\n",
       "AR     117\n",
       "AS       2\n",
       "AZ      51\n",
       "CA     373\n",
       "CO      93\n",
       "CT     240\n",
       "DC       2\n",
       "DE      97\n",
       "DK       9\n",
       "FL     166\n",
       "GA     319\n",
       "GU       5\n",
       "HI      25\n",
       "IA     206\n",
       "ID      59\n",
       "IL     493\n",
       "IN     345\n",
       "KS     143\n",
       "KY     374\n",
       "LA     199\n",
       "MA     427\n",
       "MD     306\n",
       "ME     175\n",
       "MI     300\n",
       "MN     162\n",
       "MO     337\n",
       "MS     156\n",
       "MT      52\n",
       "NC     360\n",
       "ND      44\n",
       "NE     129\n",
       "NH     181\n",
       "NJ     361\n",
       "NM      58\n",
       "NV      56\n",
       "NY    1478\n",
       "OH     681\n",
       "OK      94\n",
       "OL       2\n",
       "OR      92\n",
       "PA    1057\n",
       "PI      13\n",
       "PR      19\n",
       "RI     108\n",
       "SC     252\n",
       "SD      51\n",
       "TN     302\n",
       "TX     269\n",
       "UT      55\n",
       "VA     435\n",
       "VI       4\n",
       "VT     116\n",
       "WA      97\n",
       "WI     199\n",
       "WV     121\n",
       "WY      41\n",
       "Name: last_name, dtype: int64"
      ]
     },
     "execution_count": 43,
     "metadata": {},
     "output_type": "execute_result"
    }
   ],
   "source": [
    "n_by_state = df.groupby(\"state\")[\"last_name\"].count()\n",
    "n_by_state"
   ]
  },
  {
   "cell_type": "code",
   "execution_count": 46,
   "id": "c99af790",
   "metadata": {},
   "outputs": [
    {
     "data": {
      "text/plain": [
       "state\n",
       "AK      17\n",
       "AL     211\n",
       "AR     117\n",
       "AS       2\n",
       "AZ      51\n",
       "CA     373\n",
       "CO      93\n",
       "CT     240\n",
       "DC       2\n",
       "DE      97\n",
       "DK       9\n",
       "FL     166\n",
       "GA     319\n",
       "GU       5\n",
       "HI      25\n",
       "IA     206\n",
       "ID      59\n",
       "IL     493\n",
       "IN     345\n",
       "KS     143\n",
       "KY     374\n",
       "LA     199\n",
       "MA     427\n",
       "MD     306\n",
       "ME     175\n",
       "MI     300\n",
       "MN     162\n",
       "MO     337\n",
       "MS     156\n",
       "MT      52\n",
       "NC     360\n",
       "ND      44\n",
       "NE     129\n",
       "NH     181\n",
       "NJ     361\n",
       "NM      58\n",
       "NV      56\n",
       "NY    1478\n",
       "OH     681\n",
       "OK      94\n",
       "OL       2\n",
       "OR      92\n",
       "PA    1057\n",
       "PI      13\n",
       "PR      19\n",
       "RI     108\n",
       "SC     252\n",
       "SD      51\n",
       "TN     302\n",
       "TX     269\n",
       "UT      55\n",
       "VA     435\n",
       "VI       4\n",
       "VT     116\n",
       "WA      97\n",
       "WI     199\n",
       "WV     121\n",
       "WY      41\n",
       "Name: gender, dtype: int64"
      ]
     },
     "execution_count": 46,
     "metadata": {},
     "output_type": "execute_result"
    }
   ],
   "source": [
    "n_by_state = df.groupby(\"state\")[\"gender\"].count()\n",
    "n_by_state"
   ]
  },
  {
   "cell_type": "code",
   "execution_count": 49,
   "id": "a80eaac4",
   "metadata": {},
   "outputs": [
    {
     "data": {
      "text/html": [
       "<div>\n",
       "<style scoped>\n",
       "    .dataframe tbody tr th:only-of-type {\n",
       "        vertical-align: middle;\n",
       "    }\n",
       "\n",
       "    .dataframe tbody tr th {\n",
       "        vertical-align: top;\n",
       "    }\n",
       "\n",
       "    .dataframe thead th {\n",
       "        text-align: right;\n",
       "    }\n",
       "</style>\n",
       "<table border=\"1\" class=\"dataframe\">\n",
       "  <thead>\n",
       "    <tr style=\"text-align: right;\">\n",
       "      <th></th>\n",
       "      <th>last_name</th>\n",
       "      <th>first_name</th>\n",
       "      <th>birthday</th>\n",
       "      <th>gender</th>\n",
       "      <th>type</th>\n",
       "      <th>state</th>\n",
       "      <th>party</th>\n",
       "    </tr>\n",
       "  </thead>\n",
       "  <tbody>\n",
       "    <tr>\n",
       "      <th>0</th>\n",
       "      <td>Bassett</td>\n",
       "      <td>Richard</td>\n",
       "      <td>1745-04-02</td>\n",
       "      <td>M</td>\n",
       "      <td>sen</td>\n",
       "      <td>DE</td>\n",
       "      <td>Anti-Administration</td>\n",
       "    </tr>\n",
       "    <tr>\n",
       "      <th>1</th>\n",
       "      <td>Bland</td>\n",
       "      <td>Theodorick</td>\n",
       "      <td>1742-03-21</td>\n",
       "      <td>M</td>\n",
       "      <td>rep</td>\n",
       "      <td>VA</td>\n",
       "      <td>NaN</td>\n",
       "    </tr>\n",
       "    <tr>\n",
       "      <th>2</th>\n",
       "      <td>Burke</td>\n",
       "      <td>Aedanus</td>\n",
       "      <td>1743-06-16</td>\n",
       "      <td>M</td>\n",
       "      <td>rep</td>\n",
       "      <td>SC</td>\n",
       "      <td>NaN</td>\n",
       "    </tr>\n",
       "    <tr>\n",
       "      <th>3</th>\n",
       "      <td>Carroll</td>\n",
       "      <td>Daniel</td>\n",
       "      <td>1730-07-22</td>\n",
       "      <td>M</td>\n",
       "      <td>rep</td>\n",
       "      <td>MD</td>\n",
       "      <td>NaN</td>\n",
       "    </tr>\n",
       "    <tr>\n",
       "      <th>4</th>\n",
       "      <td>Clymer</td>\n",
       "      <td>George</td>\n",
       "      <td>1739-03-16</td>\n",
       "      <td>M</td>\n",
       "      <td>rep</td>\n",
       "      <td>PA</td>\n",
       "      <td>NaN</td>\n",
       "    </tr>\n",
       "    <tr>\n",
       "      <th>...</th>\n",
       "      <td>...</td>\n",
       "      <td>...</td>\n",
       "      <td>...</td>\n",
       "      <td>...</td>\n",
       "      <td>...</td>\n",
       "      <td>...</td>\n",
       "      <td>...</td>\n",
       "    </tr>\n",
       "    <tr>\n",
       "      <th>12131</th>\n",
       "      <td>Conway</td>\n",
       "      <td>Connie</td>\n",
       "      <td>1950-09-25</td>\n",
       "      <td>F</td>\n",
       "      <td>rep</td>\n",
       "      <td>CA</td>\n",
       "      <td>Republican</td>\n",
       "    </tr>\n",
       "    <tr>\n",
       "      <th>12132</th>\n",
       "      <td>Flores</td>\n",
       "      <td>Mayra</td>\n",
       "      <td>1986-01-01</td>\n",
       "      <td>F</td>\n",
       "      <td>rep</td>\n",
       "      <td>TX</td>\n",
       "      <td>Republican</td>\n",
       "    </tr>\n",
       "    <tr>\n",
       "      <th>12133</th>\n",
       "      <td>Sempolinski</td>\n",
       "      <td>Joseph</td>\n",
       "      <td>1983-02-10</td>\n",
       "      <td>M</td>\n",
       "      <td>rep</td>\n",
       "      <td>NY</td>\n",
       "      <td>Republican</td>\n",
       "    </tr>\n",
       "    <tr>\n",
       "      <th>12134</th>\n",
       "      <td>Inhofe</td>\n",
       "      <td>James</td>\n",
       "      <td>1934-11-17</td>\n",
       "      <td>M</td>\n",
       "      <td>sen</td>\n",
       "      <td>OK</td>\n",
       "      <td>Republican</td>\n",
       "    </tr>\n",
       "    <tr>\n",
       "      <th>12135</th>\n",
       "      <td>Sasse</td>\n",
       "      <td>Benjamin</td>\n",
       "      <td>1972-02-22</td>\n",
       "      <td>M</td>\n",
       "      <td>sen</td>\n",
       "      <td>NE</td>\n",
       "      <td>Republican</td>\n",
       "    </tr>\n",
       "  </tbody>\n",
       "</table>\n",
       "<p>12136 rows × 7 columns</p>\n",
       "</div>"
      ],
      "text/plain": [
       "         last_name  first_name   birthday gender type state  \\\n",
       "0          Bassett     Richard 1745-04-02      M  sen    DE   \n",
       "1            Bland  Theodorick 1742-03-21      M  rep    VA   \n",
       "2            Burke     Aedanus 1743-06-16      M  rep    SC   \n",
       "3          Carroll      Daniel 1730-07-22      M  rep    MD   \n",
       "4           Clymer      George 1739-03-16      M  rep    PA   \n",
       "...            ...         ...        ...    ...  ...   ...   \n",
       "12131       Conway      Connie 1950-09-25      F  rep    CA   \n",
       "12132       Flores       Mayra 1986-01-01      F  rep    TX   \n",
       "12133  Sempolinski      Joseph 1983-02-10      M  rep    NY   \n",
       "12134       Inhofe       James 1934-11-17      M  sen    OK   \n",
       "12135        Sasse    Benjamin 1972-02-22      M  sen    NE   \n",
       "\n",
       "                     party  \n",
       "0      Anti-Administration  \n",
       "1                      NaN  \n",
       "2                      NaN  \n",
       "3                      NaN  \n",
       "4                      NaN  \n",
       "...                    ...  \n",
       "12131           Republican  \n",
       "12132           Republican  \n",
       "12133           Republican  \n",
       "12134           Republican  \n",
       "12135           Republican  \n",
       "\n",
       "[12136 rows x 7 columns]"
      ]
     },
     "execution_count": 49,
     "metadata": {},
     "output_type": "execute_result"
    }
   ],
   "source": [
    "df.groupby([\"state\", \"gender\"])[\"last_name\"].count()\n",
    "df"
   ]
  },
  {
   "cell_type": "code",
   "execution_count": null,
   "id": "fbb9da91",
   "metadata": {},
   "outputs": [],
   "source": [
    "#To more closely emulate the SQL result and push the grouped-on columns back into columns in the result, you can use as_index=False:\n",
    "df.groupby([\"state\", \"gender\"], as_index=False)[\"last_name\"].count()"
   ]
  },
  {
   "cell_type": "code",
   "execution_count": null,
   "id": "a64700bd",
   "metadata": {},
   "outputs": [],
   "source": [
    "df.groupby(\"state\", sort=False)[\"last_name\"].count()"
   ]
  },
  {
   "cell_type": "code",
   "execution_count": null,
   "id": "88516ff4",
   "metadata": {},
   "outputs": [],
   "source": [
    "#ser.str.contains(\"Fed\").sum()\n",
    "mentions_fed = df[\"last_name\"].str.contains(\"Fed\")\n",
    "print(mentions_fed)"
   ]
  }
 ],
 "metadata": {
  "kernelspec": {
   "display_name": "Python 3 (ipykernel)",
   "language": "python",
   "name": "python3"
  },
  "language_info": {
   "codemirror_mode": {
    "name": "ipython",
    "version": 3
   },
   "file_extension": ".py",
   "mimetype": "text/x-python",
   "name": "python",
   "nbconvert_exporter": "python",
   "pygments_lexer": "ipython3",
   "version": "3.9.13"
  }
 },
 "nbformat": 4,
 "nbformat_minor": 5
}
