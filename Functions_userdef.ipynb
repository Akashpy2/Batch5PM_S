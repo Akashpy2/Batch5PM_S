{
 "cells": [
  {
   "cell_type": "code",
   "execution_count": null,
   "id": "edfd73b5",
   "metadata": {},
   "outputs": [],
   "source": [
    "Functions:\n",
    "Types:\n",
    "In Built \n",
    "User defined \n",
    "Anonymous (Lambda)\n",
    "Random\n",
    "Local and Global"
   ]
  },
  {
   "cell_type": "code",
   "execution_count": 1,
   "id": "b2128882",
   "metadata": {},
   "outputs": [],
   "source": [
    "def sample():\n",
    "    print('Hello')"
   ]
  },
  {
   "cell_type": "code",
   "execution_count": 3,
   "id": "10d42944",
   "metadata": {},
   "outputs": [
    {
     "name": "stdout",
     "output_type": "stream",
     "text": [
      "Hello\n",
      "Hello\n"
     ]
    }
   ],
   "source": [
    "def sample():\n",
    "    print('Hello')\n",
    "    \n",
    "sample()\n",
    "sample()"
   ]
  },
  {
   "cell_type": "code",
   "execution_count": 5,
   "id": "5d6a0510",
   "metadata": {},
   "outputs": [
    {
     "name": "stdout",
     "output_type": "stream",
     "text": [
      "8\n"
     ]
    }
   ],
   "source": [
    "def sample(a,b):\n",
    "    x=a+b\n",
    "    print(x)\n",
    "    \n",
    "sample(3,5)"
   ]
  },
  {
   "cell_type": "code",
   "execution_count": 6,
   "id": "ed633359",
   "metadata": {},
   "outputs": [
    {
     "data": {
      "text/plain": [
       "8"
      ]
     },
     "execution_count": 6,
     "metadata": {},
     "output_type": "execute_result"
    }
   ],
   "source": [
    "def sample(a,b):\n",
    "    x=a+b\n",
    "    return x\n",
    "    \n",
    "sample(3,5)"
   ]
  },
  {
   "cell_type": "code",
   "execution_count": 8,
   "id": "70212273",
   "metadata": {},
   "outputs": [
    {
     "name": "stdout",
     "output_type": "stream",
     "text": [
      "8\n"
     ]
    }
   ],
   "source": [
    "def sample(a,b):\n",
    "    x=a+b\n",
    "    return x\n",
    "    \n",
    "r=sample(3,5)\n",
    "print(r)"
   ]
  },
  {
   "cell_type": "code",
   "execution_count": 9,
   "id": "6e5c2e87",
   "metadata": {},
   "outputs": [
    {
     "name": "stdout",
     "output_type": "stream",
     "text": [
      "8 15\n"
     ]
    }
   ],
   "source": [
    "def sample(a,b):\n",
    "    x=a+b\n",
    "    y=a*b\n",
    "    return x,y\n",
    "    \n",
    "r1, r2=sample(3,5)\n",
    "print(r1,r2)"
   ]
  },
  {
   "cell_type": "code",
   "execution_count": 10,
   "id": "f28e7e7d",
   "metadata": {},
   "outputs": [
    {
     "name": "stdout",
     "output_type": "stream",
     "text": [
      "student Name:  ram student Rank:  2\n"
     ]
    }
   ],
   "source": [
    "#Positional arguments\n",
    "def stddt(name,rank):\n",
    "    print('student Name: ' , name,'student Rank: ', rank )\n",
    "stddt('ram',2)"
   ]
  },
  {
   "cell_type": "code",
   "execution_count": 11,
   "id": "1315581c",
   "metadata": {},
   "outputs": [
    {
     "ename": "TypeError",
     "evalue": "stddt() missing 1 required positional argument: 'rank'",
     "output_type": "error",
     "traceback": [
      "\u001b[1;31m---------------------------------------------------------------------------\u001b[0m",
      "\u001b[1;31mTypeError\u001b[0m                                 Traceback (most recent call last)",
      "\u001b[1;32m~\\AppData\\Local\\Temp\\ipykernel_1332\\2937497238.py\u001b[0m in \u001b[0;36m<module>\u001b[1;34m\u001b[0m\n\u001b[1;32m----> 1\u001b[1;33m \u001b[0mstddt\u001b[0m\u001b[1;33m(\u001b[0m\u001b[1;34m'ram'\u001b[0m\u001b[1;33m)\u001b[0m\u001b[1;33m\u001b[0m\u001b[1;33m\u001b[0m\u001b[0m\n\u001b[0m",
      "\u001b[1;31mTypeError\u001b[0m: stddt() missing 1 required positional argument: 'rank'"
     ]
    }
   ],
   "source": [
    "stddt('ram')"
   ]
  },
  {
   "cell_type": "code",
   "execution_count": 13,
   "id": "879e1400",
   "metadata": {},
   "outputs": [
    {
     "name": "stdout",
     "output_type": "stream",
     "text": [
      "sum is:   70\n",
      "sum is:   35\n"
     ]
    }
   ],
   "source": [
    "def add(a,c,b=40):\n",
    "    tot = a+b+c\n",
    "    print ('sum is:  ' , tot)\n",
    "\n",
    "add(10,20)\n",
    "add(10,20,5)"
   ]
  },
  {
   "cell_type": "code",
   "execution_count": 16,
   "id": "94840095",
   "metadata": {},
   "outputs": [
    {
     "name": "stdout",
     "output_type": "stream",
     "text": [
      "The popular technology is  Python\n",
      "The popular technology is  ('Java', 'SAS', 'Python')\n"
     ]
    }
   ],
   "source": [
    "def my_funct(*Tech):\n",
    "    print(\"The popular technology is \" , Tech[2])\n",
    "    print(\"The popular technology is \" , Tech)\n",
    "my_funct(\"Java\", \"SAS\", \"Python\")"
   ]
  },
  {
   "cell_type": "code",
   "execution_count": 17,
   "id": "8389f44c",
   "metadata": {},
   "outputs": [
    {
     "ename": "TypeError",
     "evalue": "my_funct() takes 1 positional argument but 3 were given",
     "output_type": "error",
     "traceback": [
      "\u001b[1;31m---------------------------------------------------------------------------\u001b[0m",
      "\u001b[1;31mTypeError\u001b[0m                                 Traceback (most recent call last)",
      "\u001b[1;32m~\\AppData\\Local\\Temp\\ipykernel_1332\\183479842.py\u001b[0m in \u001b[0;36m<module>\u001b[1;34m\u001b[0m\n\u001b[0;32m      2\u001b[0m     \u001b[0mprint\u001b[0m\u001b[1;33m(\u001b[0m\u001b[1;34m\"The popular technology is \"\u001b[0m \u001b[1;33m,\u001b[0m \u001b[0mTech\u001b[0m\u001b[1;33m[\u001b[0m\u001b[1;36m2\u001b[0m\u001b[1;33m]\u001b[0m\u001b[1;33m)\u001b[0m\u001b[1;33m\u001b[0m\u001b[1;33m\u001b[0m\u001b[0m\n\u001b[0;32m      3\u001b[0m     \u001b[0mprint\u001b[0m\u001b[1;33m(\u001b[0m\u001b[1;34m\"The popular technology is \"\u001b[0m \u001b[1;33m,\u001b[0m \u001b[0mTech\u001b[0m\u001b[1;33m)\u001b[0m\u001b[1;33m\u001b[0m\u001b[1;33m\u001b[0m\u001b[0m\n\u001b[1;32m----> 4\u001b[1;33m \u001b[0mmy_funct\u001b[0m\u001b[1;33m(\u001b[0m\u001b[1;34m\"Java\"\u001b[0m\u001b[1;33m,\u001b[0m \u001b[1;34m\"SAS\"\u001b[0m\u001b[1;33m,\u001b[0m \u001b[1;34m\"Python\"\u001b[0m\u001b[1;33m)\u001b[0m\u001b[1;33m\u001b[0m\u001b[1;33m\u001b[0m\u001b[0m\n\u001b[0m",
      "\u001b[1;31mTypeError\u001b[0m: my_funct() takes 1 positional argument but 3 were given"
     ]
    }
   ],
   "source": [
    "def my_funct(Tech):\n",
    "    print(\"The popular technology is \" , Tech[2])\n",
    "    print(\"The popular technology is \" , Tech)\n",
    "my_funct(\"Java\", \"SAS\", \"Python\")"
   ]
  },
  {
   "cell_type": "code",
   "execution_count": 19,
   "id": "4a68d734",
   "metadata": {},
   "outputs": [
    {
     "name": "stdout",
     "output_type": "stream",
     "text": [
      "Java\n",
      "SAS\n",
      "Python\n"
     ]
    }
   ],
   "source": [
    "def my_funct(*Tech):\n",
    "    for i in Tech:\n",
    "        print(i)\n",
    "my_funct(\"Java\", \"SAS\", \"Python\")"
   ]
  },
  {
   "cell_type": "code",
   "execution_count": 20,
   "id": "1a699b9b",
   "metadata": {},
   "outputs": [
    {
     "name": "stdout",
     "output_type": "stream",
     "text": [
      "The popular technology is Python\n"
     ]
    }
   ],
   "source": [
    "# input as keyword arguments for function\n",
    "#send arguments with the key = value syntax.\n",
    "def my_funct(Tech1,Tech2,Tech3):\n",
    "  print(\"The popular technology is \" + Tech3)\n",
    "\n",
    "my_funct(Tech1 = \"Java\", Tech2 = \"SAS\", Tech3 = \"Python\")"
   ]
  },
  {
   "cell_type": "code",
   "execution_count": 21,
   "id": "12913383",
   "metadata": {},
   "outputs": [
    {
     "name": "stdout",
     "output_type": "stream",
     "text": [
      "who are you? kumar\n",
      "hello kumar\n"
     ]
    }
   ],
   "source": [
    "'''The %s token allows me to insert (and potentially format) a string. \n",
    "Notice that the %s token is replaced by whatever I pass to the string after \n",
    "the % symbol. Notice also that I am using a tuple here as well \n",
    "(when you only have one string using a tuple is optional) to illustrate that multiple \n",
    "strings can be inserted and formatted in one statement.\n",
    "'''\n",
    "name = input(\"who are you? \")\n",
    "print(\"hello %s\" % (name,))"
   ]
  },
  {
   "cell_type": "code",
   "execution_count": 22,
   "id": "5d51a869",
   "metadata": {},
   "outputs": [
    {
     "name": "stdout",
     "output_type": "stream",
     "text": [
      "The popular technology is  {'Tech1': 'Java', 'Tech2': 'SAS', 'Tech3': 'Python'}\n"
     ]
    }
   ],
   "source": [
    "def my_funct(**Tech):\n",
    "  print(\"The popular technology is \", Tech)\n",
    "\n",
    "my_funct(Tech1 = \"Java\", Tech2 = \"SAS\", Tech3 = \"Python\")"
   ]
  },
  {
   "cell_type": "code",
   "execution_count": 23,
   "id": "5be97254",
   "metadata": {},
   "outputs": [
    {
     "ename": "TypeError",
     "evalue": "my_funct() got an unexpected keyword argument 'Tech1'",
     "output_type": "error",
     "traceback": [
      "\u001b[1;31m---------------------------------------------------------------------------\u001b[0m",
      "\u001b[1;31mTypeError\u001b[0m                                 Traceback (most recent call last)",
      "\u001b[1;32m~\\AppData\\Local\\Temp\\ipykernel_1332\\1737796840.py\u001b[0m in \u001b[0;36m<module>\u001b[1;34m\u001b[0m\n\u001b[0;32m      2\u001b[0m   \u001b[0mprint\u001b[0m\u001b[1;33m(\u001b[0m\u001b[1;34m\"The popular technology is \"\u001b[0m\u001b[1;33m,\u001b[0m \u001b[0mTech\u001b[0m\u001b[1;33m)\u001b[0m\u001b[1;33m\u001b[0m\u001b[1;33m\u001b[0m\u001b[0m\n\u001b[0;32m      3\u001b[0m \u001b[1;33m\u001b[0m\u001b[0m\n\u001b[1;32m----> 4\u001b[1;33m \u001b[0mmy_funct\u001b[0m\u001b[1;33m(\u001b[0m\u001b[0mTech1\u001b[0m \u001b[1;33m=\u001b[0m \u001b[1;34m\"Java\"\u001b[0m\u001b[1;33m,\u001b[0m \u001b[0mTech2\u001b[0m \u001b[1;33m=\u001b[0m \u001b[1;34m\"SAS\"\u001b[0m\u001b[1;33m,\u001b[0m \u001b[0mTech3\u001b[0m \u001b[1;33m=\u001b[0m \u001b[1;34m\"Python\"\u001b[0m\u001b[1;33m)\u001b[0m\u001b[1;33m\u001b[0m\u001b[1;33m\u001b[0m\u001b[0m\n\u001b[0m",
      "\u001b[1;31mTypeError\u001b[0m: my_funct() got an unexpected keyword argument 'Tech1'"
     ]
    }
   ],
   "source": [
    "def my_funct(*Tech):\n",
    "  print(\"The popular technology is \", Tech)\n",
    "\n",
    "my_funct(Tech1 = \"Java\", Tech2 = \"SAS\", Tech3 = \"Python\")"
   ]
  },
  {
   "cell_type": "code",
   "execution_count": 30,
   "id": "5d939d39",
   "metadata": {},
   "outputs": [
    {
     "name": "stdout",
     "output_type": "stream",
     "text": [
      "Tech1 Java\n",
      "Tech2 SAS\n",
      "Tech3 Python\n"
     ]
    }
   ],
   "source": [
    "def my_funct(**Tech):\n",
    "    for i,j in Tech.items():\n",
    "        print(i,j)\n",
    "my_funct(Tech1 = \"Java\", Tech2 = \"SAS\", Tech3 = \"Python\")"
   ]
  },
  {
   "cell_type": "code",
   "execution_count": 29,
   "id": "b64c6300",
   "metadata": {},
   "outputs": [
    {
     "name": "stdout",
     "output_type": "stream",
     "text": [
      "Faraz  is a  male  of age  20\n"
     ]
    }
   ],
   "source": [
    "def myfunc(name, gender, age):\n",
    "    print (name,\" is a \", gender, \" of age \", age)\n",
    "\n",
    "\n",
    "mydict = {'name': \"Faraz\", 'gender': \"male\", 'age': \"20\"}\n",
    "\n",
    "myfunc(**mydict)"
   ]
  },
  {
   "cell_type": "code",
   "execution_count": 31,
   "id": "0178a81a",
   "metadata": {},
   "outputs": [
    {
     "name": "stdout",
     "output_type": "stream",
     "text": [
      "I work with the follwoing people: \n",
      "Faraz\n",
      "Rukhshan\n",
      "Muzammil\n"
     ]
    }
   ],
   "source": [
    "def myfunc(**kwargs):\n",
    "    print(\"I work with the follwoing people: \")\n",
    "    for people in kwargs:\n",
    "        print (kwargs[people])\n",
    "\n",
    "\n",
    "mydict = {'person1': \"Faraz\", 'person2': \"Rukhshan\", 'person3': \"Muzammil\"}\n",
    "\n",
    "myfunc(**mydict)"
   ]
  },
  {
   "cell_type": "code",
   "execution_count": 32,
   "id": "a43b7302",
   "metadata": {},
   "outputs": [
    {
     "name": "stdout",
     "output_type": "stream",
     "text": [
      "{'param': 'test'}\n"
     ]
    }
   ],
   "source": [
    "#call a function in python using a dictionary\n",
    "d = dict(param='test')\n",
    "\n",
    "def f(param):\n",
    "    print(param)\n",
    "\n",
    "f(d)"
   ]
  },
  {
   "cell_type": "code",
   "execution_count": 34,
   "id": "b73b569c",
   "metadata": {},
   "outputs": [
    {
     "name": "stdout",
     "output_type": "stream",
     "text": [
      "1 2\n"
     ]
    }
   ],
   "source": [
    "d = dict(p1=1, p2=2)\n",
    "def f2(p1,p2):\n",
    "    print(p1, p2)\n",
    "f2(**d)"
   ]
  },
  {
   "cell_type": "code",
   "execution_count": 35,
   "id": "75ef7356",
   "metadata": {},
   "outputs": [
    {
     "name": "stdout",
     "output_type": "stream",
     "text": [
      "10 200\n",
      "(20, 30)\n",
      "{'c': 300}\n"
     ]
    }
   ],
   "source": [
    "#both positional and keyword arguments\n",
    "def myfunc3(a, *posargs, b=2, **kwargs):\n",
    "    print(a, b)\n",
    "    print(posargs)\n",
    "    print(kwargs)\n",
    "\n",
    "mylist = [10, 20, 30]\n",
    "mydict = {'b': 200, 'c': 300}\n",
    "\n",
    "myfunc3(*mylist, **mydict)\n"
   ]
  },
  {
   "cell_type": "code",
   "execution_count": null,
   "id": "27371c3a",
   "metadata": {},
   "outputs": [],
   "source": []
  }
 ],
 "metadata": {
  "kernelspec": {
   "display_name": "Python 3 (ipykernel)",
   "language": "python",
   "name": "python3"
  },
  "language_info": {
   "codemirror_mode": {
    "name": "ipython",
    "version": 3
   },
   "file_extension": ".py",
   "mimetype": "text/x-python",
   "name": "python",
   "nbconvert_exporter": "python",
   "pygments_lexer": "ipython3",
   "version": "3.9.13"
  }
 },
 "nbformat": 4,
 "nbformat_minor": 5
}
