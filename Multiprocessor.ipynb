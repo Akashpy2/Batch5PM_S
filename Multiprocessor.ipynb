{
 "cells": [
  {
   "cell_type": "raw",
   "id": "db8b3a86",
   "metadata": {},
   "source": [
    "Multiprocessing refers to the ability of a system to support more than one processor at the same time. Applications in a multiprocessing system are broken to smaller routines that run independently. The operating system allocates these threads to the processors improving performance of the system"
   ]
  },
  {
   "cell_type": "code",
   "execution_count": 1,
   "id": "d61f19d3",
   "metadata": {},
   "outputs": [],
   "source": [
    "import multiprocessing \n",
    "import time"
   ]
  },
  {
   "cell_type": "code",
   "execution_count": 4,
   "id": "1b801d2e",
   "metadata": {},
   "outputs": [
    {
     "name": "stdout",
     "output_type": "stream",
     "text": [
      "walking 1 sec..\n",
      "Done walking....\n",
      "finished in 1.01 second(s)\n"
     ]
    }
   ],
   "source": [
    "start =time.perf_counter()\n",
    "def perform(): \n",
    "    print('walking 1 sec..') \n",
    "    time.sleep(1)\n",
    "    print('Done walking....') \n",
    "    \n",
    "perform()\n",
    "finish =time.perf_counter()\n",
    "print(f'finished in {round(finish-start, 2)} second(s)') "
   ]
  },
  {
   "cell_type": "code",
   "execution_count": 6,
   "id": "ef98313a",
   "metadata": {},
   "outputs": [
    {
     "name": "stdout",
     "output_type": "stream",
     "text": [
      "walking 1 sec..\n",
      "Done walking....\n",
      "walking 1 sec..\n",
      "Done walking....\n",
      "finished in 2.16 second(s)\n"
     ]
    }
   ],
   "source": [
    "start =time.perf_counter()\n",
    "def perform(): \n",
    "    print('walking 1 sec..') \n",
    "    time.sleep(1)\n",
    "    print('Done walking....') \n",
    "    \n",
    "p1=multiprocessing.Process(target=perform())\n",
    "p2=multiprocessing.Process(target=perform())\n",
    "\n",
    "p1.start()\n",
    "p2.start()\n",
    "\n",
    "p1.join()  \n",
    "p2.join()\n",
    "\n",
    "finish =time.perf_counter()\n",
    "print(f'finished in {round(finish-start, 2)} second(s)') "
   ]
  },
  {
   "cell_type": "code",
   "execution_count": 7,
   "id": "3c08a80f",
   "metadata": {},
   "outputs": [
    {
     "name": "stdout",
     "output_type": "stream",
     "text": [
      "finished in 0.35 second(s)\n"
     ]
    }
   ],
   "source": [
    "start =time.perf_counter()\n",
    "def perform(): \n",
    "    print('walking 1 sec..') \n",
    "    time.sleep(1)\n",
    "    print('Done walking....') \n",
    "    \n",
    "processes=[]\n",
    "\n",
    "for _ in range(10):   # _ throughaway variable name\n",
    "    p=multiprocessing.Process(target=perform)\n",
    "    p.start()\n",
    "    processes.append(p)\n",
    "\n",
    "for process in processes:\n",
    "    process.join() #It will wait until it finishes\n",
    "\n",
    "finish =time.perf_counter()\n",
    "print(f'finished in {round(finish-start, 2)} second(s)') "
   ]
  },
  {
   "cell_type": "code",
   "execution_count": null,
   "id": "b58a7e9e",
   "metadata": {},
   "outputs": [],
   "source": []
  }
 ],
 "metadata": {
  "kernelspec": {
   "display_name": "Python 3 (ipykernel)",
   "language": "python",
   "name": "python3"
  },
  "language_info": {
   "codemirror_mode": {
    "name": "ipython",
    "version": 3
   },
   "file_extension": ".py",
   "mimetype": "text/x-python",
   "name": "python",
   "nbconvert_exporter": "python",
   "pygments_lexer": "ipython3",
   "version": "3.9.13"
  }
 },
 "nbformat": 4,
 "nbformat_minor": 5
}
