{
 "cells": [
  {
   "cell_type": "raw",
   "id": "3dbe0411",
   "metadata": {},
   "source": [
    "'''\n",
    "Iterator in python is an object that is used to iterate over iterable objects like lists, tuples, dicts, and sets. The iterator object is initialized using the iter() method. It uses the next() method for iteration.\n",
    "\n",
    "__iter__(): The iter() method is called for the initialization of an iterator. This returns an iterator object\n",
    "\n",
    "__next__(): The next method returns the next value for the iterable. When we use a for loop to traverse any iterable object, internally it uses the iter() method to get an iterator object, which further uses the next() method to iterate over. This method raises a StopIteration to signal the end of the iteration.\n",
    "\n",
    "Each time we call the next method on the iterator gives us the next element. \n",
    "If there are no more elements, it raises a StopIteration .\n",
    "'''"
   ]
  },
  {
   "cell_type": "code",
   "execution_count": 1,
   "id": "c6fd8b82",
   "metadata": {},
   "outputs": [
    {
     "name": "stdout",
     "output_type": "stream",
     "text": [
      "3\n"
     ]
    }
   ],
   "source": [
    "l = [3,4,5,6] \n",
    "print(l[0])"
   ]
  },
  {
   "cell_type": "code",
   "execution_count": 2,
   "id": "f7dce788",
   "metadata": {},
   "outputs": [
    {
     "name": "stdout",
     "output_type": "stream",
     "text": [
      "3\n",
      "4\n",
      "5\n",
      "6\n"
     ]
    }
   ],
   "source": [
    "l = [3,4,5,6] \n",
    "for i in l: \n",
    "    print(i)\n"
   ]
  },
  {
   "cell_type": "code",
   "execution_count": 6,
   "id": "adbe89f4",
   "metadata": {},
   "outputs": [
    {
     "name": "stdout",
     "output_type": "stream",
     "text": [
      "<list_iterator object at 0x0000017F944B01F0>\n",
      "3\n"
     ]
    }
   ],
   "source": [
    "l = [3,4,5,6] \n",
    "t=iter(l)\n",
    "print(t)\n",
    "print(t.__next__())"
   ]
  },
  {
   "cell_type": "code",
   "execution_count": 7,
   "id": "2c374c98",
   "metadata": {},
   "outputs": [
    {
     "name": "stdout",
     "output_type": "stream",
     "text": [
      "3\n",
      "4\n"
     ]
    }
   ],
   "source": [
    "l = [3,4,5,6] \n",
    "t=iter(l)\n",
    "print(t.__next__())\n",
    "print(t.__next__())"
   ]
  },
  {
   "cell_type": "code",
   "execution_count": 10,
   "id": "e1d39b11",
   "metadata": {},
   "outputs": [
    {
     "name": "stdout",
     "output_type": "stream",
     "text": [
      "3\n",
      "4\n"
     ]
    }
   ],
   "source": [
    "l = [3,4,5,6] \n",
    "t=iter(l)\n",
    "print(next(t))\n",
    "print(next(t))"
   ]
  },
  {
   "cell_type": "code",
   "execution_count": 13,
   "id": "9f70110e",
   "metadata": {},
   "outputs": [
    {
     "name": "stdout",
     "output_type": "stream",
     "text": [
      "H\n",
      "y\n"
     ]
    }
   ],
   "source": [
    "s = \"Hyderabad\"\n",
    "it = iter(s)\n",
    " \n",
    "print(next(it))\n",
    "print(next(it))"
   ]
  },
  {
   "cell_type": "code",
   "execution_count": 22,
   "id": "31e33459",
   "metadata": {},
   "outputs": [
    {
     "name": "stdout",
     "output_type": "stream",
     "text": [
      "H\n",
      "y\n",
      "d\n",
      "e\n",
      "r\n",
      "a\n",
      "b\n",
      "a\n",
      "d\n"
     ]
    }
   ],
   "source": [
    "iterable_value = 'Hyderabad'\n",
    "iterable_obj = iter(iterable_value)\n",
    "\n",
    "while True:\n",
    "    try:\n",
    "\n",
    "# Iterate by calling next\n",
    "        item = next(iterable_obj)\n",
    "        print(item)\n",
    "    except StopIteration:\n",
    "        break"
   ]
  },
  {
   "cell_type": "code",
   "execution_count": 20,
   "id": "87c31291",
   "metadata": {},
   "outputs": [
    {
     "name": "stdout",
     "output_type": "stream",
     "text": [
      "3\n",
      "4\n",
      "5\n",
      "6\n",
      "3\n"
     ]
    }
   ],
   "source": [
    "#Custom Defined Iterators\n",
    "#iterates from 5 to given value\n",
    "# An iterable user defined type\n",
    "class Test:\n",
    " \n",
    "    # Constructor\n",
    "    def __init__(self, limit):\n",
    "        self.limit = limit\n",
    " \n",
    "    # Creates iterator object\n",
    "    # Called when iteration is initialized\n",
    "    def __iter__(self):\n",
    "        self.x = 3\n",
    "        return self\n",
    " \n",
    "    # To move to next element. In Python 3,\n",
    "    # we should replace next with __next__\n",
    "    def __next__(self):\n",
    " \n",
    "        # Store current value ofx\n",
    "        x = self.x\n",
    " \n",
    "        # Stop iteration if limit is reached\n",
    "        if x > self.limit:\n",
    "            raise StopIteration\n",
    " \n",
    "        # Else increment and return old value\n",
    "        self.x = x + 1;\n",
    "        return x\n",
    " \n",
    "# Prints numbers from 3 to 6\n",
    "for i in Test(6):\n",
    "    print(i)\n",
    " \n",
    "# Prints from 3\n",
    "for i in Test(3):\n",
    "    print(i)"
   ]
  },
  {
   "cell_type": "code",
   "execution_count": null,
   "id": "255b06c0",
   "metadata": {},
   "outputs": [],
   "source": [
    "class PowTwo:\n",
    "    \"\"\"Class to implement an iterator\n",
    "    of powers of two\"\"\"\n",
    "\n",
    "    def __init__(self, max=0):\n",
    "        self.max = max\n",
    "\n",
    "    def __iter__(self):\n",
    "        self.n = 0\n",
    "        return self\n",
    "\n",
    "    def __next__(self):\n",
    "        if self.n <= self.max:\n",
    "            result = 2 ** self.n\n",
    "            self.n += 1\n",
    "            return result\n",
    "        else:\n",
    "            raise StopIteration\n",
    "\n",
    "\n",
    "# create an object\n",
    "numbers = PowTwo(3)\n",
    "\n",
    "# create an iterable from the object\n",
    "i = iter(numbers)\n",
    "\n",
    "# Using next to get to the next iterator element\n",
    "print(next(i)) # prints 1\n",
    "print(next(i)) # prints 2\n",
    "print(next(i)) # prints 4\n",
    "print(next(i)) # prints 8\n",
    "print(next(i)) # raises StopIteration exception\n",
    "#************OR**************\n",
    "for i in PowTwo(3):\n",
    "    print(i)"
   ]
  }
 ],
 "metadata": {
  "kernelspec": {
   "display_name": "Python 3 (ipykernel)",
   "language": "python",
   "name": "python3"
  },
  "language_info": {
   "codemirror_mode": {
    "name": "ipython",
    "version": 3
   },
   "file_extension": ".py",
   "mimetype": "text/x-python",
   "name": "python",
   "nbconvert_exporter": "python",
   "pygments_lexer": "ipython3",
   "version": "3.9.13"
  }
 },
 "nbformat": 4,
 "nbformat_minor": 5
}
