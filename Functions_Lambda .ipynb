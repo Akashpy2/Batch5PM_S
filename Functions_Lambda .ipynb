{
 "cells": [
  {
   "cell_type": "code",
   "execution_count": null,
   "id": "978663e6",
   "metadata": {},
   "outputs": [],
   "source": [
    "Anonymous function:\n",
    "-------------------------------\n",
    "An anonymous function is a function that is defined without a name. \n",
    "While normal functions are defined using the def keyword in Python, \n",
    "anonymous functions are defined using the lambda keyword. \n",
    "Hence, anonymous functions are also called lambda functions\n",
    "\n",
    "lambda keyword is used to create anonymous functions\n",
    "Lambda functions can have any number of arguments but only one expression. \n",
    "The expression is evaluated and returned. \n",
    "Lambda functions can be used wherever function objects are required\n",
    "\n",
    "#lambda arguments:expression(any number of arguments but only one expression)\n",
    "\n",
    "The filter() function extracts elements from an iterable (list, tuple etc.) \n",
    "for which a function returns True.\n",
    "\n",
    "The map() function executes a specified function for each item in an iterable. \n",
    "The item is sent to the function as a parameter. map(function, iterables)\n",
    "\n",
    "Reduce:\n",
    "-------\n",
    "The functools module is for higher-order functions: functions that \n",
    "act on or return other functions. In general, any callable object can be \n",
    "treated as a function for the purposes of this module.\n",
    "reduce(function, sequence)"
   ]
  },
  {
   "cell_type": "code",
   "execution_count": 1,
   "id": "55fd930f",
   "metadata": {},
   "outputs": [
    {
     "name": "stdout",
     "output_type": "stream",
     "text": [
      "10\n"
     ]
    }
   ],
   "source": [
    "def double(x):\n",
    "   return x * 2\n",
    "print(double(5))"
   ]
  },
  {
   "cell_type": "code",
   "execution_count": 9,
   "id": "afeabe28",
   "metadata": {},
   "outputs": [
    {
     "name": "stdout",
     "output_type": "stream",
     "text": [
      "10\n"
     ]
    }
   ],
   "source": [
    "a=lambda x:x*2\n",
    "print(a(5))"
   ]
  },
  {
   "cell_type": "code",
   "execution_count": 10,
   "id": "084260d6",
   "metadata": {},
   "outputs": [
    {
     "name": "stdout",
     "output_type": "stream",
     "text": [
      "10\n"
     ]
    }
   ],
   "source": [
    "a=lambda x,y:x*y\n",
    "print(a(2,5))"
   ]
  },
  {
   "cell_type": "code",
   "execution_count": 19,
   "id": "e7a78ffb",
   "metadata": {},
   "outputs": [
    {
     "name": "stdout",
     "output_type": "stream",
     "text": [
      "[4, 6, 8, 12]\n"
     ]
    }
   ],
   "source": [
    "my_list = [1, 5, 4, 6, 8, 11, 3, 12]\n",
    "def even(n):\n",
    "    return n%2==0\n",
    "#print(even)\n",
    "new_list = list(filter(even, my_list))\n",
    "print(new_list)"
   ]
  },
  {
   "cell_type": "code",
   "execution_count": 21,
   "id": "47147ee3",
   "metadata": {},
   "outputs": [
    {
     "name": "stdout",
     "output_type": "stream",
     "text": [
      "[4, 6, 8, 12]\n"
     ]
    }
   ],
   "source": [
    "a=list(filter(lambda x:(x%2==0),my_list))\n",
    "print(a)"
   ]
  },
  {
   "cell_type": "code",
   "execution_count": 26,
   "id": "ac985cbe",
   "metadata": {},
   "outputs": [
    {
     "name": "stdout",
     "output_type": "stream",
     "text": [
      "[3, 7, 6, 8, 10, 13, 5, 14]\n"
     ]
    }
   ],
   "source": [
    "a=list(map(lambda x:(x+2),my_list))\n",
    "print(a)"
   ]
  },
  {
   "cell_type": "code",
   "execution_count": 23,
   "id": "b87a6a4b",
   "metadata": {},
   "outputs": [],
   "source": [
    "from functools import reduce"
   ]
  },
  {
   "cell_type": "code",
   "execution_count": 28,
   "id": "f1781886",
   "metadata": {},
   "outputs": [
    {
     "name": "stdout",
     "output_type": "stream",
     "text": [
      "66\n"
     ]
    }
   ],
   "source": [
    "r=reduce(lambda x,y:(x+y),a)\n",
    "print(r)"
   ]
  },
  {
   "cell_type": "code",
   "execution_count": null,
   "id": "f9f89f97",
   "metadata": {},
   "outputs": [],
   "source": []
  }
 ],
 "metadata": {
  "kernelspec": {
   "display_name": "Python 3 (ipykernel)",
   "language": "python",
   "name": "python3"
  },
  "language_info": {
   "codemirror_mode": {
    "name": "ipython",
    "version": 3
   },
   "file_extension": ".py",
   "mimetype": "text/x-python",
   "name": "python",
   "nbconvert_exporter": "python",
   "pygments_lexer": "ipython3",
   "version": "3.9.13"
  }
 },
 "nbformat": 4,
 "nbformat_minor": 5
}
