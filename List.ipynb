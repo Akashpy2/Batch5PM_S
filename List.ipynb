{
 "cells": [
  {
   "cell_type": "raw",
   "id": "6e2a9ac0",
   "metadata": {},
   "source": [
    "List - It is mutable - edit ,change , update\n",
    "Represented with []\n",
    "list can have numbers,characters and both\n",
    "\n",
    "One dimensional and Multi dimentional\n",
    "H Y D E R A B A D\n",
    "0 1 2 3 4 5 6 7 8\n",
    " -8-7-6-5-4-3-2-1\n",
    "\n",
    "[7,2,4,6,5]\n",
    " 0 1 2 3 4\n",
    "     -3-2-1\n",
    " \n",
    "[1,2],[3,4],[5,6]\n",
    " 0 1   0 1   0 1\n",
    "  0     1     2\n",
    "\n",
    "Functions\n",
    "---------\n"
   ]
  },
  {
   "cell_type": "code",
   "execution_count": 1,
   "id": "53d60b87",
   "metadata": {},
   "outputs": [
    {
     "data": {
      "text/plain": [
       "'abc'"
      ]
     },
     "execution_count": 1,
     "metadata": {},
     "output_type": "execute_result"
    }
   ],
   "source": [
    "l1=[1,2,3,4,5]\n",
    "l2=[1,2,'abc',4,5]\n",
    "l3=['a','b','c']\n",
    "\n",
    "l2[2]\n"
   ]
  },
  {
   "cell_type": "code",
   "execution_count": 2,
   "id": "45cc28b2",
   "metadata": {},
   "outputs": [
    {
     "data": {
      "text/plain": [
       "[1, 2, 'abc', 6, 5]"
      ]
     },
     "execution_count": 2,
     "metadata": {},
     "output_type": "execute_result"
    }
   ],
   "source": [
    "l2[3]=6\n",
    "l2"
   ]
  },
  {
   "cell_type": "code",
   "execution_count": 4,
   "id": "e8cd8d31",
   "metadata": {},
   "outputs": [
    {
     "data": {
      "text/plain": [
       "[6, 5]"
      ]
     },
     "execution_count": 4,
     "metadata": {},
     "output_type": "execute_result"
    }
   ],
   "source": [
    "l2[3:5]"
   ]
  },
  {
   "cell_type": "code",
   "execution_count": 5,
   "id": "1a59d0be",
   "metadata": {},
   "outputs": [
    {
     "data": {
      "text/plain": [
       "[1, 2, 'abc', 6, 5]"
      ]
     },
     "execution_count": 5,
     "metadata": {},
     "output_type": "execute_result"
    }
   ],
   "source": [
    "l2[0:5]"
   ]
  },
  {
   "cell_type": "code",
   "execution_count": 7,
   "id": "5b0fa2df",
   "metadata": {},
   "outputs": [
    {
     "name": "stdout",
     "output_type": "stream",
     "text": [
      "[5, 6]\n",
      "[[1, 2], [3, 4]]\n",
      "[3, 4]\n",
      "[[1, 2], [3, 4]]\n"
     ]
    }
   ],
   "source": [
    "m1=[[1,2],[3,4],[5,6]]\n",
    "r=m1[2]\n",
    "print(r)\n",
    "r=m1[0:2]\n",
    "print(r)\n",
    "r=m1[-2]\n",
    "print(r)\n",
    "r=m1[-3:-1]\n",
    "print(r)"
   ]
  },
  {
   "cell_type": "code",
   "execution_count": 14,
   "id": "463595c5",
   "metadata": {},
   "outputs": [
    {
     "name": "stdout",
     "output_type": "stream",
     "text": [
      "6\n",
      "2\n",
      "[[1, 5], [3, 4], [5, 6]]\n",
      "[[1, 5], [5, 5], [5, 6]]\n"
     ]
    }
   ],
   "source": [
    "m1=[[1,2],[3,4],[5,6]]\n",
    "r=m1[2][1]\n",
    "print(r)\n",
    "r=m1[0][1]\n",
    "print(r)\n",
    "m1[0][1]=5\n",
    "print(m1)\n",
    "m1[1]=[5,5]\n",
    "print(m1)"
   ]
  },
  {
   "cell_type": "code",
   "execution_count": 17,
   "id": "b20187f5",
   "metadata": {},
   "outputs": [
    {
     "data": {
      "text/plain": [
       "[2, 3, 4, 5, 8]"
      ]
     },
     "execution_count": 17,
     "metadata": {},
     "output_type": "execute_result"
    }
   ],
   "source": [
    "l1=[8,2,3,5,4]\n",
    "l1.sort()\n",
    "l1"
   ]
  },
  {
   "cell_type": "code",
   "execution_count": 18,
   "id": "0bcf5eb6",
   "metadata": {},
   "outputs": [
    {
     "data": {
      "text/plain": [
       "[8, 5, 4, 3, 2]"
      ]
     },
     "execution_count": 18,
     "metadata": {},
     "output_type": "execute_result"
    }
   ],
   "source": [
    "l1=[8,2,3,5,4]\n",
    "l1.sort(reverse=True)\n",
    "l1"
   ]
  },
  {
   "cell_type": "code",
   "execution_count": 19,
   "id": "a86bf29d",
   "metadata": {},
   "outputs": [
    {
     "data": {
      "text/plain": [
       "[8, 2, 3, 5]"
      ]
     },
     "execution_count": 19,
     "metadata": {},
     "output_type": "execute_result"
    }
   ],
   "source": [
    "l1=[8,2,3,5,4]\n",
    "l1.pop()\n",
    "l1"
   ]
  },
  {
   "cell_type": "code",
   "execution_count": 5,
   "id": "32062534",
   "metadata": {},
   "outputs": [
    {
     "data": {
      "text/plain": [
       "[1, 2]"
      ]
     },
     "execution_count": 5,
     "metadata": {},
     "output_type": "execute_result"
    }
   ],
   "source": [
    "l1.pop()\n",
    "l1"
   ]
  },
  {
   "cell_type": "code",
   "execution_count": 20,
   "id": "b6afab1d",
   "metadata": {},
   "outputs": [
    {
     "data": {
      "text/plain": [
       "[8, 2, 3, 5, 4, 9]"
      ]
     },
     "execution_count": 20,
     "metadata": {},
     "output_type": "execute_result"
    }
   ],
   "source": [
    "l1=[8,2,3,5,4]\n",
    "l1.append(9)\n",
    "l1"
   ]
  },
  {
   "cell_type": "code",
   "execution_count": 21,
   "id": "c9156bdc",
   "metadata": {},
   "outputs": [
    {
     "data": {
      "text/plain": [
       "[8, 3, 5, 4]"
      ]
     },
     "execution_count": 21,
     "metadata": {},
     "output_type": "execute_result"
    }
   ],
   "source": [
    "l1=[8,2,3,5,4]\n",
    "l1.remove(2)\n",
    "l1"
   ]
  },
  {
   "cell_type": "code",
   "execution_count": 22,
   "id": "388de956",
   "metadata": {},
   "outputs": [
    {
     "name": "stdout",
     "output_type": "stream",
     "text": [
      "4\n",
      "8\n",
      "3\n"
     ]
    }
   ],
   "source": [
    "print(len(l1))\n",
    "print(max(l1))\n",
    "print(min(l1))"
   ]
  },
  {
   "cell_type": "code",
   "execution_count": 6,
   "id": "9714d7bd",
   "metadata": {},
   "outputs": [
    {
     "name": "stdout",
     "output_type": "stream",
     "text": [
      "[8, 2, 66, 3, 5, 4]\n"
     ]
    }
   ],
   "source": [
    "l1=[8,2,3,5,4]\n",
    "l1.insert(2,66)\n",
    "print(l1)"
   ]
  },
  {
   "cell_type": "code",
   "execution_count": 7,
   "id": "8c444dc4",
   "metadata": {},
   "outputs": [
    {
     "name": "stdout",
     "output_type": "stream",
     "text": [
      "[4, 5, 3, 66, 2, 8]\n"
     ]
    }
   ],
   "source": [
    "l1.reverse()\n",
    "print(l1)"
   ]
  },
  {
   "cell_type": "code",
   "execution_count": 26,
   "id": "e9e3cf5e",
   "metadata": {},
   "outputs": [
    {
     "name": "stdout",
     "output_type": "stream",
     "text": [
      "2\n",
      "1\n"
     ]
    }
   ],
   "source": [
    "l1=[8,2,3,5,4,2]\n",
    "r=l1.count(2)  # return no of 2 are present in the list\n",
    "print(r)\n",
    "r=l1.index(2)  # return the index of value 2 \n",
    "print(r)"
   ]
  },
  {
   "cell_type": "code",
   "execution_count": 8,
   "id": "2056088e",
   "metadata": {},
   "outputs": [
    {
     "name": "stdout",
     "output_type": "stream",
     "text": [
      "range(0, 10, 3)\n",
      "range(0, 10)\n"
     ]
    }
   ],
   "source": [
    "a=range(10)[0:10:3]\n",
    "print(a)\n",
    "a=range(10)\n",
    "print(a)"
   ]
  },
  {
   "cell_type": "code",
   "execution_count": 30,
   "id": "014ed858",
   "metadata": {},
   "outputs": [
    {
     "name": "stdout",
     "output_type": "stream",
     "text": [
      "Original List: ['Windows', 'macOS', 'Linux']\n",
      "['Linux', 'macOS', 'Windows']\n"
     ]
    }
   ],
   "source": [
    "systems = ['Windows', 'macOS', 'Linux']\n",
    "print('Original List:', systems)\n",
    "\n",
    "# Reversing a list  \n",
    "#Syntax: reversed_list = systems[start:stop:step] \n",
    "reversed_list = systems[::-1]\n",
    "print(reversed_list)"
   ]
  },
  {
   "cell_type": "code",
   "execution_count": 9,
   "id": "45d0a2d4",
   "metadata": {},
   "outputs": [
    {
     "data": {
      "text/plain": [
       "[1, 2, 3, 5, 4, 2]"
      ]
     },
     "execution_count": 9,
     "metadata": {},
     "output_type": "execute_result"
    }
   ],
   "source": [
    "l1=[1,2,3]\n",
    "l2=[5,4,2]\n",
    "l1+l2"
   ]
  },
  {
   "cell_type": "code",
   "execution_count": 32,
   "id": "b22eb260",
   "metadata": {},
   "outputs": [
    {
     "data": {
      "text/plain": [
       "[1, 2, 3, 1, 2, 3]"
      ]
     },
     "execution_count": 32,
     "metadata": {},
     "output_type": "execute_result"
    }
   ],
   "source": [
    "l1*2"
   ]
  },
  {
   "cell_type": "code",
   "execution_count": 12,
   "id": "c6bce06a",
   "metadata": {},
   "outputs": [
    {
     "ename": "NameError",
     "evalue": "name 'l2' is not defined",
     "output_type": "error",
     "traceback": [
      "\u001b[1;31m---------------------------------------------------------------------------\u001b[0m",
      "\u001b[1;31mNameError\u001b[0m                                 Traceback (most recent call last)",
      "\u001b[1;32m~\\AppData\\Local\\Temp\\ipykernel_12024\\2371406284.py\u001b[0m in \u001b[0;36m<module>\u001b[1;34m\u001b[0m\n\u001b[1;32m----> 1\u001b[1;33m \u001b[0ml2\u001b[0m\u001b[1;33m\u001b[0m\u001b[1;33m\u001b[0m\u001b[0m\n\u001b[0m",
      "\u001b[1;31mNameError\u001b[0m: name 'l2' is not defined"
     ]
    }
   ],
   "source": [
    "l2"
   ]
  },
  {
   "cell_type": "code",
   "execution_count": 11,
   "id": "52ad0e4c",
   "metadata": {},
   "outputs": [],
   "source": [
    "del l2"
   ]
  },
  {
   "cell_type": "code",
   "execution_count": 13,
   "id": "d037bfbf",
   "metadata": {},
   "outputs": [
    {
     "data": {
      "text/plain": [
       "[]"
      ]
     },
     "execution_count": 13,
     "metadata": {},
     "output_type": "execute_result"
    }
   ],
   "source": [
    "l1.clear()\n",
    "l1"
   ]
  },
  {
   "cell_type": "code",
   "execution_count": null,
   "id": "4b1f686c",
   "metadata": {},
   "outputs": [],
   "source": []
  }
 ],
 "metadata": {
  "kernelspec": {
   "display_name": "Python 3 (ipykernel)",
   "language": "python",
   "name": "python3"
  },
  "language_info": {
   "codemirror_mode": {
    "name": "ipython",
    "version": 3
   },
   "file_extension": ".py",
   "mimetype": "text/x-python",
   "name": "python",
   "nbconvert_exporter": "python",
   "pygments_lexer": "ipython3",
   "version": "3.9.13"
  }
 },
 "nbformat": 4,
 "nbformat_minor": 5
}
