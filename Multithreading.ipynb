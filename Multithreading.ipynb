{
 "cells": [
  {
   "cell_type": "raw",
   "id": "f14b90f3",
   "metadata": {},
   "source": [
    "Multithreading is the ability of a central processing unit (CPU) (or a single core in a multi-core processor) to provide multiple threads of execution concurrently, supported by the operating system. \n",
    "\n",
    "Running several threads is similar to running several different programs concurrently −\n",
    "Multiple threads within a process share the same data space with the main thread and can therefore share information or communicate with each other more easily than if they were separate processes.\n",
    "\n",
    "Threading Module ; run() − The run() method is the entry point for a thread. start() − The start() method starts a thread by calling the run method"
   ]
  },
  {
   "cell_type": "code",
   "execution_count": 1,
   "id": "22121585",
   "metadata": {},
   "outputs": [
    {
     "name": "stdout",
     "output_type": "stream",
     "text": [
      "cirle\n",
      "cirle\n",
      "cirle\n",
      "cirle\n",
      "cirle\n",
      "square\n",
      "square\n",
      "square\n",
      "square\n",
      "square\n"
     ]
    }
   ],
   "source": [
    "class circle:\n",
    "    def run(self):\n",
    "        for i in range(5):\n",
    "            print(\"cirle\")\n",
    "\n",
    "class square:\n",
    "    def run(self):\n",
    "        for i in range(5):\n",
    "            print(\"square\")\n",
    "\n",
    "\n",
    "t1=circle()\n",
    "t2=square()\n",
    "\n",
    "t1.run()\n",
    "t2.run()"
   ]
  },
  {
   "cell_type": "code",
   "execution_count": 2,
   "id": "3ef37cfd",
   "metadata": {},
   "outputs": [],
   "source": [
    "from threading import *"
   ]
  },
  {
   "cell_type": "code",
   "execution_count": 11,
   "id": "bdafd07c",
   "metadata": {},
   "outputs": [
    {
     "name": "stdout",
     "output_type": "stream",
     "text": [
      "cirle\n",
      "cirle\n",
      "cirle\n",
      "cirle\n",
      "cirle\n",
      "cirle\n",
      "cirle\n",
      "cirle\n",
      "cirle\n",
      "cirle\n",
      "cirle\n",
      "cirle\n",
      "cirle\n",
      "cirle\n",
      "cirle\n",
      "square\n",
      "square\n",
      "square\n",
      "square\n",
      "square\n",
      "square\n",
      "square\n",
      "square\n",
      "square\n",
      "square\n",
      "square\n",
      "square\n",
      "square\n",
      "square\n",
      "square\n"
     ]
    }
   ],
   "source": [
    "class circle(Thread):\n",
    "    def run(self):\n",
    "        for i in range(15):\n",
    "            print(\"cirle\")\n",
    "\n",
    "class square(Thread):\n",
    "    def run(self):\n",
    "        for i in range(15):\n",
    "            print(\"square\")\n",
    "\n",
    "\n",
    "t1=circle()\n",
    "t2=square()\n",
    "\n",
    "t1.start()\n",
    "t2.start()"
   ]
  },
  {
   "cell_type": "code",
   "execution_count": 8,
   "id": "d8c165cd",
   "metadata": {},
   "outputs": [],
   "source": [
    "from time import sleep"
   ]
  },
  {
   "cell_type": "code",
   "execution_count": 14,
   "id": "73800523",
   "metadata": {},
   "outputs": [
    {
     "name": "stdout",
     "output_type": "stream",
     "text": [
      "cirle\n",
      "square\n",
      "cirle\n",
      "square\n",
      "cirle\n",
      "square\n",
      "cirle\n",
      "square\n",
      "cirle\n",
      "square\n",
      "cirle\n",
      "square\n",
      "cirle\n",
      "square\n",
      "cirle\n",
      "square\n",
      "cirle\n",
      "square\n",
      "cirle\n",
      "square\n",
      "cirle\n",
      "square\n",
      "cirle\n",
      "square\n",
      "cirle\n",
      "square\n",
      "cirle\n",
      "square\n",
      "cirle\n",
      "square\n",
      "Bye\n"
     ]
    }
   ],
   "source": [
    "class circle(Thread):\n",
    "    def run(self):\n",
    "        for i in range(15):\n",
    "            print(\"cirle\")\n",
    "            sleep(1)\n",
    "            \n",
    "class square(Thread):\n",
    "    def run(self):\n",
    "        for i in range(15):\n",
    "            print(\"square\")\n",
    "            sleep(1)\n",
    "\n",
    "t1=circle()\n",
    "t2=square()\n",
    "\n",
    "t1.start()\n",
    "sleep(0.2)\n",
    "t2.start()\n",
    "\n",
    "t1.join()\n",
    "t2.join()\n",
    "\n",
    "print(\"Bye\") "
   ]
  },
  {
   "cell_type": "code",
   "execution_count": null,
   "id": "e99707ee",
   "metadata": {},
   "outputs": [],
   "source": []
  }
 ],
 "metadata": {
  "kernelspec": {
   "display_name": "Python 3 (ipykernel)",
   "language": "python",
   "name": "python3"
  },
  "language_info": {
   "codemirror_mode": {
    "name": "ipython",
    "version": 3
   },
   "file_extension": ".py",
   "mimetype": "text/x-python",
   "name": "python",
   "nbconvert_exporter": "python",
   "pygments_lexer": "ipython3",
   "version": "3.9.13"
  }
 },
 "nbformat": 4,
 "nbformat_minor": 5
}
