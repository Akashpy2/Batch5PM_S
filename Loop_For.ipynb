{
 "cells": [
  {
   "cell_type": "code",
   "execution_count": 1,
   "id": "f758d8b1",
   "metadata": {},
   "outputs": [
    {
     "name": "stdout",
     "output_type": "stream",
     "text": [
      "0\n",
      "1\n",
      "2\n",
      "3\n",
      "4\n"
     ]
    }
   ],
   "source": [
    "for x in range(5):\n",
    "    print(x)"
   ]
  },
  {
   "cell_type": "code",
   "execution_count": 2,
   "id": "59586bcb",
   "metadata": {},
   "outputs": [
    {
     "name": "stdout",
     "output_type": "stream",
     "text": [
      "1\n",
      "2\n",
      "3\n",
      "4\n"
     ]
    }
   ],
   "source": [
    "for x in range(1,5):\n",
    "    print(x)"
   ]
  },
  {
   "cell_type": "code",
   "execution_count": 3,
   "id": "c4d4f674",
   "metadata": {},
   "outputs": [
    {
     "name": "stdout",
     "output_type": "stream",
     "text": [
      "1\n",
      "3\n",
      "5\n",
      "7\n",
      "9\n"
     ]
    }
   ],
   "source": [
    "for x in range(1,10,2):\n",
    "    print(x)"
   ]
  },
  {
   "cell_type": "code",
   "execution_count": 5,
   "id": "9a9dea84",
   "metadata": {},
   "outputs": [
    {
     "name": "stdout",
     "output_type": "stream",
     "text": [
      "1\n",
      "2\n",
      "3\n",
      "4\n"
     ]
    }
   ],
   "source": [
    "l=[1,2,3,4]\n",
    "for x in l:\n",
    "    print(x)"
   ]
  },
  {
   "cell_type": "code",
   "execution_count": 6,
   "id": "4dc913be",
   "metadata": {},
   "outputs": [
    {
     "name": "stdout",
     "output_type": "stream",
     "text": [
      "1\n",
      "2\n",
      "3\n",
      "4\n",
      "out\n"
     ]
    }
   ],
   "source": [
    "l=[1,2,3,4]\n",
    "for x in l:\n",
    "    print(x)\n",
    "else:\n",
    "    print('out')"
   ]
  },
  {
   "cell_type": "code",
   "execution_count": 6,
   "id": "96010cae",
   "metadata": {},
   "outputs": [
    {
     "name": "stdout",
     "output_type": "stream",
     "text": [
      "s\n",
      "a\n",
      "m\n",
      "p\n",
      "l\n",
      "e\n"
     ]
    }
   ],
   "source": [
    "l='sample'\n",
    "for x in l:\n",
    "    print(x)"
   ]
  },
  {
   "cell_type": "code",
   "execution_count": 9,
   "id": "271cd5f6",
   "metadata": {},
   "outputs": [
    {
     "name": "stdout",
     "output_type": "stream",
     "text": [
      "3\n",
      "6\n",
      "6\n"
     ]
    }
   ],
   "source": [
    "l=['App','Grapes','Orange']\n",
    "for x in l:\n",
    "    print(len(x))"
   ]
  },
  {
   "cell_type": "code",
   "execution_count": 11,
   "id": "76bf218b",
   "metadata": {},
   "outputs": [
    {
     "name": "stdout",
     "output_type": "stream",
     "text": [
      "Dell\n"
     ]
    },
    {
     "data": {
      "text/plain": [
       "'Samsung'"
      ]
     },
     "execution_count": 11,
     "metadata": {},
     "output_type": "execute_result"
    }
   ],
   "source": [
    "laptops = [\"Apple\", \"Asus\", \"Dell\", \"Samsung\"]\n",
    "laptops[0:3]\n",
    "laptops[0]\n",
    "laptops[1]\n",
    "print(laptops[2])\n",
    "laptops[3]"
   ]
  },
  {
   "cell_type": "code",
   "execution_count": 12,
   "id": "a3fe80e8",
   "metadata": {},
   "outputs": [
    {
     "data": {
      "text/plain": [
       "4"
      ]
     },
     "execution_count": 12,
     "metadata": {},
     "output_type": "execute_result"
    }
   ],
   "source": [
    "len(laptops)"
   ]
  },
  {
   "cell_type": "code",
   "execution_count": 15,
   "id": "9f6a54c6",
   "metadata": {},
   "outputs": [
    {
     "ename": "NameError",
     "evalue": "name 'xrange' is not defined",
     "output_type": "error",
     "traceback": [
      "\u001b[1;31m---------------------------------------------------------------------------\u001b[0m",
      "\u001b[1;31mNameError\u001b[0m                                 Traceback (most recent call last)",
      "\u001b[1;32m~\\AppData\\Local\\Temp\\ipykernel_10260\\1523658488.py\u001b[0m in \u001b[0;36m<module>\u001b[1;34m\u001b[0m\n\u001b[1;32m----> 1\u001b[1;33m \u001b[1;32mfor\u001b[0m \u001b[0mx\u001b[0m \u001b[1;32min\u001b[0m \u001b[0mxrange\u001b[0m\u001b[1;33m(\u001b[0m\u001b[0mlen\u001b[0m\u001b[1;33m(\u001b[0m\u001b[0mlaptops\u001b[0m\u001b[1;33m)\u001b[0m\u001b[1;33m)\u001b[0m\u001b[1;33m:\u001b[0m\u001b[1;33m\u001b[0m\u001b[1;33m\u001b[0m\u001b[0m\n\u001b[0m\u001b[0;32m      2\u001b[0m     \u001b[0mprint\u001b[0m\u001b[1;33m(\u001b[0m\u001b[0mlaptops\u001b[0m\u001b[1;33m[\u001b[0m\u001b[0mx\u001b[0m\u001b[1;33m]\u001b[0m\u001b[1;33m)\u001b[0m\u001b[1;33m\u001b[0m\u001b[1;33m\u001b[0m\u001b[0m\n",
      "\u001b[1;31mNameError\u001b[0m: name 'xrange' is not defined"
     ]
    }
   ],
   "source": [
    "for x in xrange(len(laptops)):\n",
    "    print(laptops[x])"
   ]
  },
  {
   "cell_type": "code",
   "execution_count": 16,
   "id": "c490911b",
   "metadata": {},
   "outputs": [
    {
     "name": "stdout",
     "output_type": "stream",
     "text": [
      "0\n",
      "1\n",
      "2\n",
      "3\n"
     ]
    }
   ],
   "source": [
    "for x in range(len(laptops)):\n",
    "    print(x)"
   ]
  },
  {
   "cell_type": "code",
   "execution_count": 3,
   "id": "3d0a7fc0",
   "metadata": {},
   "outputs": [
    {
     "name": "stdout",
     "output_type": "stream",
     "text": [
      "Apple\n",
      "Asus\n",
      "Dell\n",
      "Samsung\n"
     ]
    }
   ],
   "source": [
    "laptops = [\"Apple\", \"Asus\", \"Dell\", \"Samsung\"]\n",
    "for i in laptops:\n",
    "    print(i)"
   ]
  },
  {
   "cell_type": "code",
   "execution_count": 1,
   "id": "be01e67f",
   "metadata": {},
   "outputs": [
    {
     "name": "stdout",
     "output_type": "stream",
     "text": [
      "Apple\n",
      "Asus\n",
      "Dell\n",
      "Samsung\n"
     ]
    }
   ],
   "source": [
    "laptops = (\"Apple\", \"Asus\", \"Dell\", \"Samsung\")\n",
    "for i in laptops:\n",
    "    print(i)"
   ]
  },
  {
   "cell_type": "code",
   "execution_count": 2,
   "id": "c6f6159c",
   "metadata": {},
   "outputs": [
    {
     "name": "stdout",
     "output_type": "stream",
     "text": [
      "1\n",
      "50\n",
      "20\n",
      "40\n",
      "10\n",
      "30\n"
     ]
    }
   ],
   "source": [
    "numbers = {1,10,20,30,40,50}\n",
    "for i in numbers:\n",
    "    print(i)"
   ]
  },
  {
   "cell_type": "code",
   "execution_count": 5,
   "id": "b5d229df",
   "metadata": {},
   "outputs": [
    {
     "name": "stdout",
     "output_type": "stream",
     "text": [
      "a= 34\n",
      "b= 45\n"
     ]
    }
   ],
   "source": [
    "d=dict()\n",
    "d['a']=34\n",
    "d['b']=45\n",
    "for i in d:\n",
    "    #print('%s %d' %(i,d[i]))\n",
    "    print('%s= %d' %(i,d[i]))"
   ]
  },
  {
   "cell_type": "code",
   "execution_count": 17,
   "id": "0cf8735f",
   "metadata": {},
   "outputs": [
    {
     "name": "stdout",
     "output_type": "stream",
     "text": [
      "152\n"
     ]
    }
   ],
   "source": [
    "numbers = [1,10,20,30,40,50]\n",
    "sum = 1\n",
    "for number in numbers:\n",
    "    sum = sum + number\n",
    "print (sum)"
   ]
  },
  {
   "cell_type": "code",
   "execution_count": 1,
   "id": "5a7ec3fc",
   "metadata": {},
   "outputs": [
    {
     "name": "stdout",
     "output_type": "stream",
     "text": [
      "enter student name: k\n",
      "enter student num: 7\n"
     ]
    }
   ],
   "source": [
    "name = input('enter student name: ')\n",
    "age = int(input('enter student num: '))"
   ]
  },
  {
   "cell_type": "code",
   "execution_count": 24,
   "id": "c8022bf5",
   "metadata": {},
   "outputs": [
    {
     "name": "stdout",
     "output_type": "stream",
     "text": [
      "2\n",
      "40\n",
      "50\n"
     ]
    }
   ],
   "source": [
    "numbers = [1,2,3,40,50]\n",
    "for i in numbers:\n",
    "    if(i%2==0):\n",
    "        print(i)"
   ]
  },
  {
   "cell_type": "code",
   "execution_count": 25,
   "id": "dcc74d63",
   "metadata": {},
   "outputs": [
    {
     "name": "stdout",
     "output_type": "stream",
     "text": [
      "1\n",
      "3\n"
     ]
    }
   ],
   "source": [
    "numbers = [1,2,3,40,50]\n",
    "for i in numbers:\n",
    "    if(i%2!=0):\n",
    "        print(i)"
   ]
  },
  {
   "cell_type": "raw",
   "id": "e9a69bec",
   "metadata": {},
   "source": [
    "Using pass, Continue and Break "
   ]
  },
  {
   "cell_type": "code",
   "execution_count": 2,
   "id": "1600aa7b",
   "metadata": {},
   "outputs": [],
   "source": [
    "for x in [1, 2, 3]:\n",
    "    pass"
   ]
  },
  {
   "cell_type": "code",
   "execution_count": 3,
   "id": "2bac99b6",
   "metadata": {},
   "outputs": [
    {
     "name": "stdout",
     "output_type": "stream",
     "text": [
      "1\n",
      "2\n",
      "40\n",
      "50\n"
     ]
    }
   ],
   "source": [
    "numbers = [1,2,3,40,50]\n",
    "for i in numbers:\n",
    "    if(i==3):\n",
    "        continue\n",
    "    print(i)  "
   ]
  },
  {
   "cell_type": "code",
   "execution_count": 43,
   "id": "9a4a09a8",
   "metadata": {},
   "outputs": [
    {
     "name": "stdout",
     "output_type": "stream",
     "text": [
      "1\n",
      "2\n"
     ]
    }
   ],
   "source": [
    "numbers = [1,2,3,40,50]\n",
    "for i in numbers:\n",
    "    if(i==3):\n",
    "        break\n",
    "    print(i)  "
   ]
  },
  {
   "cell_type": "code",
   "execution_count": 33,
   "id": "27aad29e",
   "metadata": {},
   "outputs": [
    {
     "name": "stdout",
     "output_type": "stream",
     "text": [
      "3\n"
     ]
    }
   ],
   "source": [
    "numbers = [1,2,3,40,50]\n",
    "for i in numbers:\n",
    "    if(i==3):\n",
    "        print(i)\n",
    "        break"
   ]
  },
  {
   "cell_type": "code",
   "execution_count": 5,
   "id": "e53b5682",
   "metadata": {},
   "outputs": [
    {
     "name": "stdout",
     "output_type": "stream",
     "text": [
      "1\n",
      "2\n",
      "3\n",
      "Tickets Housefull\n"
     ]
    }
   ],
   "source": [
    "numbers = [1,2,3,40,50]\n",
    "c=5\n",
    "for i in numbers:\n",
    "    if(i>c):\n",
    "        print(\"Tickets Housefull\")\n",
    "        break\n",
    "    print(i)"
   ]
  },
  {
   "cell_type": "code",
   "execution_count": null,
   "id": "ffe1e0a0",
   "metadata": {},
   "outputs": [],
   "source": []
  }
 ],
 "metadata": {
  "kernelspec": {
   "display_name": "Python 3 (ipykernel)",
   "language": "python",
   "name": "python3"
  },
  "language_info": {
   "codemirror_mode": {
    "name": "ipython",
    "version": 3
   },
   "file_extension": ".py",
   "mimetype": "text/x-python",
   "name": "python",
   "nbconvert_exporter": "python",
   "pygments_lexer": "ipython3",
   "version": "3.9.13"
  }
 },
 "nbformat": 4,
 "nbformat_minor": 5
}
