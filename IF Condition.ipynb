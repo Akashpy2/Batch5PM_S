{
 "cells": [
  {
   "cell_type": "code",
   "execution_count": 5,
   "id": "3a1caea0",
   "metadata": {},
   "outputs": [
    {
     "ename": "IndentationError",
     "evalue": "expected an indented block (352321310.py, line 4)",
     "output_type": "error",
     "traceback": [
      "\u001b[1;36m  File \u001b[1;32m\"C:\\Users\\DELL\\AppData\\Local\\Temp\\ipykernel_12776\\352321310.py\"\u001b[1;36m, line \u001b[1;32m4\u001b[0m\n\u001b[1;33m    print('This condition =True')\u001b[0m\n\u001b[1;37m    ^\u001b[0m\n\u001b[1;31mIndentationError\u001b[0m\u001b[1;31m:\u001b[0m expected an indented block\n"
     ]
    }
   ],
   "source": [
    "a=15\n",
    "b=25\n",
    "if a>b:\n",
    "print('This condition =True')"
   ]
  },
  {
   "cell_type": "code",
   "execution_count": null,
   "id": "446e5fc5",
   "metadata": {},
   "outputs": [],
   "source": [
    "a=15\n",
    "b=25\n",
    "if a>b:\n",
    "    print('This condition =True')"
   ]
  },
  {
   "cell_type": "code",
   "execution_count": 3,
   "id": "f474c1ba",
   "metadata": {},
   "outputs": [
    {
     "name": "stdout",
     "output_type": "stream",
     "text": [
      "This condition =True\n"
     ]
    }
   ],
   "source": [
    "a=15\n",
    "b=25\n",
    "if a<b:\n",
    "    print('This condition =True')"
   ]
  },
  {
   "cell_type": "code",
   "execution_count": 4,
   "id": "718101d1",
   "metadata": {},
   "outputs": [
    {
     "name": "stdout",
     "output_type": "stream",
     "text": [
      "This condition =False\n"
     ]
    }
   ],
   "source": [
    "a=15\n",
    "b=25\n",
    "if a>b:\n",
    "    print('This condition =True')\n",
    "else:\n",
    "    print('This condition =False')"
   ]
  },
  {
   "cell_type": "code",
   "execution_count": 7,
   "id": "0ade5358",
   "metadata": {},
   "outputs": [],
   "source": [
    "a=15\n",
    "b=25\n",
    "if a>b:\n",
    "    print('This condition =True')\n",
    "elif a==b:\n",
    "    print('This condition =False')"
   ]
  },
  {
   "cell_type": "code",
   "execution_count": 9,
   "id": "8d99506a",
   "metadata": {},
   "outputs": [
    {
     "name": "stdout",
     "output_type": "stream",
     "text": [
      "This condition\n"
     ]
    }
   ],
   "source": [
    "a=15\n",
    "b=25\n",
    "if a>b:\n",
    "    print('This condition =True')\n",
    "elif a==b:\n",
    "    print('This condition =False')\n",
    "else:\n",
    "    print('This condition')"
   ]
  },
  {
   "cell_type": "code",
   "execution_count": 10,
   "id": "b87db227",
   "metadata": {},
   "outputs": [
    {
     "name": "stdout",
     "output_type": "stream",
     "text": [
      "This condition =False\n"
     ]
    }
   ],
   "source": [
    "a=15\n",
    "b=25\n",
    "if a>b:\n",
    "    print('This condition =True')\n",
    "elif a<b:\n",
    "    print('This condition =False')\n",
    "elif a==b:\n",
    "    print('This condition =False')\n",
    "else:\n",
    "    print('This condition')   \n"
   ]
  },
  {
   "cell_type": "code",
   "execution_count": 17,
   "id": "89b083e5",
   "metadata": {},
   "outputs": [
    {
     "name": "stdout",
     "output_type": "stream",
     "text": [
      "This condition =True\n",
      "This condition a\n"
     ]
    }
   ],
   "source": [
    "a=15\n",
    "if a<20:\n",
    "    print('This condition =True')\n",
    "    if a<20:\n",
    "        print('This condition a')\n",
    "    else:\n",
    "        print('This condition b')\n",
    "else:\n",
    "    print('This condition c')"
   ]
  },
  {
   "cell_type": "code",
   "execution_count": 16,
   "id": "ecc06b55",
   "metadata": {},
   "outputs": [
    {
     "name": "stdout",
     "output_type": "stream",
     "text": [
      "no class 2 in school\n"
     ]
    }
   ],
   "source": [
    "# Netsed if condions.\n",
    "\n",
    "stclass = 2\n",
    "stname='ram'\n",
    "section = 'Boys'\n",
    "\n",
    "if stclass == 3:\n",
    "    if section =='Boys':\n",
    "        if stname == 'ram':\n",
    "            print('give the box to him')\n",
    "        else:\n",
    "            print('no ram in class 2 and section boy')\n",
    "            \n",
    "    else:\n",
    "        print('in class 2 no boys section')\n",
    "else:\n",
    "    print('no class 2 in school')   "
   ]
  },
  {
   "cell_type": "code",
   "execution_count": 18,
   "id": "4caa173e",
   "metadata": {},
   "outputs": [],
   "source": [
    "a=15\n",
    "b=25\n",
    "if a>b:\n",
    "    pass"
   ]
  },
  {
   "cell_type": "code",
   "execution_count": null,
   "id": "a1901bb3",
   "metadata": {},
   "outputs": [],
   "source": []
  }
 ],
 "metadata": {
  "kernelspec": {
   "display_name": "Python 3 (ipykernel)",
   "language": "python",
   "name": "python3"
  },
  "language_info": {
   "codemirror_mode": {
    "name": "ipython",
    "version": 3
   },
   "file_extension": ".py",
   "mimetype": "text/x-python",
   "name": "python",
   "nbconvert_exporter": "python",
   "pygments_lexer": "ipython3",
   "version": "3.9.13"
  }
 },
 "nbformat": 4,
 "nbformat_minor": 5
}
