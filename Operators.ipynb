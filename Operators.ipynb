{
 "cells": [
  {
   "cell_type": "raw",
   "id": "27acf13f",
   "metadata": {},
   "source": [
    "Operators:\n",
    "Operators are used to perform operations on variables and values.\n",
    "\n",
    "Python divides the operators in the following groups:\n",
    "Arithmetic operators\n",
    "Assignment operators\n",
    "Comparison operators\n",
    "Logical operators\n",
    "Identity operators\n",
    "Membership operators\n",
    "Bitwise operators"
   ]
  },
  {
   "cell_type": "code",
   "execution_count": null,
   "id": "b3920397",
   "metadata": {},
   "outputs": [],
   "source": [
    "################Arthimetic operators###############  \n",
    "a = 21\n",
    "b = 10\n",
    "\n",
    "c = a + b\n",
    "print (\"Value of c is \", c)\n",
    "\n",
    "c = a - b\n",
    "print (\"Value of c is \", c )\n",
    "\n",
    "c = a * b\n",
    "print (\"Value of c is \", c) \n",
    "\n",
    "c = a / b\n",
    "print (\"Value of c is \", c)\n",
    "print(c)\n",
    "\n",
    "c = a % b\n",
    "print (\"Value of c is \", c)\n",
    "print(c)\n",
    "\n",
    "a = 2\n",
    "b = 3\n",
    "c = a**b \n",
    "print (\"Value of c is \", c)\n",
    "print(c)\n",
    "\n",
    "a = 10\n",
    "b = 5\n",
    "c = a//b \n",
    "print(c)\n",
    "print (\"Value of c is \", c)"
   ]
  },
  {
   "cell_type": "code",
   "execution_count": null,
   "id": "1472b56c",
   "metadata": {},
   "outputs": [],
   "source": [
    "#############Assignment operator#####################\n",
    "a=1\n",
    "b=c=s=g=2\n",
    "d,e,f = 3,4,'xyz'"
   ]
  },
  {
   "cell_type": "code",
   "execution_count": 1,
   "id": "462a3d5b",
   "metadata": {},
   "outputs": [
    {
     "data": {
      "text/plain": [
       "-5"
      ]
     },
     "execution_count": 1,
     "metadata": {},
     "output_type": "execute_result"
    }
   ],
   "source": [
    "##########Unary Operator###############\n",
    "a=5\n",
    "a\n",
    "-a\n",
    "a=-a\n",
    "a"
   ]
  },
  {
   "cell_type": "code",
   "execution_count": 2,
   "id": "dc7132da",
   "metadata": {},
   "outputs": [
    {
     "name": "stdout",
     "output_type": "stream",
     "text": [
      "x > y is False\n",
      "x < y is False\n",
      "x == y is True\n",
      "x != y is False\n",
      "x >= y is True\n",
      "x <= y is True\n"
     ]
    }
   ],
   "source": [
    "##########Comparsion operator or Relational###############\n",
    "x = 12\n",
    "y = 14\n",
    "\n",
    "x=y\n",
    "# Output: x > y is False\n",
    "print('x > y is',x>y)\n",
    "\n",
    "# Output: x < y is True\n",
    "print('x < y is',x<y)\n",
    "\n",
    "# Output: x == y is False == is for comparing, = is for assigning\n",
    "print('x == y is',x==y)\n",
    "\n",
    "# Output: x != y is True\n",
    "print('x != y is',x!=y)\n",
    "\n",
    "# Output: x >= y is False\n",
    "print('x >= y is',x>=y)\n",
    "\n",
    "# Output: x <= y is True\n",
    "print('x <= y is',x<=y)"
   ]
  },
  {
   "cell_type": "code",
   "execution_count": 3,
   "id": "098e30c7",
   "metadata": {},
   "outputs": [
    {
     "name": "stdout",
     "output_type": "stream",
     "text": [
      "x and y is 10\n",
      "x or y is 5\n",
      "not x is False\n"
     ]
    }
   ],
   "source": [
    "###############logical operators##################\n",
    "#AND, OR, NOT\n",
    "\n",
    "x = 5\n",
    "y = 10\n",
    "not(x<6 and y>9)\n",
    "x<6 and y>9\n",
    "x<3 or y>12\n",
    "5<3 or 10>12\n",
    "x<6 or y>12\n",
    "\n",
    "print('x and y is',x and y)   \n",
    "\n",
    "print('x or y is',x or y)\n",
    "\n",
    "print('not x is',not x)"
   ]
  },
  {
   "cell_type": "code",
   "execution_count": 4,
   "id": "5ef0d5da",
   "metadata": {},
   "outputs": [
    {
     "name": "stdout",
     "output_type": "stream",
     "text": [
      "False\n",
      "True\n",
      "False\n"
     ]
    }
   ],
   "source": [
    "##################Special operators###############\n",
    "#identity\n",
    "x1 = 5\n",
    "y1 = 5\n",
    "x2 = 'Hello'\n",
    "y2 = 'Hello'\n",
    "x3 = [1]\n",
    "y3 = [1]\n",
    "x3 = [1,2,3]\n",
    "y3 = [1,2,3]\n",
    "\n",
    "# Output: False\n",
    "print(x1 is not y1)  \n",
    "\n",
    "# Output: True\n",
    "print(x2 is y2) \n",
    "\n",
    "# Output: False\n",
    "print(x3 is y3)"
   ]
  },
  {
   "cell_type": "code",
   "execution_count": 5,
   "id": "eccc6b09",
   "metadata": {},
   "outputs": [
    {
     "name": "stdout",
     "output_type": "stream",
     "text": [
      "True\n",
      "True\n",
      "True\n",
      "False\n"
     ]
    }
   ],
   "source": [
    "#Membership\n",
    "\n",
    "x = 'Hello world'\n",
    "y = {1:'a',2:'b'}\n",
    "\n",
    "# Output: True\n",
    "print('H' in x)\n",
    "\n",
    "# Output: True\n",
    "print('hello' not in x) #small letter H\n",
    "\n",
    "# Output: True\n",
    "print(1 in y)\n",
    "\n",
    "# Output: False\n",
    "print('a' in y)"
   ]
  },
  {
   "cell_type": "code",
   "execution_count": null,
   "id": "629a13dc",
   "metadata": {},
   "outputs": [],
   "source": [
    "##################Bitwise operator##############\n",
    "a = 10  \n",
    "b = 13\n",
    "# Print bitwise AND operation   \n",
    "print(a & b)\n",
    "2|10|\n",
    "2|5|-0\n",
    "2|2|-1\n",
    "2|1|-0\n",
    "\n",
    "2|4|\n",
    "2|2|-0\n",
    "2|1|-0\n",
    "\n",
    "1010\n",
    "0100\n",
    "-----\n",
    "0000  \n",
    "\n",
    "a = 12\n",
    "b =13\n",
    "# Print bitwise OR operation\n",
    "print(a | b)\n",
    "1010\n",
    "0100\n",
    "-----\n",
    "1110  = 2**3+2**2+2**1+2**0=\n",
    "         8+4+2+0=14\n",
    "\n",
    "2**3+2**2+2**1+2**0\n",
    " 8 +  4 +  2 +  0\n",
    " 14\n",
    "\n",
    "a = 10\n",
    "b = 4\n",
    "# print bitwise XOR operation \n",
    "print(a ^ b)\n",
    "\n",
    "\n",
    "a = 12\n",
    "b = 4\n",
    "# Print bitwise NOT operation \n",
    "print(~a)\n",
    "\n",
    "a = 10\n",
    "b = 2\n",
    "# print bitwise left shift operation \n",
    "print(a << 2)\n",
    "\n",
    "# print bitwise right shift operation  \n",
    "print(a >> 2) \n",
    "1010\n",
    "0100\n",
    "-----\n",
    "1110 =11.1000= 2**1+2**0=2\n",
    "'''\n",
    "# print bitwise left shift operation  \n",
    "The left shift operator ( << ) shifts the first operand the \n",
    "specified number of bits to the left. Excess bits shifted off \n",
    "to the left are discarded. Zero bits are shifted in from the right.\n",
    "'''\n",
    "print(a << 2) \n",
    "1010\n",
    "0100\n",
    "-----\n",
    "1110.000 =111000.= 2**5+2**4+2**3+2**2+2**1+2**0=40\n",
    "\n",
    "'''\n",
    "0 is written as \"0\"\n",
    "1 is written as \"1\"\n",
    "2 is written as \"10\"\n",
    "3 is \"11\"\n",
    "4 is \"100\"\n",
    "5 is \"101\"\n",
    ".\n",
    ".\n",
    "1029 is \"10000000101\" == 2**10 + 2**2 + 2**0 == 1024 + 4 + 1'''\n",
    "\n",
    "\n",
    "a = 10\n",
    "b = 4\n",
    "# print bitwise right shift operation \n",
    "print(a >> 2)\n",
    "\n",
    "\n",
    "#identity operators\n",
    "x1 = 2\n",
    "y1 = 2\n",
    "x = [\"apple\", \"banana\"]\n",
    "y = [\"apple\", \"banana\"]\n",
    "z = x\n",
    "\n",
    "print(x is z)\n",
    "print(x is y)\n",
    "print(x == y)\n",
    "\n",
    "print(x is not z)\n",
    "print(x is not y)\n",
    "print(x != y)\n",
    "\n",
    "\n",
    "#Membership operators\n",
    "x = [\"apple\", \"banana\"]\n",
    "\n",
    "print(\"banana\" in x)\n",
    "print(\"pineapple\" not in x)\n",
    "print(\"pineapple\"  in x)\n",
    "\n",
    "x = 'Hello world'\n",
    "y = {1:'a',2:'b'}\n",
    "\n",
    "# Output: True\n",
    "print('H' in x)\n",
    "\n",
    "# Output: True\n",
    "print('hello' not in x)\n",
    "\n",
    "# Output: True\n",
    "print(1 in y)\n",
    "\n",
    "# Output: False\n",
    "print('a' in y)\n",
    "\n",
    "#x+=2\n",
    "x\n",
    "\n",
    "x*=3\n",
    "x\n",
    "\n",
    "x/=3\n",
    "x\n",
    "\n",
    "x//=3\n",
    "x\n",
    "\n",
    "\n",
    "# Python program to illustrate the use  \n",
    "# of 'is' identity operator \n",
    "x = '5'\n",
    "if (type(x) is str): \n",
    "    print (\"true\") \n",
    "\n",
    "if x==6: \n",
    "    print (\"true\") \n",
    "else: \n",
    "    print (\"false\") \n",
    "    \n",
    "if (type(x) is int): \n",
    "    print (\"true\") \n",
    "else: \n",
    "    print (\"false\") \n",
    "      \n",
    "# Python program to illustrate the  \n",
    "# use of 'is not' identity operator \n",
    "x = 5.2\n",
    "if (type(x) is not int): \n",
    "    print (\"true\") \n",
    "else: \n",
    "    print (\"false\") \n",
    "\n",
    "\n",
    "\n",
    "# Python program to illustrate \n",
    "# Finding common member in list  \n",
    "# using 'in' operator \n",
    "list1=[1,2,3,4,5] \n",
    "list2=[6,7,8,9] \n",
    "for item in list1: \n",
    "    if item in list2: \n",
    "        print(\"overlapping\")       \n",
    "else: \n",
    "    print(\"not overlapping\") \n",
    "        \n",
    "    \n",
    "# Python program to illustrate \n",
    "# not 'in' operator \n",
    "x = 24\n",
    "y = 20\n",
    "list = [10, 20, 30, 40, 50 ]; \n",
    "  \n",
    "if ( x not in list ): \n",
    "   print (\"x is NOT present in given list\")\n",
    "else: \n",
    "   print (\"x is  present in given list\")\n",
    "  \n",
    "if ( y in list ): \n",
    "   print (\"y is present in given list\")\n",
    "else: \n",
    "   print (\"y is NOT present in given list\")"
   ]
  },
  {
   "cell_type": "code",
   "execution_count": 1,
   "id": "0457cbf3",
   "metadata": {},
   "outputs": [
    {
     "name": "stdout",
     "output_type": "stream",
     "text": [
      "-13\n"
     ]
    }
   ],
   "source": [
    "#####################Bitwise Operators####################\n",
    "# Print bitwise NOT operation \n",
    "~1 ->0\n",
    "~0 ->1\n",
    "\n",
    "2|10|\n",
    "2|5|-0\n",
    "2|2|-1\n",
    "2|1|-0\n",
    "\n",
    "a=12\n",
    "print(~a)\n",
    "#00001100 ->12       0     0    0     0      1       1     0     0\n",
    "                    2*0 + 2*0 +2*0 + 2*0 + 2*2*2 +  2*2 + 2*0 + 2*0=8+4=12\n",
    "#00001101 ->13\n",
    "00001100 ->12\n",
    "       1\n",
    "00001101 ->13"
   ]
  },
  {
   "cell_type": "code",
   "execution_count": null,
   "id": "868e94f7",
   "metadata": {},
   "outputs": [],
   "source": [
    "#convert -13 to binarty format 00001101\n",
    "#if you want to store it will store only positive number\n",
    "1's compliment ->reverse the above 11110010\n",
    "2's compliment ->reverse the above 11110010 +1=11110011\n",
    "\n",
    "12&13\n",
    "00001100\n",
    "00001101\n",
    "#result ->00001100\n",
    "#If both are 1 then only 1\n",
    "\n",
    "12|13\n",
    "00001100\n",
    "00001101\n",
    "#result ->00001101\n",
    "#If anyone is one then 1\n",
    "\n",
    "XOR\n",
    "00 ->0\n",
    "01 ->1\n",
    "10 ->1\n",
    "11 ->0\n",
    "\n",
    "If two different numbers then 1, If same number then 0\n",
    "12^13\n",
    "00001100\n",
    "00001101\n",
    "#R- >00000001\n",
    "\n",
    "#shift to lefthand side 2bits\n",
    "10<<2 \n",
    "#R->40\n",
    "1010.000\n",
    "101000.\n",
    "32+8\n",
    "\n",
    "#shift to righthand side 2bits\n",
    "10>>2 \n",
    "1010\n",
    "10\n",
    "#R->2"
   ]
  },
  {
   "cell_type": "code",
   "execution_count": 2,
   "id": "a6d12035",
   "metadata": {},
   "outputs": [
    {
     "data": {
      "text/plain": [
       "12"
      ]
     },
     "execution_count": 2,
     "metadata": {},
     "output_type": "execute_result"
    }
   ],
   "source": [
    "12&13"
   ]
  },
  {
   "cell_type": "code",
   "execution_count": 3,
   "id": "686bc0ff",
   "metadata": {},
   "outputs": [
    {
     "data": {
      "text/plain": [
       "13"
      ]
     },
     "execution_count": 3,
     "metadata": {},
     "output_type": "execute_result"
    }
   ],
   "source": [
    "12|13"
   ]
  },
  {
   "cell_type": "code",
   "execution_count": 4,
   "id": "ff2d0fb0",
   "metadata": {},
   "outputs": [
    {
     "data": {
      "text/plain": [
       "1"
      ]
     },
     "execution_count": 4,
     "metadata": {},
     "output_type": "execute_result"
    }
   ],
   "source": [
    "12^13"
   ]
  },
  {
   "cell_type": "code",
   "execution_count": 5,
   "id": "db162f76",
   "metadata": {},
   "outputs": [
    {
     "data": {
      "text/plain": [
       "40"
      ]
     },
     "execution_count": 5,
     "metadata": {},
     "output_type": "execute_result"
    }
   ],
   "source": [
    "10<<2 "
   ]
  },
  {
   "cell_type": "code",
   "execution_count": 6,
   "id": "a68fe391",
   "metadata": {},
   "outputs": [
    {
     "data": {
      "text/plain": [
       "2"
      ]
     },
     "execution_count": 6,
     "metadata": {},
     "output_type": "execute_result"
    }
   ],
   "source": [
    "10>>2 "
   ]
  },
  {
   "cell_type": "code",
   "execution_count": null,
   "id": "eecab951",
   "metadata": {},
   "outputs": [],
   "source": []
  }
 ],
 "metadata": {
  "kernelspec": {
   "display_name": "Python 3 (ipykernel)",
   "language": "python",
   "name": "python3"
  },
  "language_info": {
   "codemirror_mode": {
    "name": "ipython",
    "version": 3
   },
   "file_extension": ".py",
   "mimetype": "text/x-python",
   "name": "python",
   "nbconvert_exporter": "python",
   "pygments_lexer": "ipython3",
   "version": "3.9.13"
  }
 },
 "nbformat": 4,
 "nbformat_minor": 5
}
