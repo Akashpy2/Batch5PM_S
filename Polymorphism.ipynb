{
 "cells": [
  {
   "cell_type": "raw",
   "id": "aff774df",
   "metadata": {},
   "source": [
    "##################################Duck Typing#############################\n",
    "Poly -> Many\n",
    "Morphism-> forms\n",
    "we behave in different ways when we are in different places...eg..like off and house\n",
    "Object will have multiple forms\n",
    "\n",
    "There are 4 ways of implementing polymorphism\n",
    "Duck typing\n",
    "Operating overloading\n",
    "Method overloading\n",
    "Method overriding\n"
   ]
  },
  {
   "cell_type": "code",
   "execution_count": 1,
   "id": "c16f745f",
   "metadata": {},
   "outputs": [
    {
     "name": "stdout",
     "output_type": "stream",
     "text": [
      "Compliling\n",
      "Running\n"
     ]
    }
   ],
   "source": [
    "class Pycharm:\n",
    "    def execute(self):\n",
    "        print(\"Compliling\")\n",
    "        print(\"Running\")\n",
    "\n",
    "       \n",
    "class laptop:\n",
    "     def code(self,ide):\n",
    "        ide.execute()\n",
    "        \n",
    "ide=Pycharm()\n",
    "\n",
    "lap1=laptop()\n",
    "lap1.code(ide)"
   ]
  },
  {
   "cell_type": "code",
   "execution_count": 3,
   "id": "46bac7c0",
   "metadata": {},
   "outputs": [
    {
     "name": "stdout",
     "output_type": "stream",
     "text": [
      "Spell Check\n",
      "Convention Check\n"
     ]
    }
   ],
   "source": [
    "class Pycharm:\n",
    "    def execute(self):\n",
    "        print(\"Compliling\")\n",
    "        print(\"Running\")\n",
    "\n",
    "class Myeditor:\n",
    "     def execute(self):\n",
    "        print(\"Spell Check\")\n",
    "        print(\"Convention Check\")\n",
    "        print(\"Compliling\")\n",
    "        print(\"Running\")\n",
    "\n",
    "#if there is an object ide and it has a method execute we are not concerned which class it is\n",
    "        #this is duck typing\n",
    "class laptop:\n",
    "     def code(self,ide):\n",
    "        ide.execute()\n",
    "        \n",
    "ide=Myeditor()\n",
    "\n",
    "lap1=laptop()\n",
    "lap1.code(ide)"
   ]
  },
  {
   "cell_type": "code",
   "execution_count": 4,
   "id": "82326b26",
   "metadata": {},
   "outputs": [
    {
     "name": "stdout",
     "output_type": "stream",
     "text": [
      "New Delhi is the capital of India.\n",
      "Hindi is the most widely spoken language of India.\n",
      "India is a developing country.\n",
      "Washington, D.C. is the capital of USA.\n",
      "English is the primary language of USA.\n",
      "USA is a developed country.\n"
     ]
    }
   ],
   "source": [
    "class India():\n",
    "    def capital(self):\n",
    "        print(\"New Delhi is the capital of India.\")\n",
    "  \n",
    "    def language(self):\n",
    "        print(\"Hindi is the most widely spoken language of India.\")\n",
    "  \n",
    "    def type(self):\n",
    "        print(\"India is a developing country.\")\n",
    "  \n",
    "class USA():\n",
    "    def capital(self):\n",
    "        print(\"Washington, D.C. is the capital of USA.\")\n",
    "  \n",
    "    def language(self):\n",
    "        print(\"English is the primary language of USA.\")\n",
    "  \n",
    "    def type(self):\n",
    "        print(\"USA is a developed country.\")\n",
    "  \n",
    "obj_ind = India()\n",
    "obj_usa = USA()\n",
    "for country in (obj_ind, obj_usa):\n",
    "    country.capital()\n",
    "    country.language()\n",
    "    country.type()"
   ]
  },
  {
   "cell_type": "code",
   "execution_count": null,
   "id": "de3844ff",
   "metadata": {},
   "outputs": [],
   "source": []
  }
 ],
 "metadata": {
  "kernelspec": {
   "display_name": "Python 3 (ipykernel)",
   "language": "python",
   "name": "python3"
  },
  "language_info": {
   "codemirror_mode": {
    "name": "ipython",
    "version": 3
   },
   "file_extension": ".py",
   "mimetype": "text/x-python",
   "name": "python",
   "nbconvert_exporter": "python",
   "pygments_lexer": "ipython3",
   "version": "3.9.13"
  }
 },
 "nbformat": 4,
 "nbformat_minor": 5
}
