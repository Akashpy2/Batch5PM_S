{
 "cells": [
  {
   "cell_type": "raw",
   "id": "5ae48538",
   "metadata": {},
   "source": [
    "Local Scope\n",
    "-----------\n",
    "A variable created inside a function belongs to the local scope of that function, and can only be used inside that function.\n",
    "\n",
    "Global Scope\n",
    "------------\n",
    "A variable created in the main body of the Python code is a global variable and belongs to the global scope.\n",
    "\n",
    "Global variables are available from within any scope, global and local."
   ]
  },
  {
   "cell_type": "code",
   "execution_count": 1,
   "id": "03fc5cb3",
   "metadata": {},
   "outputs": [
    {
     "name": "stdout",
     "output_type": "stream",
     "text": [
      "1\n"
     ]
    }
   ],
   "source": [
    "def sample():\n",
    "    a=1\n",
    "    print(a)\n",
    "sample()"
   ]
  },
  {
   "cell_type": "code",
   "execution_count": 2,
   "id": "b7d3a547",
   "metadata": {},
   "outputs": [
    {
     "name": "stdout",
     "output_type": "stream",
     "text": [
      "1\n"
     ]
    }
   ],
   "source": [
    "a=3  #global\n",
    "def sample():\n",
    "    a=1  #local\n",
    "    print(a)\n",
    "sample()"
   ]
  },
  {
   "cell_type": "code",
   "execution_count": 3,
   "id": "d804a632",
   "metadata": {},
   "outputs": [
    {
     "name": "stdout",
     "output_type": "stream",
     "text": [
      "1\n",
      "3\n"
     ]
    }
   ],
   "source": [
    "a=3  #global\n",
    "def sample():\n",
    "    a=1  #local\n",
    "    print(a)\n",
    "sample()\n",
    "print(a)"
   ]
  },
  {
   "cell_type": "code",
   "execution_count": 5,
   "id": "3ae61b2a",
   "metadata": {},
   "outputs": [
    {
     "ename": "NameError",
     "evalue": "name 'b' is not defined",
     "output_type": "error",
     "traceback": [
      "\u001b[1;31m---------------------------------------------------------------------------\u001b[0m",
      "\u001b[1;31mNameError\u001b[0m                                 Traceback (most recent call last)",
      "\u001b[1;32m~\\AppData\\Local\\Temp\\ipykernel_3224\\981363187.py\u001b[0m in \u001b[0;36m<module>\u001b[1;34m\u001b[0m\n\u001b[0;32m      3\u001b[0m \u001b[1;33m\u001b[0m\u001b[0m\n\u001b[0;32m      4\u001b[0m \u001b[0msample\u001b[0m\u001b[1;33m(\u001b[0m\u001b[1;33m)\u001b[0m\u001b[1;33m\u001b[0m\u001b[1;33m\u001b[0m\u001b[0m\n\u001b[1;32m----> 5\u001b[1;33m \u001b[0mprint\u001b[0m\u001b[1;33m(\u001b[0m\u001b[0mb\u001b[0m\u001b[1;33m)\u001b[0m\u001b[1;33m\u001b[0m\u001b[1;33m\u001b[0m\u001b[0m\n\u001b[0m",
      "\u001b[1;31mNameError\u001b[0m: name 'b' is not defined"
     ]
    }
   ],
   "source": [
    "def sample():\n",
    "    b=1  #local   \n",
    "sample()\n",
    "print(b)"
   ]
  },
  {
   "cell_type": "code",
   "execution_count": 9,
   "id": "d0c5c166",
   "metadata": {},
   "outputs": [
    {
     "name": "stdout",
     "output_type": "stream",
     "text": [
      "1\n",
      "1\n",
      "1\n"
     ]
    }
   ],
   "source": [
    "b=1 \n",
    "def sample():\n",
    "     print(b)\n",
    "sample()\n",
    "print(b)\n",
    "\n",
    "def sample1():\n",
    "     print(b)\n",
    "sample1()"
   ]
  },
  {
   "cell_type": "code",
   "execution_count": 10,
   "id": "6c71aac0",
   "metadata": {},
   "outputs": [
    {
     "name": "stdout",
     "output_type": "stream",
     "text": [
      "7\n",
      "7\n"
     ]
    }
   ],
   "source": [
    "b=1 \n",
    "def sample():\n",
    "     global b\n",
    "     b=7\n",
    "     print(b)\n",
    "sample()\n",
    "print(b)"
   ]
  },
  {
   "cell_type": "code",
   "execution_count": 11,
   "id": "5335ab27",
   "metadata": {},
   "outputs": [
    {
     "name": "stdout",
     "output_type": "stream",
     "text": [
      "2504777951248\n",
      "2504777951248\n",
      "local 200\n",
      "20\n"
     ]
    }
   ],
   "source": [
    "#check the address\n",
    "x = 300\n",
    "print(id(x))\n",
    "\n",
    "def myfunc():\n",
    "    x = 200\n",
    "    \n",
    "    a=globals()['x']\n",
    "    print(id(a))\n",
    "    print(\"local\" , x)\n",
    "    \n",
    "    a=globals()['x']=20\n",
    "myfunc()\n",
    "print(x)"
   ]
  },
  {
   "cell_type": "code",
   "execution_count": 14,
   "id": "a71ac284",
   "metadata": {},
   "outputs": [
    {
     "name": "stdout",
     "output_type": "stream",
     "text": [
      "300\n"
     ]
    },
    {
     "ename": "NameError",
     "evalue": "name 'y' is not defined",
     "output_type": "error",
     "traceback": [
      "\u001b[1;31m---------------------------------------------------------------------------\u001b[0m",
      "\u001b[1;31mNameError\u001b[0m                                 Traceback (most recent call last)",
      "\u001b[1;32m~\\AppData\\Local\\Temp\\ipykernel_3224\\1183270860.py\u001b[0m in \u001b[0;36m<module>\u001b[1;34m\u001b[0m\n\u001b[0;32m      5\u001b[0m   \u001b[0mmyinnerfunc\u001b[0m\u001b[1;33m(\u001b[0m\u001b[1;33m)\u001b[0m\u001b[1;33m\u001b[0m\u001b[1;33m\u001b[0m\u001b[0m\n\u001b[0;32m      6\u001b[0m \u001b[0mmyfunc\u001b[0m\u001b[1;33m(\u001b[0m\u001b[1;33m)\u001b[0m\u001b[1;33m\u001b[0m\u001b[1;33m\u001b[0m\u001b[0m\n\u001b[1;32m----> 7\u001b[1;33m \u001b[0mprint\u001b[0m\u001b[1;33m(\u001b[0m\u001b[0my\u001b[0m\u001b[1;33m)\u001b[0m\u001b[1;33m\u001b[0m\u001b[1;33m\u001b[0m\u001b[0m\n\u001b[0m",
      "\u001b[1;31mNameError\u001b[0m: name 'y' is not defined"
     ]
    }
   ],
   "source": [
    "def myfunc():\n",
    "  y = 300\n",
    "  def myinnerfunc():\n",
    "    print(y)\n",
    "  myinnerfunc()\n",
    "myfunc()\n",
    "print(y)"
   ]
  },
  {
   "cell_type": "code",
   "execution_count": 15,
   "id": "8cb8092f",
   "metadata": {},
   "outputs": [
    {
     "name": "stdout",
     "output_type": "stream",
     "text": [
      "300\n",
      "50\n"
     ]
    }
   ],
   "source": [
    "y=50\n",
    "def myfunc():\n",
    "  y = 300\n",
    "  def myinnerfunc():\n",
    "    print(y)\n",
    "  myinnerfunc()\n",
    "myfunc()\n",
    "print(y)"
   ]
  },
  {
   "cell_type": "code",
   "execution_count": 17,
   "id": "d2026715",
   "metadata": {},
   "outputs": [
    {
     "data": {
      "text/plain": [
       "{'__name__': '__main__',\n",
       " '__doc__': 'Automatically created module for IPython interactive environment',\n",
       " '__package__': None,\n",
       " '__loader__': None,\n",
       " '__spec__': None,\n",
       " '__builtin__': <module 'builtins' (built-in)>,\n",
       " '__builtins__': <module 'builtins' (built-in)>,\n",
       " '_ih': ['',\n",
       "  'def sample():\\n    a=1\\n    print(a)\\nsample()',\n",
       "  'a=3  #global\\ndef sample():\\n    a=1  #local\\n    print(a)\\nsample()',\n",
       "  'a=3  #global\\ndef sample():\\n    a=1  #local\\n    print(a)\\nsample()\\nprint(a)',\n",
       "  'def sample():\\n    a=1  #local\\n    \\nsample()\\nprint(a)',\n",
       "  'def sample():\\n    b=1  #local\\n    \\nsample()\\nprint(b)',\n",
       "  'b=1 \\ndef sample():\\n     \\nsample()\\nprint(b)',\n",
       "  'b=1 \\ndef sample():\\n     pass\\nsample()\\nprint(b)',\n",
       "  'b=1 \\ndef sample():\\n     print(b)\\nsample()\\nprint(b)',\n",
       "  'b=1 \\ndef sample():\\n     print(b)\\nsample()\\nprint(b)\\n\\ndef sample1():\\n     print(b)\\nsample1()',\n",
       "  'b=1 \\ndef sample():\\n     global b\\n     b=7\\n     print(b)\\nsample()\\nprint(b)',\n",
       "  '#check the address\\nx = 300\\nprint(id(x))\\n\\ndef myfunc():\\n    x = 200\\n    \\n    a=globals()[\\'x\\']\\n    print(id(a))\\n    print(\"local\" , x)\\n    \\n    a=globals()[\\'x\\']=20\\nmyfunc()\\nprint(x)',\n",
       "  'def myfunc():\\n  x = 300\\n  def myinnerfunc():\\n    print(x)\\n  myinnerfunc()\\nmyfunc()',\n",
       "  'def myfunc():\\n  x = 300\\n  def myinnerfunc():\\n    print(x)\\n  myinnerfunc()\\nmyfunc()\\nprint(x)',\n",
       "  'def myfunc():\\n  y = 300\\n  def myinnerfunc():\\n    print(y)\\n  myinnerfunc()\\nmyfunc()\\nprint(y)',\n",
       "  'y=50\\ndef myfunc():\\n  y = 300\\n  def myinnerfunc():\\n    print(y)\\n  myinnerfunc()\\nmyfunc()\\nprint(y)',\n",
       "  'local()',\n",
       "  'locals()'],\n",
       " '_oh': {},\n",
       " '_dh': ['C:\\\\Users\\\\DELL\\\\Batch_Feb23_5PM'],\n",
       " 'In': ['',\n",
       "  'def sample():\\n    a=1\\n    print(a)\\nsample()',\n",
       "  'a=3  #global\\ndef sample():\\n    a=1  #local\\n    print(a)\\nsample()',\n",
       "  'a=3  #global\\ndef sample():\\n    a=1  #local\\n    print(a)\\nsample()\\nprint(a)',\n",
       "  'def sample():\\n    a=1  #local\\n    \\nsample()\\nprint(a)',\n",
       "  'def sample():\\n    b=1  #local\\n    \\nsample()\\nprint(b)',\n",
       "  'b=1 \\ndef sample():\\n     \\nsample()\\nprint(b)',\n",
       "  'b=1 \\ndef sample():\\n     pass\\nsample()\\nprint(b)',\n",
       "  'b=1 \\ndef sample():\\n     print(b)\\nsample()\\nprint(b)',\n",
       "  'b=1 \\ndef sample():\\n     print(b)\\nsample()\\nprint(b)\\n\\ndef sample1():\\n     print(b)\\nsample1()',\n",
       "  'b=1 \\ndef sample():\\n     global b\\n     b=7\\n     print(b)\\nsample()\\nprint(b)',\n",
       "  '#check the address\\nx = 300\\nprint(id(x))\\n\\ndef myfunc():\\n    x = 200\\n    \\n    a=globals()[\\'x\\']\\n    print(id(a))\\n    print(\"local\" , x)\\n    \\n    a=globals()[\\'x\\']=20\\nmyfunc()\\nprint(x)',\n",
       "  'def myfunc():\\n  x = 300\\n  def myinnerfunc():\\n    print(x)\\n  myinnerfunc()\\nmyfunc()',\n",
       "  'def myfunc():\\n  x = 300\\n  def myinnerfunc():\\n    print(x)\\n  myinnerfunc()\\nmyfunc()\\nprint(x)',\n",
       "  'def myfunc():\\n  y = 300\\n  def myinnerfunc():\\n    print(y)\\n  myinnerfunc()\\nmyfunc()\\nprint(y)',\n",
       "  'y=50\\ndef myfunc():\\n  y = 300\\n  def myinnerfunc():\\n    print(y)\\n  myinnerfunc()\\nmyfunc()\\nprint(y)',\n",
       "  'local()',\n",
       "  'locals()'],\n",
       " 'Out': {},\n",
       " 'get_ipython': <bound method InteractiveShell.get_ipython of <ipykernel.zmqshell.ZMQInteractiveShell object at 0x000002473063C430>>,\n",
       " 'exit': <IPython.core.autocall.ZMQExitAutocall at 0x24730650100>,\n",
       " 'quit': <IPython.core.autocall.ZMQExitAutocall at 0x24730650100>,\n",
       " '_': '',\n",
       " '__': '',\n",
       " '___': '',\n",
       " '_i': 'local()',\n",
       " '_ii': 'y=50\\ndef myfunc():\\n  y = 300\\n  def myinnerfunc():\\n    print(y)\\n  myinnerfunc()\\nmyfunc()\\nprint(y)',\n",
       " '_iii': 'def myfunc():\\n  y = 300\\n  def myinnerfunc():\\n    print(y)\\n  myinnerfunc()\\nmyfunc()\\nprint(y)',\n",
       " '_i1': 'def sample():\\n    a=1\\n    print(a)\\nsample()',\n",
       " 'sample': <function __main__.sample()>,\n",
       " '_i2': 'a=3  #global\\ndef sample():\\n    a=1  #local\\n    print(a)\\nsample()',\n",
       " 'a': 3,\n",
       " '_i3': 'a=3  #global\\ndef sample():\\n    a=1  #local\\n    print(a)\\nsample()\\nprint(a)',\n",
       " '_i4': '\\ndef sample():\\n    a=1  #local\\n    \\nsample()\\nprint(a)',\n",
       " '_i5': 'def sample():\\n    b=1  #local\\n    \\nsample()\\nprint(b)',\n",
       " '_i6': 'b=1 \\ndef sample():\\n     \\nsample()\\nprint(b)',\n",
       " '_i7': 'b=1 \\ndef sample():\\n     pass\\nsample()\\nprint(b)',\n",
       " 'b': 7,\n",
       " '_i8': 'b=1 \\ndef sample():\\n     print(b)\\nsample()\\nprint(b)',\n",
       " '_i9': 'b=1 \\ndef sample():\\n     print(b)\\nsample()\\nprint(b)\\n\\ndef sample1():\\n     print(b)\\nsample1()',\n",
       " 'sample1': <function __main__.sample1()>,\n",
       " '_i10': 'b=1 \\ndef sample():\\n     global b\\n     b=7\\n     print(b)\\nsample()\\nprint(b)',\n",
       " '_i11': '#check the address\\nx = 300\\nprint(id(x))\\n\\ndef myfunc():\\n    x = 200\\n    \\n    a=globals()[\\'x\\']\\n    print(id(a))\\n    print(\"local\" , x)\\n    \\n    a=globals()[\\'x\\']=20\\nmyfunc()\\nprint(x)',\n",
       " 'x': 20,\n",
       " 'myfunc': <function __main__.myfunc()>,\n",
       " '_i12': 'def myfunc():\\n  x = 300\\n  def myinnerfunc():\\n    print(x)\\n  myinnerfunc()\\nmyfunc()',\n",
       " '_i13': 'def myfunc():\\n  x = 300\\n  def myinnerfunc():\\n    print(x)\\n  myinnerfunc()\\nmyfunc()\\nprint(x)',\n",
       " '_i14': 'def myfunc():\\n  y = 300\\n  def myinnerfunc():\\n    print(y)\\n  myinnerfunc()\\nmyfunc()\\nprint(y)',\n",
       " '_i15': 'y=50\\ndef myfunc():\\n  y = 300\\n  def myinnerfunc():\\n    print(y)\\n  myinnerfunc()\\nmyfunc()\\nprint(y)',\n",
       " 'y': 50,\n",
       " '_i16': 'local()',\n",
       " '_i17': 'locals()'}"
      ]
     },
     "execution_count": 17,
     "metadata": {},
     "output_type": "execute_result"
    }
   ],
   "source": [
    "locals()"
   ]
  },
  {
   "cell_type": "code",
   "execution_count": 19,
   "id": "456abd10",
   "metadata": {},
   "outputs": [
    {
     "data": {
      "text/plain": [
       "{'__name__': '__main__',\n",
       " '__doc__': 'Automatically created module for IPython interactive environment',\n",
       " '__package__': None,\n",
       " '__loader__': None,\n",
       " '__spec__': None,\n",
       " '__builtin__': <module 'builtins' (built-in)>,\n",
       " '__builtins__': <module 'builtins' (built-in)>,\n",
       " '_ih': ['',\n",
       "  'def sample():\\n    a=1\\n    print(a)\\nsample()',\n",
       "  'a=3  #global\\ndef sample():\\n    a=1  #local\\n    print(a)\\nsample()',\n",
       "  'a=3  #global\\ndef sample():\\n    a=1  #local\\n    print(a)\\nsample()\\nprint(a)',\n",
       "  'def sample():\\n    a=1  #local\\n    \\nsample()\\nprint(a)',\n",
       "  'def sample():\\n    b=1  #local\\n    \\nsample()\\nprint(b)',\n",
       "  'b=1 \\ndef sample():\\n     \\nsample()\\nprint(b)',\n",
       "  'b=1 \\ndef sample():\\n     pass\\nsample()\\nprint(b)',\n",
       "  'b=1 \\ndef sample():\\n     print(b)\\nsample()\\nprint(b)',\n",
       "  'b=1 \\ndef sample():\\n     print(b)\\nsample()\\nprint(b)\\n\\ndef sample1():\\n     print(b)\\nsample1()',\n",
       "  'b=1 \\ndef sample():\\n     global b\\n     b=7\\n     print(b)\\nsample()\\nprint(b)',\n",
       "  '#check the address\\nx = 300\\nprint(id(x))\\n\\ndef myfunc():\\n    x = 200\\n    \\n    a=globals()[\\'x\\']\\n    print(id(a))\\n    print(\"local\" , x)\\n    \\n    a=globals()[\\'x\\']=20\\nmyfunc()\\nprint(x)',\n",
       "  'def myfunc():\\n  x = 300\\n  def myinnerfunc():\\n    print(x)\\n  myinnerfunc()\\nmyfunc()',\n",
       "  'def myfunc():\\n  x = 300\\n  def myinnerfunc():\\n    print(x)\\n  myinnerfunc()\\nmyfunc()\\nprint(x)',\n",
       "  'def myfunc():\\n  y = 300\\n  def myinnerfunc():\\n    print(y)\\n  myinnerfunc()\\nmyfunc()\\nprint(y)',\n",
       "  'y=50\\ndef myfunc():\\n  y = 300\\n  def myinnerfunc():\\n    print(y)\\n  myinnerfunc()\\nmyfunc()\\nprint(y)',\n",
       "  'local()',\n",
       "  'locals()',\n",
       "  'global()',\n",
       "  'globals()'],\n",
       " '_oh': {17: {...}},\n",
       " '_dh': ['C:\\\\Users\\\\DELL\\\\Batch_Feb23_5PM'],\n",
       " 'In': ['',\n",
       "  'def sample():\\n    a=1\\n    print(a)\\nsample()',\n",
       "  'a=3  #global\\ndef sample():\\n    a=1  #local\\n    print(a)\\nsample()',\n",
       "  'a=3  #global\\ndef sample():\\n    a=1  #local\\n    print(a)\\nsample()\\nprint(a)',\n",
       "  'def sample():\\n    a=1  #local\\n    \\nsample()\\nprint(a)',\n",
       "  'def sample():\\n    b=1  #local\\n    \\nsample()\\nprint(b)',\n",
       "  'b=1 \\ndef sample():\\n     \\nsample()\\nprint(b)',\n",
       "  'b=1 \\ndef sample():\\n     pass\\nsample()\\nprint(b)',\n",
       "  'b=1 \\ndef sample():\\n     print(b)\\nsample()\\nprint(b)',\n",
       "  'b=1 \\ndef sample():\\n     print(b)\\nsample()\\nprint(b)\\n\\ndef sample1():\\n     print(b)\\nsample1()',\n",
       "  'b=1 \\ndef sample():\\n     global b\\n     b=7\\n     print(b)\\nsample()\\nprint(b)',\n",
       "  '#check the address\\nx = 300\\nprint(id(x))\\n\\ndef myfunc():\\n    x = 200\\n    \\n    a=globals()[\\'x\\']\\n    print(id(a))\\n    print(\"local\" , x)\\n    \\n    a=globals()[\\'x\\']=20\\nmyfunc()\\nprint(x)',\n",
       "  'def myfunc():\\n  x = 300\\n  def myinnerfunc():\\n    print(x)\\n  myinnerfunc()\\nmyfunc()',\n",
       "  'def myfunc():\\n  x = 300\\n  def myinnerfunc():\\n    print(x)\\n  myinnerfunc()\\nmyfunc()\\nprint(x)',\n",
       "  'def myfunc():\\n  y = 300\\n  def myinnerfunc():\\n    print(y)\\n  myinnerfunc()\\nmyfunc()\\nprint(y)',\n",
       "  'y=50\\ndef myfunc():\\n  y = 300\\n  def myinnerfunc():\\n    print(y)\\n  myinnerfunc()\\nmyfunc()\\nprint(y)',\n",
       "  'local()',\n",
       "  'locals()',\n",
       "  'global()',\n",
       "  'globals()'],\n",
       " 'Out': {17: {...}},\n",
       " 'get_ipython': <bound method InteractiveShell.get_ipython of <ipykernel.zmqshell.ZMQInteractiveShell object at 0x000002473063C430>>,\n",
       " 'exit': <IPython.core.autocall.ZMQExitAutocall at 0x24730650100>,\n",
       " 'quit': <IPython.core.autocall.ZMQExitAutocall at 0x24730650100>,\n",
       " '_': {...},\n",
       " '__': '',\n",
       " '___': '',\n",
       " '_i': 'global()',\n",
       " '_ii': 'locals()',\n",
       " '_iii': 'local()',\n",
       " '_i1': 'def sample():\\n    a=1\\n    print(a)\\nsample()',\n",
       " 'sample': <function __main__.sample()>,\n",
       " '_i2': 'a=3  #global\\ndef sample():\\n    a=1  #local\\n    print(a)\\nsample()',\n",
       " 'a': 3,\n",
       " '_i3': 'a=3  #global\\ndef sample():\\n    a=1  #local\\n    print(a)\\nsample()\\nprint(a)',\n",
       " '_i4': '\\ndef sample():\\n    a=1  #local\\n    \\nsample()\\nprint(a)',\n",
       " '_i5': 'def sample():\\n    b=1  #local\\n    \\nsample()\\nprint(b)',\n",
       " '_i6': 'b=1 \\ndef sample():\\n     \\nsample()\\nprint(b)',\n",
       " '_i7': 'b=1 \\ndef sample():\\n     pass\\nsample()\\nprint(b)',\n",
       " 'b': 7,\n",
       " '_i8': 'b=1 \\ndef sample():\\n     print(b)\\nsample()\\nprint(b)',\n",
       " '_i9': 'b=1 \\ndef sample():\\n     print(b)\\nsample()\\nprint(b)\\n\\ndef sample1():\\n     print(b)\\nsample1()',\n",
       " 'sample1': <function __main__.sample1()>,\n",
       " '_i10': 'b=1 \\ndef sample():\\n     global b\\n     b=7\\n     print(b)\\nsample()\\nprint(b)',\n",
       " '_i11': '#check the address\\nx = 300\\nprint(id(x))\\n\\ndef myfunc():\\n    x = 200\\n    \\n    a=globals()[\\'x\\']\\n    print(id(a))\\n    print(\"local\" , x)\\n    \\n    a=globals()[\\'x\\']=20\\nmyfunc()\\nprint(x)',\n",
       " 'x': 20,\n",
       " 'myfunc': <function __main__.myfunc()>,\n",
       " '_i12': 'def myfunc():\\n  x = 300\\n  def myinnerfunc():\\n    print(x)\\n  myinnerfunc()\\nmyfunc()',\n",
       " '_i13': 'def myfunc():\\n  x = 300\\n  def myinnerfunc():\\n    print(x)\\n  myinnerfunc()\\nmyfunc()\\nprint(x)',\n",
       " '_i14': 'def myfunc():\\n  y = 300\\n  def myinnerfunc():\\n    print(y)\\n  myinnerfunc()\\nmyfunc()\\nprint(y)',\n",
       " '_i15': 'y=50\\ndef myfunc():\\n  y = 300\\n  def myinnerfunc():\\n    print(y)\\n  myinnerfunc()\\nmyfunc()\\nprint(y)',\n",
       " 'y': 50,\n",
       " '_i16': 'local()',\n",
       " '_i17': 'locals()',\n",
       " '_17': {...},\n",
       " '_i18': 'global()',\n",
       " '_i19': 'globals()'}"
      ]
     },
     "execution_count": 19,
     "metadata": {},
     "output_type": "execute_result"
    }
   ],
   "source": [
    "globals()"
   ]
  },
  {
   "cell_type": "code",
   "execution_count": null,
   "id": "bf0b6b0c",
   "metadata": {},
   "outputs": [],
   "source": []
  }
 ],
 "metadata": {
  "kernelspec": {
   "display_name": "Python 3 (ipykernel)",
   "language": "python",
   "name": "python3"
  },
  "language_info": {
   "codemirror_mode": {
    "name": "ipython",
    "version": 3
   },
   "file_extension": ".py",
   "mimetype": "text/x-python",
   "name": "python",
   "nbconvert_exporter": "python",
   "pygments_lexer": "ipython3",
   "version": "3.9.13"
  }
 },
 "nbformat": 4,
 "nbformat_minor": 5
}
