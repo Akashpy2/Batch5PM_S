{
 "cells": [
  {
   "cell_type": "raw",
   "id": "4fafb624",
   "metadata": {},
   "source": [
    "Dictionary - {}\n",
    "Items - key:value\n",
    "\n",
    "Functions"
   ]
  },
  {
   "cell_type": "code",
   "execution_count": 7,
   "id": "2bce6cfe",
   "metadata": {},
   "outputs": [
    {
     "data": {
      "text/plain": [
       "dict"
      ]
     },
     "execution_count": 7,
     "metadata": {},
     "output_type": "execute_result"
    }
   ],
   "source": [
    "d={}\n",
    "type(d)"
   ]
  },
  {
   "cell_type": "code",
   "execution_count": 4,
   "id": "bbfe0751",
   "metadata": {},
   "outputs": [
    {
     "data": {
      "text/plain": [
       "{'id': 101, 'name': 'raghu', 'age': 23}"
      ]
     },
     "execution_count": 4,
     "metadata": {},
     "output_type": "execute_result"
    }
   ],
   "source": [
    "d1={'id':101,'name':'raghu','age':23}\n",
    "d1"
   ]
  },
  {
   "cell_type": "code",
   "execution_count": 5,
   "id": "ecb19563",
   "metadata": {},
   "outputs": [
    {
     "data": {
      "text/plain": [
       "dict_items([('id', 101), ('name', 'raghu'), ('age', 23)])"
      ]
     },
     "execution_count": 5,
     "metadata": {},
     "output_type": "execute_result"
    }
   ],
   "source": [
    "d1.items()"
   ]
  },
  {
   "cell_type": "code",
   "execution_count": 11,
   "id": "7e82986c",
   "metadata": {},
   "outputs": [
    {
     "data": {
      "text/plain": [
       "101"
      ]
     },
     "execution_count": 11,
     "metadata": {},
     "output_type": "execute_result"
    }
   ],
   "source": [
    "d1['id']"
   ]
  },
  {
   "cell_type": "code",
   "execution_count": 1,
   "id": "6d4b4503",
   "metadata": {},
   "outputs": [
    {
     "data": {
      "text/plain": [
       "['raghu', 'uma']"
      ]
     },
     "execution_count": 1,
     "metadata": {},
     "output_type": "execute_result"
    }
   ],
   "source": [
    "d1={'id':101,'name':['raghu','uma'],'age':23}\n",
    "d1['name']"
   ]
  },
  {
   "cell_type": "code",
   "execution_count": 2,
   "id": "ba505f2e",
   "metadata": {},
   "outputs": [
    {
     "data": {
      "text/plain": [
       "{'id': 102, 'name': ['raghu', 'uma'], 'age': 23}"
      ]
     },
     "execution_count": 2,
     "metadata": {},
     "output_type": "execute_result"
    }
   ],
   "source": [
    "d1['id']=102\n",
    "d1"
   ]
  },
  {
   "cell_type": "code",
   "execution_count": 16,
   "id": "ac35dccd",
   "metadata": {},
   "outputs": [
    {
     "data": {
      "text/plain": [
       "{'id': 102, 'name': ['raghu', 'uma'], 'age': 23, 'school': 'dps'}"
      ]
     },
     "execution_count": 16,
     "metadata": {},
     "output_type": "execute_result"
    }
   ],
   "source": [
    "d1['school']='dps'\n",
    "d1"
   ]
  },
  {
   "cell_type": "code",
   "execution_count": 17,
   "id": "8dc5c28c",
   "metadata": {},
   "outputs": [
    {
     "data": {
      "text/plain": [
       "{'id': 105, 'name': 'kum'}"
      ]
     },
     "execution_count": 17,
     "metadata": {},
     "output_type": "execute_result"
    }
   ],
   "source": [
    "d2={'id':105,'name':'kum'}\n",
    "d2"
   ]
  },
  {
   "cell_type": "code",
   "execution_count": 18,
   "id": "dabcf910",
   "metadata": {},
   "outputs": [],
   "source": [
    "d2.clear()\n",
    "d2"
   ]
  },
  {
   "cell_type": "code",
   "execution_count": 20,
   "id": "e2f97497",
   "metadata": {},
   "outputs": [],
   "source": [
    "del d1['id']"
   ]
  },
  {
   "cell_type": "code",
   "execution_count": 21,
   "id": "6292b843",
   "metadata": {},
   "outputs": [
    {
     "data": {
      "text/plain": [
       "{'name': ['raghu', 'uma'], 'age': 23, 'school': 'dps'}"
      ]
     },
     "execution_count": 21,
     "metadata": {},
     "output_type": "execute_result"
    }
   ],
   "source": [
    "d1"
   ]
  },
  {
   "cell_type": "code",
   "execution_count": 22,
   "id": "5b0204b7",
   "metadata": {},
   "outputs": [
    {
     "name": "stdout",
     "output_type": "stream",
     "text": [
      "['raghu', 'uma']\n"
     ]
    }
   ],
   "source": [
    "print(d1.get('name'))"
   ]
  },
  {
   "cell_type": "code",
   "execution_count": 29,
   "id": "0678e325",
   "metadata": {},
   "outputs": [
    {
     "name": "stdout",
     "output_type": "stream",
     "text": [
      "{'name': 'kumar', 'id': 101}\n"
     ]
    }
   ],
   "source": [
    "a=['name','id']\n",
    "b=['kumar',101]\n",
    "r=dict(zip(a,b))\n",
    "print(r)"
   ]
  },
  {
   "cell_type": "code",
   "execution_count": 4,
   "id": "ca314f92",
   "metadata": {},
   "outputs": [
    {
     "name": "stdout",
     "output_type": "stream",
     "text": [
      "<zip object at 0x000001F676BF6040>\n"
     ]
    }
   ],
   "source": [
    "a=['name','id']\n",
    "b=['kumar',101]\n",
    "r=zip(a,b)\n",
    "print(r)"
   ]
  },
  {
   "cell_type": "code",
   "execution_count": 3,
   "id": "f32fd594",
   "metadata": {},
   "outputs": [
    {
     "name": "stdout",
     "output_type": "stream",
     "text": [
      "[('name', 'kumar'), ('id', 101)]\n"
     ]
    }
   ],
   "source": [
    "a=['name','id']\n",
    "b=['kumar',101]\n",
    "r=list(zip(a,b))\n",
    "print(r)"
   ]
  },
  {
   "cell_type": "code",
   "execution_count": 30,
   "id": "06235f97",
   "metadata": {},
   "outputs": [
    {
     "name": "stdout",
     "output_type": "stream",
     "text": [
      "{1: ['xy'], 2: ['xy'], 3: ['xy']}\n"
     ]
    }
   ],
   "source": [
    "list=[1,2,3]\n",
    "# dict2 creates with list values as keys and given values are values \n",
    "dict2=dict.fromkeys(list,['xy'])\n",
    "print(dict2)"
   ]
  },
  {
   "cell_type": "code",
   "execution_count": 2,
   "id": "f3fbef65",
   "metadata": {},
   "outputs": [
    {
     "name": "stdout",
     "output_type": "stream",
     "text": [
      "{'b': [1], 'a': [1], 'c': [1]}\n"
     ]
    },
    {
     "data": {
      "text/plain": [
       "{'b': [1], 'a': [1], 'c': [1], 'd': 2}"
      ]
     },
     "execution_count": 2,
     "metadata": {},
     "output_type": "execute_result"
    }
   ],
   "source": [
    "d1 = {'a', 'b', 'c'}\n",
    "l1 = [1]\n",
    "\n",
    "ins = dict.fromkeys(d1, l1)\n",
    "print(ins)"
   ]
  },
  {
   "cell_type": "code",
   "execution_count": 2,
   "id": "146c1667",
   "metadata": {},
   "outputs": [
    {
     "data": {
      "text/plain": [
       "[1, 2]"
      ]
     },
     "execution_count": 2,
     "metadata": {},
     "output_type": "execute_result"
    }
   ],
   "source": [
    "l1.append(2)\n",
    "l1"
   ]
  },
  {
   "cell_type": "code",
   "execution_count": 3,
   "id": "748a7e57",
   "metadata": {},
   "outputs": [
    {
     "name": "stdout",
     "output_type": "stream",
     "text": [
      "{'a': [1, 2], 'b': [1, 2], 'c': [1, 2]}\n"
     ]
    }
   ],
   "source": [
    "print(ins)"
   ]
  },
  {
   "cell_type": "code",
   "execution_count": 4,
   "id": "24306763",
   "metadata": {},
   "outputs": [
    {
     "name": "stdout",
     "output_type": "stream",
     "text": [
      "{'xy': ['y', 'z'], 34: ['y', 'z'], 67: ['y', 'z'], 33: ['y', 'z']}\n"
     ]
    }
   ],
   "source": [
    "t1=('xy',34,67,33)\n",
    "dict3=dict.fromkeys(t1,['y','z'])\n",
    "print(dict3)"
   ]
  },
  {
   "cell_type": "code",
   "execution_count": 7,
   "id": "95401b25",
   "metadata": {},
   "outputs": [
    {
     "name": "stdout",
     "output_type": "stream",
     "text": [
      "{'name': 'ram', 'class': 2, 'section': 'c', 'rank': 3}\n",
      "{'name': 'ram', 'class': 6, 'section': 'c', 'rank': 3}\n",
      "{1: 'DPS', 2: 'DPS', 3: 'DPS', 4: 'DPS'}\n"
     ]
    },
    {
     "ename": "NameError",
     "evalue": "name 'dict2' is not defined",
     "output_type": "error",
     "traceback": [
      "\u001b[1;31m---------------------------------------------------------------------------\u001b[0m",
      "\u001b[1;31mNameError\u001b[0m                                 Traceback (most recent call last)",
      "\u001b[1;32m~\\AppData\\Local\\Temp\\ipykernel_1752\\4095154360.py\u001b[0m in \u001b[0;36m<module>\u001b[1;34m\u001b[0m\n\u001b[0;32m     10\u001b[0m \u001b[0mdict1\u001b[0m\u001b[1;33m=\u001b[0m\u001b[0mdict\u001b[0m\u001b[1;33m.\u001b[0m\u001b[0mfromkeys\u001b[0m\u001b[1;33m(\u001b[0m\u001b[1;33m[\u001b[0m\u001b[1;36m1\u001b[0m\u001b[1;33m,\u001b[0m\u001b[1;36m2\u001b[0m\u001b[1;33m,\u001b[0m\u001b[1;36m3\u001b[0m\u001b[1;33m,\u001b[0m\u001b[1;36m4\u001b[0m\u001b[1;33m]\u001b[0m\u001b[1;33m,\u001b[0m\u001b[1;34m'DPS'\u001b[0m\u001b[1;33m)\u001b[0m\u001b[1;33m\u001b[0m\u001b[1;33m\u001b[0m\u001b[0m\n\u001b[0;32m     11\u001b[0m \u001b[0mprint\u001b[0m\u001b[1;33m(\u001b[0m\u001b[0mdict1\u001b[0m\u001b[1;33m)\u001b[0m\u001b[1;33m\u001b[0m\u001b[1;33m\u001b[0m\u001b[0m\n\u001b[1;32m---> 12\u001b[1;33m \u001b[0mdict2\u001b[0m\u001b[1;33m.\u001b[0m\u001b[0mupdate\u001b[0m\u001b[1;33m(\u001b[0m\u001b[0mdict1\u001b[0m\u001b[1;33m)\u001b[0m\u001b[1;33m\u001b[0m\u001b[1;33m\u001b[0m\u001b[0m\n\u001b[0m\u001b[0;32m     13\u001b[0m \u001b[0mprint\u001b[0m\u001b[1;33m(\u001b[0m\u001b[0mdict2\u001b[0m\u001b[1;33m)\u001b[0m\u001b[1;33m\u001b[0m\u001b[1;33m\u001b[0m\u001b[0m\n\u001b[0;32m     14\u001b[0m \u001b[0mdict3\u001b[0m\u001b[1;33m=\u001b[0m\u001b[0mdict\u001b[0m\u001b[1;33m.\u001b[0m\u001b[0mfromkeys\u001b[0m\u001b[1;33m(\u001b[0m\u001b[1;33m[\u001b[0m\u001b[1;36m1\u001b[0m\u001b[1;33m,\u001b[0m\u001b[1;36m2\u001b[0m\u001b[1;33m,\u001b[0m\u001b[1;36m3\u001b[0m\u001b[1;33m,\u001b[0m\u001b[1;36m4\u001b[0m\u001b[1;33m]\u001b[0m\u001b[1;33m,\u001b[0m\u001b[1;33m{\u001b[0m\u001b[1;36m1\u001b[0m\u001b[1;33m:\u001b[0m\u001b[1;36m45\u001b[0m\u001b[1;33m}\u001b[0m\u001b[1;33m)\u001b[0m\u001b[1;33m\u001b[0m\u001b[1;33m\u001b[0m\u001b[0m\n",
      "\u001b[1;31mNameError\u001b[0m: name 'dict2' is not defined"
     ]
    }
   ],
   "source": [
    "dict1 = {'name': 'Abhi','class': 2,'section':'c','rank':3}\n",
    "dict5 = {'name': 'ram'}\n",
    "dict1.update(dict5)\n",
    "print(dict1)\n",
    "\n",
    "dict5 = {'name': 'ram','class': 6}\n",
    "dict1.update(dict5)\n",
    "print(dict1)\n",
    "\n",
    "dict1=dict.fromkeys([1,2,3,4],'DPS')\n",
    "print(dict1)\n",
    "dict2.update(dict1)\n",
    "print(dict2)\n",
    "\n",
    "dict3=dict.fromkeys([1,2,3,4],{1:45})\n",
    "dict2.update(dict3)\n",
    "print(dict3)\n",
    "dict2"
   ]
  },
  {
   "cell_type": "code",
   "execution_count": null,
   "id": "30859fb1",
   "metadata": {},
   "outputs": [],
   "source": []
  }
 ],
 "metadata": {
  "kernelspec": {
   "display_name": "Python 3 (ipykernel)",
   "language": "python",
   "name": "python3"
  },
  "language_info": {
   "codemirror_mode": {
    "name": "ipython",
    "version": 3
   },
   "file_extension": ".py",
   "mimetype": "text/x-python",
   "name": "python",
   "nbconvert_exporter": "python",
   "pygments_lexer": "ipython3",
   "version": "3.9.13"
  }
 },
 "nbformat": 4,
 "nbformat_minor": 5
}
