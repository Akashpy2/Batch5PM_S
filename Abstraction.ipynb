{
 "cells": [
  {
   "cell_type": "raw",
   "id": "320d1b25",
   "metadata": {},
   "source": [
    "What is Abstraction\n",
    "Abstraction means hiding the complexity and only showing the essential features of the object. \n",
    "So in a way, Abstraction means hiding the real implementation and we, \n",
    "as a user, knowing only how to use it.\n",
    "Example:A vehicle which we drive with out caring or knowing what all is going underneath.\n",
    "Example:A TV set where we enjoy programs with out knowing the inner details of how TV works.\n",
    "\n",
    "ABC(Abstract Base Class) Module -We can use to create our own Abstract classes \n",
    "\n",
    "Abstraction in Python is achieved by using abstract classes and interfaces.\n",
    "An abstract class is a class that generally provides incomplete functionality \n",
    "and contains one or more abstract methods. \n",
    "Abstract methods are the methods that generally don’t have any implementation, \n",
    "it is left to the sub classes to provide implementation for the abstract methods.\n"
   ]
  },
  {
   "cell_type": "code",
   "execution_count": 2,
   "id": "44d3a546",
   "metadata": {},
   "outputs": [],
   "source": [
    "class Payment:\n",
    "    def slip(self): #This method has only declaration but not definition\n",
    "        pass \n",
    "\n",
    "#we cannot create object of it \n",
    "obj=Payment()\n",
    "obj.slip()"
   ]
  },
  {
   "cell_type": "code",
   "execution_count": 3,
   "id": "0983e161",
   "metadata": {},
   "outputs": [
    {
     "ename": "TypeError",
     "evalue": "Can't instantiate abstract class Payment with abstract method slip",
     "output_type": "error",
     "traceback": [
      "\u001b[1;31m---------------------------------------------------------------------------\u001b[0m",
      "\u001b[1;31mTypeError\u001b[0m                                 Traceback (most recent call last)",
      "\u001b[1;32m~\\AppData\\Local\\Temp\\ipykernel_4284\\889309401.py\u001b[0m in \u001b[0;36m<module>\u001b[1;34m\u001b[0m\n\u001b[0;32m      7\u001b[0m         \u001b[1;32mpass\u001b[0m\u001b[1;33m\u001b[0m\u001b[1;33m\u001b[0m\u001b[0m\n\u001b[0;32m      8\u001b[0m \u001b[1;33m\u001b[0m\u001b[0m\n\u001b[1;32m----> 9\u001b[1;33m \u001b[0mobj\u001b[0m\u001b[1;33m=\u001b[0m\u001b[0mPayment\u001b[0m\u001b[1;33m(\u001b[0m\u001b[1;33m)\u001b[0m\u001b[1;33m\u001b[0m\u001b[1;33m\u001b[0m\u001b[0m\n\u001b[0m\u001b[0;32m     10\u001b[0m \u001b[0mobj\u001b[0m\u001b[1;33m.\u001b[0m\u001b[0mslip\u001b[0m\u001b[1;33m(\u001b[0m\u001b[1;33m)\u001b[0m\u001b[1;33m\u001b[0m\u001b[1;33m\u001b[0m\u001b[0m\n",
      "\u001b[1;31mTypeError\u001b[0m: Can't instantiate abstract class Payment with abstract method slip"
     ]
    }
   ],
   "source": [
    "from abc import ABC, abstractmethod\n",
    "#ABC is the abstract baseclass \n",
    "#abstractmethod is the abstractmethod\n",
    "class Payment(ABC):  #abstractclass\n",
    "    @abstractmethod  #abstractmethod\n",
    "    def slip(self):\n",
    "        pass\n",
    "    \n",
    "obj=Payment()\n",
    "obj.slip()"
   ]
  },
  {
   "cell_type": "code",
   "execution_count": 4,
   "id": "21ead6fb",
   "metadata": {},
   "outputs": [
    {
     "ename": "TypeError",
     "evalue": "Can't instantiate abstract class Bill_Pay with abstract method slip",
     "output_type": "error",
     "traceback": [
      "\u001b[1;31m---------------------------------------------------------------------------\u001b[0m",
      "\u001b[1;31mTypeError\u001b[0m                                 Traceback (most recent call last)",
      "\u001b[1;32m~\\AppData\\Local\\Temp\\ipykernel_4284\\2360223163.py\u001b[0m in \u001b[0;36m<module>\u001b[1;34m\u001b[0m\n\u001b[0;32m      9\u001b[0m \u001b[1;33m\u001b[0m\u001b[0m\n\u001b[0;32m     10\u001b[0m \u001b[1;31m#obj=Payment()\u001b[0m\u001b[1;33m\u001b[0m\u001b[1;33m\u001b[0m\u001b[0m\n\u001b[1;32m---> 11\u001b[1;33m \u001b[0mobj\u001b[0m\u001b[1;33m=\u001b[0m\u001b[0mBill_Pay\u001b[0m\u001b[1;33m(\u001b[0m\u001b[1;33m)\u001b[0m\u001b[1;33m\u001b[0m\u001b[1;33m\u001b[0m\u001b[0m\n\u001b[0m\u001b[0;32m     12\u001b[0m \u001b[0mobj\u001b[0m\u001b[1;33m.\u001b[0m\u001b[0mslip\u001b[0m\u001b[1;33m(\u001b[0m\u001b[1;33m)\u001b[0m\u001b[1;33m\u001b[0m\u001b[1;33m\u001b[0m\u001b[0m\n",
      "\u001b[1;31mTypeError\u001b[0m: Can't instantiate abstract class Bill_Pay with abstract method slip"
     ]
    }
   ],
   "source": [
    "from abc import ABC, abstractmethod\n",
    "class Payment(ABC):\n",
    "    @abstractmethod\n",
    "    def slip(self):\n",
    "        pass\n",
    "\n",
    "class Bill_Pay(Payment):\n",
    "    pass    \n",
    "\n",
    "#obj=Payment()\n",
    "obj=Bill_Pay()\n",
    "obj.slip()"
   ]
  },
  {
   "cell_type": "code",
   "execution_count": 5,
   "id": "6ab4a0c6",
   "metadata": {},
   "outputs": [
    {
     "name": "stdout",
     "output_type": "stream",
     "text": [
      "check\n"
     ]
    }
   ],
   "source": [
    "from abc import ABC, abstractmethod\n",
    "#ABC is the abstract baseclass \n",
    "#abstractmethod is the abstractmethod\n",
    "class Payment(ABC):\n",
    "    @abstractmethod\n",
    "    def slip(self):\n",
    "        pass\n",
    "\n",
    "class Gasbill_Pay(Payment):\n",
    "    def slip(self):\n",
    "        print(\"check\")   \n",
    "\n",
    "#obj=Payment()\n",
    "obj=Gasbill_Pay()\n",
    "obj.slip()"
   ]
  },
  {
   "cell_type": "code",
   "execution_count": 6,
   "id": "be99fe80",
   "metadata": {},
   "outputs": [
    {
     "name": "stdout",
     "output_type": "stream",
     "text": [
      "check\n"
     ]
    }
   ],
   "source": [
    "class Gasbill_Pay():\n",
    "    def slip(self):\n",
    "        print(\"check\")   \n",
    "\n",
    "#obj=Payment()\n",
    "obj=Gasbill_Pay()\n",
    "obj.slip()"
   ]
  },
  {
   "cell_type": "code",
   "execution_count": 8,
   "id": "b8daa45c",
   "metadata": {},
   "outputs": [
    {
     "name": "stdout",
     "output_type": "stream",
     "text": [
      "check\n"
     ]
    }
   ],
   "source": [
    "#when you have more methods \n",
    "from abc import ABC, abstractmethod\n",
    "class Payment(ABC):\n",
    "    @abstractmethod\n",
    "    def slip(self):\n",
    "        pass\n",
    "\n",
    "class Gasbill_Pay(Payment):\n",
    "    def slip(self):\n",
    "        print(\"check\")\n",
    "    \n",
    "#pay=Payment()\n",
    "pay1=Gasbill_Pay()\n",
    "pay1.slip()"
   ]
  },
  {
   "cell_type": "code",
   "execution_count": 9,
   "id": "2a7e07cf",
   "metadata": {},
   "outputs": [
    {
     "name": "stdout",
     "output_type": "stream",
     "text": [
      "Mobile payment\n",
      "gas bill check\n"
     ]
    }
   ],
   "source": [
    "#when you have more methods \n",
    "from abc import ABC, abstractmethod\n",
    "class Payment(ABC):\n",
    "    @abstractmethod\n",
    "    def slip(self):\n",
    "        pass\n",
    "\n",
    "class Gasbill_Pay(Payment):\n",
    "    def slip(self):\n",
    "        print(\"gas bill check\")\n",
    "    \n",
    "class Mobile_Pay:\n",
    "    def payment(self):\n",
    "        print('Mobile payment')\n",
    "       \n",
    "\n",
    "#pay=Payment()\n",
    "pay1=Gasbill_Pay()\n",
    "#pay.slip()\n",
    "mob=Mobile_Pay()\n",
    "mob.payment()\n",
    "\n",
    "pay1.slip()"
   ]
  },
  {
   "cell_type": "code",
   "execution_count": 11,
   "id": "64cdc2b4",
   "metadata": {},
   "outputs": [
    {
     "name": "stdout",
     "output_type": "stream",
     "text": [
      "Credit card payment of-  100\n",
      "Purchase of amount-  100\n",
      "True\n",
      "Mobile wallet payment of-  200\n",
      "Purchase of amount-  200\n",
      "True\n"
     ]
    }
   ],
   "source": [
    "from abc import ABC, abstractmethod\n",
    "class Payment(ABC):\n",
    "    def print_slip(self, amount):\n",
    "        print('Purchase of amount- ', amount)\n",
    "    @abstractmethod\n",
    "    def payment(self, amount):\n",
    "        pass\n",
    "\n",
    "class CreditCardPayment(Payment):\n",
    "    def payment(self, amount):\n",
    "        print('Credit card payment of- ', amount)\n",
    "\n",
    "class MobileWalletPayment(Payment):\n",
    "    def payment(self, amount):\n",
    "        print('Mobile wallet payment of- ', amount)\n",
    "        \n",
    "obj = CreditCardPayment()\n",
    "obj.payment(100)\n",
    "obj.print_slip(100)\n",
    "print(isinstance(obj, Payment))\n",
    "obj = MobileWalletPayment()\n",
    "obj.payment(200)\n",
    "obj.print_slip(200)\n",
    "print(isinstance(obj, Payment))"
   ]
  },
  {
   "cell_type": "code",
   "execution_count": null,
   "id": "9d1d9b83",
   "metadata": {},
   "outputs": [],
   "source": []
  }
 ],
 "metadata": {
  "kernelspec": {
   "display_name": "Python 3 (ipykernel)",
   "language": "python",
   "name": "python3"
  },
  "language_info": {
   "codemirror_mode": {
    "name": "ipython",
    "version": 3
   },
   "file_extension": ".py",
   "mimetype": "text/x-python",
   "name": "python",
   "nbconvert_exporter": "python",
   "pygments_lexer": "ipython3",
   "version": "3.9.13"
  }
 },
 "nbformat": 4,
 "nbformat_minor": 5
}
