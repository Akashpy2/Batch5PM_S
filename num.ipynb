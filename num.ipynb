{
 "cells": [
  {
   "cell_type": "markdown",
   "id": "74431032",
   "metadata": {},
   "source": [
    "# Numbers"
   ]
  },
  {
   "cell_type": "raw",
   "id": "0000b913",
   "metadata": {},
   "source": [
    "Numbers: you can calculate using numbers\n",
    "Different types of Numbers\n",
    "Int\n",
    "Float\n",
    "Long\n",
    "Complex\n"
   ]
  },
  {
   "cell_type": "code",
   "execution_count": 2,
   "id": "4e49ca14",
   "metadata": {},
   "outputs": [
    {
     "name": "stdout",
     "output_type": "stream",
     "text": [
      "13\n"
     ]
    }
   ],
   "source": [
    "a=9\n",
    "b=4\n",
    "c=a+b\n",
    "print(c)"
   ]
  }
 ],
 "metadata": {
  "kernelspec": {
   "display_name": "Python 3 (ipykernel)",
   "language": "python",
   "name": "python3"
  },
  "language_info": {
   "codemirror_mode": {
    "name": "ipython",
    "version": 3
   },
   "file_extension": ".py",
   "mimetype": "text/x-python",
   "name": "python",
   "nbconvert_exporter": "python",
   "pygments_lexer": "ipython3",
   "version": "3.9.13"
  }
 },
 "nbformat": 4,
 "nbformat_minor": 5
}
