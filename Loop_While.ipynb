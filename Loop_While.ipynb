{
 "cells": [
  {
   "cell_type": "code",
   "execution_count": 1,
   "id": "72939ba2",
   "metadata": {},
   "outputs": [
    {
     "name": "stdout",
     "output_type": "stream",
     "text": [
      "1\n",
      "2\n",
      "3\n",
      "4\n"
     ]
    }
   ],
   "source": [
    "i=1\n",
    "while i<5:\n",
    "    print(i)\n",
    "    i+=1 #i=i+1  "
   ]
  },
  {
   "cell_type": "code",
   "execution_count": 3,
   "id": "cfff4531",
   "metadata": {},
   "outputs": [
    {
     "name": "stdout",
     "output_type": "stream",
     "text": [
      "Hello\n",
      "Hello\n",
      "Hello\n",
      "Hello\n"
     ]
    }
   ],
   "source": [
    "i=1\n",
    "while i<5:\n",
    "    i=i+1  \n",
    "    #print(i)\n",
    "    print('Hello')"
   ]
  },
  {
   "cell_type": "code",
   "execution_count": 4,
   "id": "2cb052a4",
   "metadata": {},
   "outputs": [
    {
     "name": "stdout",
     "output_type": "stream",
     "text": [
      "Hello\n",
      "Hello\n",
      "Hello\n",
      "Hello\n",
      "Out\n"
     ]
    }
   ],
   "source": [
    "i=1\n",
    "while i<5:\n",
    "    i=i+1  \n",
    "    print('Hello')\n",
    "else:\n",
    "    print('Out')"
   ]
  },
  {
   "cell_type": "code",
   "execution_count": 1,
   "id": "8c1937db",
   "metadata": {},
   "outputs": [
    {
     "name": "stdout",
     "output_type": "stream",
     "text": [
      "Enter the namek\n",
      "Enter the marks4\n",
      "student k Stu Marks 4\n",
      "Enter the namer\n",
      "Enter the marks5\n",
      "student r Stu Marks 5\n",
      "Enter the namet\n",
      "Enter the marks9\n",
      "student t Stu Marks 9\n",
      "Enter the nameo\n",
      "Enter the marks8\n",
      "student o Stu Marks 8\n"
     ]
    }
   ],
   "source": [
    "i=1\n",
    "while i<5:\n",
    "    name=input('Enter the name')\n",
    "    marks=int(input('Enter the marks'))\n",
    "    print('student=',name,'Stu Marks=',marks)\n",
    "    i+=1 "
   ]
  },
  {
   "cell_type": "code",
   "execution_count": 6,
   "id": "35d50097",
   "metadata": {},
   "outputs": [
    {
     "name": "stdout",
     "output_type": "stream",
     "text": [
      "Enter the namea\n",
      "Enter the marks1\n",
      "student= a Stu Marks= 1\n",
      "want to continue -y- else press any otherm\n"
     ]
    }
   ],
   "source": [
    "conter='y'\n",
    "while conter=='y':\n",
    "    name=input('Enter the name')\n",
    "    marks=int(input('Enter the marks'))\n",
    "    print('student=',name,'Stu Marks=',marks)\n",
    "    conter=input('want to continue -y- else press any other')"
   ]
  },
  {
   "cell_type": "code",
   "execution_count": 11,
   "id": "5eb8eb84",
   "metadata": {},
   "outputs": [
    {
     "name": "stdout",
     "output_type": "stream",
     "text": [
      "Apple\n",
      "Asus\n",
      "Dell\n",
      "Samsung\n",
      "END\n"
     ]
    }
   ],
   "source": [
    "laptops = [\"Apple\", \"Asus\", \"Dell\", \"Samsung\"]\n",
    "i=0\n",
    "while i<len(laptops):\n",
    "    print(laptops[i])\n",
    "    i=i+1\n",
    "print('END')   "
   ]
  },
  {
   "cell_type": "code",
   "execution_count": 13,
   "id": "6dbf3e3e",
   "metadata": {},
   "outputs": [
    {
     "name": "stdout",
     "output_type": "stream",
     "text": [
      "How many cholates you want6\n",
      "Cholates\n",
      "Cholates\n",
      "Cholates\n",
      "Cholates\n",
      "Cholates\n",
      "Out of Stock\n",
      "Bye\n"
     ]
    }
   ],
   "source": [
    "c=5\n",
    "x=int(input(\"How many cholates you want\"))    \n",
    "\n",
    "i=1\n",
    "while i<=x:   \n",
    "    if i>c:\n",
    "        print(\"Out of Stock\")\n",
    "        break\n",
    "    print(\"Cholates\")\n",
    "    i+=1\n",
    "\n",
    "print(\"Bye\")"
   ]
  },
  {
   "cell_type": "code",
   "execution_count": null,
   "id": "4e5b7fb3",
   "metadata": {},
   "outputs": [],
   "source": []
  }
 ],
 "metadata": {
  "kernelspec": {
   "display_name": "Python 3 (ipykernel)",
   "language": "python",
   "name": "python3"
  },
  "language_info": {
   "codemirror_mode": {
    "name": "ipython",
    "version": 3
   },
   "file_extension": ".py",
   "mimetype": "text/x-python",
   "name": "python",
   "nbconvert_exporter": "python",
   "pygments_lexer": "ipython3",
   "version": "3.9.13"
  }
 },
 "nbformat": 4,
 "nbformat_minor": 5
}
