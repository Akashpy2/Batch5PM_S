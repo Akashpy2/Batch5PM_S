{
 "cells": [
  {
   "cell_type": "raw",
   "id": "93dcaf63",
   "metadata": {},
   "source": [
    "Random Functions:\n",
    "-----------------\n",
    "Choice - A random item from a list, Tuple, String\n",
    "Randrange - A randomly selected variable from ranges(start,stop,step)\n",
    "Random -A random float r, Such that 0 is less than or equal to r  and r is less than 1\n",
    "seed - sets the integer starting value use in generating random numbers. Call this function \n",
    "before calling any other random module function. returns none\n",
    "The seed() method is used to initialize the random number generator.\n",
    "\n",
    "The random number generator needs a number to start with (a seed value), to be able to generate a random number.\n",
    "\n",
    "By default the random number generator uses the current system time.\n",
    "\n",
    "Shuffle - Randomizes the items of a list in place. Returns none\n",
    "Uniform(x,y) - A random float r, such that x is less than  or equal to r and r is less than y"
   ]
  },
  {
   "cell_type": "code",
   "execution_count": 1,
   "id": "42d27fc7",
   "metadata": {},
   "outputs": [],
   "source": [
    "import random as rd"
   ]
  },
  {
   "cell_type": "code",
   "execution_count": 6,
   "id": "72878c71",
   "metadata": {},
   "outputs": [
    {
     "data": {
      "text/plain": [
       "0.08291937751418965"
      ]
     },
     "execution_count": 6,
     "metadata": {},
     "output_type": "execute_result"
    }
   ],
   "source": [
    "rd.random()"
   ]
  },
  {
   "cell_type": "code",
   "execution_count": 24,
   "id": "b972892f",
   "metadata": {},
   "outputs": [
    {
     "name": "stdout",
     "output_type": "stream",
     "text": [
      "0.8846362238431056\n",
      "0.26881217635527843\n",
      "0.24336880825582463\n",
      "0.05046591039341208\n",
      "0.3808716526016279\n",
      "0.25990967426318445\n",
      "0.6189650001133898\n",
      "0.5619648066952532\n",
      "0.6297966472938272\n",
      "0.7282125174124989\n"
     ]
    }
   ],
   "source": [
    "for i in range(10):\n",
    "    print(rd.random())"
   ]
  },
  {
   "cell_type": "code",
   "execution_count": 9,
   "id": "83a04ed8",
   "metadata": {},
   "outputs": [
    {
     "data": {
      "text/plain": [
       "6"
      ]
     },
     "execution_count": 9,
     "metadata": {},
     "output_type": "execute_result"
    }
   ],
   "source": [
    "l=[1,4,9,6,8]\n",
    "rd.choice(l)"
   ]
  },
  {
   "cell_type": "code",
   "execution_count": 13,
   "id": "df1a4f3f",
   "metadata": {},
   "outputs": [
    {
     "name": "stdout",
     "output_type": "stream",
     "text": [
      "[9, 4, 1, 8, 6]\n"
     ]
    }
   ],
   "source": [
    "l=[1,4,9,6,8]\n",
    "rd.shuffle(l)\n",
    "print(l)"
   ]
  },
  {
   "cell_type": "code",
   "execution_count": 20,
   "id": "281ef866",
   "metadata": {},
   "outputs": [
    {
     "name": "stdout",
     "output_type": "stream",
     "text": [
      "10\n",
      "57\n",
      "59\n"
     ]
    }
   ],
   "source": [
    "print(rd.randrange(100))\n",
    "print(rd.randrange(1,100))\n",
    "print(rd.randrange(1,100,2))"
   ]
  },
  {
   "cell_type": "code",
   "execution_count": 23,
   "id": "25a0062e",
   "metadata": {},
   "outputs": [
    {
     "data": {
      "text/plain": [
       "6"
      ]
     },
     "execution_count": 23,
     "metadata": {},
     "output_type": "execute_result"
    }
   ],
   "source": [
    "rd.randint(1,20)"
   ]
  },
  {
   "cell_type": "code",
   "execution_count": 27,
   "id": "d6d73783",
   "metadata": {},
   "outputs": [
    {
     "name": "stdout",
     "output_type": "stream",
     "text": [
      "You Win\n"
     ]
    }
   ],
   "source": [
    "dice=rd.randint(1,6) \n",
    "\n",
    "if dice==1:\n",
    "    print(\"You Win\")\n",
    "else:\n",
    "    print(\"You loose\" ,dice)"
   ]
  },
  {
   "cell_type": "code",
   "execution_count": 30,
   "id": "7ba63f37",
   "metadata": {},
   "outputs": [
    {
     "name": "stdout",
     "output_type": "stream",
     "text": [
      "3.8857471075324446\n"
     ]
    }
   ],
   "source": [
    "f = rd.uniform(3,5)  \n",
    "print(f)"
   ]
  },
  {
   "cell_type": "code",
   "execution_count": 33,
   "id": "bd99b571",
   "metadata": {},
   "outputs": [
    {
     "data": {
      "text/plain": [
       "0.9560342718892494"
      ]
     },
     "execution_count": 33,
     "metadata": {},
     "output_type": "execute_result"
    }
   ],
   "source": [
    "rd.seed(2)\n",
    "x2= rd.random()\n",
    "x2"
   ]
  },
  {
   "cell_type": "code",
   "execution_count": null,
   "id": "67050023",
   "metadata": {},
   "outputs": [],
   "source": []
  }
 ],
 "metadata": {
  "kernelspec": {
   "display_name": "Python 3 (ipykernel)",
   "language": "python",
   "name": "python3"
  },
  "language_info": {
   "codemirror_mode": {
    "name": "ipython",
    "version": 3
   },
   "file_extension": ".py",
   "mimetype": "text/x-python",
   "name": "python",
   "nbconvert_exporter": "python",
   "pygments_lexer": "ipython3",
   "version": "3.9.13"
  }
 },
 "nbformat": 4,
 "nbformat_minor": 5
}
