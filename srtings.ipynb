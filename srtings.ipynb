{
 "cells": [
  {
   "cell_type": "raw",
   "id": "c406afac",
   "metadata": {},
   "source": [
    "Strings -> represented with inside single('') or double quotes(\"\") \n",
    "-------\n",
    "\n",
    "H Y D E R A B A D\n",
    "0 1 2 3 4 5 6 7 8\n",
    " -8-7-6-5-4-3-2-1\n",
    "\n",
    "Functions\n",
    "---------\n",
    "upper\n",
    "lower\n",
    "substr\n",
    "len\n",
    "trim\n",
    "left\n"
   ]
  },
  {
   "cell_type": "code",
   "execution_count": 1,
   "id": "93c58847",
   "metadata": {},
   "outputs": [
    {
     "data": {
      "text/plain": [
       "str"
      ]
     },
     "execution_count": 1,
     "metadata": {},
     "output_type": "execute_result"
    }
   ],
   "source": [
    "s='10'\n",
    "type(s)"
   ]
  },
  {
   "cell_type": "code",
   "execution_count": 2,
   "id": "409a4622",
   "metadata": {},
   "outputs": [
    {
     "data": {
      "text/plain": [
       "str"
      ]
     },
     "execution_count": 2,
     "metadata": {},
     "output_type": "execute_result"
    }
   ],
   "source": [
    "s='1sdf'\n",
    "type(s)"
   ]
  },
  {
   "cell_type": "code",
   "execution_count": 3,
   "id": "7bf40968",
   "metadata": {},
   "outputs": [
    {
     "name": "stdout",
     "output_type": "stream",
     "text": [
      "d\n"
     ]
    }
   ],
   "source": [
    "s1='hyderabad'\n",
    "r=s1[2]\n",
    "print(r)"
   ]
  },
  {
   "cell_type": "code",
   "execution_count": 4,
   "id": "005ee641",
   "metadata": {},
   "outputs": [
    {
     "data": {
      "text/plain": [
       "'hyderab'"
      ]
     },
     "execution_count": 4,
     "metadata": {},
     "output_type": "execute_result"
    }
   ],
   "source": [
    "s1[0:7]"
   ]
  },
  {
   "cell_type": "code",
   "execution_count": 5,
   "id": "71b419c2",
   "metadata": {},
   "outputs": [
    {
     "data": {
      "text/plain": [
       "'hyderabad'"
      ]
     },
     "execution_count": 5,
     "metadata": {},
     "output_type": "execute_result"
    }
   ],
   "source": [
    "s1[0:]"
   ]
  },
  {
   "cell_type": "code",
   "execution_count": 6,
   "id": "f0eb1141",
   "metadata": {},
   "outputs": [
    {
     "data": {
      "text/plain": [
       "'hyder'"
      ]
     },
     "execution_count": 6,
     "metadata": {},
     "output_type": "execute_result"
    }
   ],
   "source": [
    "s1[0:5]"
   ]
  },
  {
   "cell_type": "code",
   "execution_count": 7,
   "id": "1ce22743",
   "metadata": {},
   "outputs": [
    {
     "data": {
      "text/plain": [
       "'d'"
      ]
     },
     "execution_count": 7,
     "metadata": {},
     "output_type": "execute_result"
    }
   ],
   "source": [
    "s1[-1]"
   ]
  },
  {
   "cell_type": "code",
   "execution_count": 5,
   "id": "bc2095b7",
   "metadata": {},
   "outputs": [
    {
     "ename": "TypeError",
     "evalue": "'str' object does not support item assignment",
     "output_type": "error",
     "traceback": [
      "\u001b[1;31m---------------------------------------------------------------------------\u001b[0m",
      "\u001b[1;31mTypeError\u001b[0m                                 Traceback (most recent call last)",
      "\u001b[1;32m~\\AppData\\Local\\Temp\\ipykernel_8808\\799743855.py\u001b[0m in \u001b[0;36m<module>\u001b[1;34m\u001b[0m\n\u001b[0;32m      1\u001b[0m \u001b[0ms1\u001b[0m\u001b[1;33m=\u001b[0m\u001b[1;34m'hyderabad'\u001b[0m\u001b[1;33m\u001b[0m\u001b[1;33m\u001b[0m\u001b[0m\n\u001b[1;32m----> 2\u001b[1;33m \u001b[0ms1\u001b[0m\u001b[1;33m[\u001b[0m\u001b[1;36m1\u001b[0m\u001b[1;33m]\u001b[0m\u001b[1;33m=\u001b[0m\u001b[1;34m'a'\u001b[0m\u001b[1;33m\u001b[0m\u001b[1;33m\u001b[0m\u001b[0m\n\u001b[0m",
      "\u001b[1;31mTypeError\u001b[0m: 'str' object does not support item assignment"
     ]
    }
   ],
   "source": [
    "s1='hyderabad'\n",
    "s1[1]='a'"
   ]
  },
  {
   "cell_type": "code",
   "execution_count": 9,
   "id": "2ac3a891",
   "metadata": {},
   "outputs": [
    {
     "data": {
      "text/plain": [
       "'eraba'"
      ]
     },
     "execution_count": 9,
     "metadata": {},
     "output_type": "execute_result"
    }
   ],
   "source": [
    "s1[-6:-1]"
   ]
  },
  {
   "cell_type": "code",
   "execution_count": 10,
   "id": "ba29df76",
   "metadata": {},
   "outputs": [
    {
     "data": {
      "text/plain": [
       "'erabad'"
      ]
     },
     "execution_count": 10,
     "metadata": {},
     "output_type": "execute_result"
    }
   ],
   "source": [
    "s1[-6:]"
   ]
  },
  {
   "cell_type": "code",
   "execution_count": 7,
   "id": "998a6af7",
   "metadata": {},
   "outputs": [
    {
     "name": "stdout",
     "output_type": "stream",
     "text": [
      "HYDERABAD\n",
      "hyderabad\n"
     ]
    }
   ],
   "source": [
    "s1='hyderabad'\n",
    "#s1.upper()\n",
    "r=s1.upper()\n",
    "print(r)\n",
    "r=s1.lower()\n",
    "print(r)"
   ]
  },
  {
   "cell_type": "code",
   "execution_count": 15,
   "id": "b6a08417",
   "metadata": {},
   "outputs": [
    {
     "name": "stdout",
     "output_type": "stream",
     "text": [
      "11\n"
     ]
    }
   ],
   "source": [
    "s2=' hyderabad '\n",
    "r=len(s2)\n",
    "print(r)"
   ]
  },
  {
   "cell_type": "code",
   "execution_count": 19,
   "id": "b0a46b38",
   "metadata": {},
   "outputs": [
    {
     "name": "stdout",
     "output_type": "stream",
     "text": [
      "hyderabad\n"
     ]
    }
   ],
   "source": [
    "s2=' hyderabad '   \n",
    "r=s2.strip()   #Removes leading and trailing blanks\n",
    "print(r)"
   ]
  },
  {
   "cell_type": "code",
   "execution_count": 23,
   "id": "e4c4a7db",
   "metadata": {},
   "outputs": [
    {
     "name": "stdout",
     "output_type": "stream",
     "text": [
      "Hyderabad \n"
     ]
    }
   ],
   "source": [
    "s3='hyderabad '  \n",
    "r=s3.capitalize()\n",
    "print(r)"
   ]
  },
  {
   "cell_type": "code",
   "execution_count": 27,
   "id": "08e0b59e",
   "metadata": {},
   "outputs": [
    {
     "name": "stdout",
     "output_type": "stream",
     "text": [
      "   hyderabad   \n",
      "@@@hyderabad@@@\n",
      "000000hyderabad\n"
     ]
    }
   ],
   "source": [
    "s3='hyderabad'  \n",
    "r=s3.center(15)\n",
    "print(r)\n",
    "r=s3.center(15,'@')\n",
    "print(r)\n",
    "r=s3.zfill(15)\n",
    "print(r)"
   ]
  },
  {
   "cell_type": "code",
   "execution_count": 28,
   "id": "ffe728d4",
   "metadata": {},
   "outputs": [
    {
     "name": "stdout",
     "output_type": "stream",
     "text": [
      "2\n",
      "0\n",
      "2\n"
     ]
    }
   ],
   "source": [
    "st1='hyyyderabad'\n",
    "a=st1.count('a') # return no of times substring repeation in main string.\n",
    "print(a)\n",
    "a=st1.count('k') # return no of times substring repeation in main string.\n",
    "print(a)\n",
    "a=st1.count('y',1,3)  # count substring only in mentioned range\n",
    "print(a)"
   ]
  },
  {
   "cell_type": "code",
   "execution_count": 29,
   "id": "0f8c2a9b",
   "metadata": {},
   "outputs": [
    {
     "name": "stdout",
     "output_type": "stream",
     "text": [
      "-1\n",
      "-1\n",
      "1\n",
      "4\n"
     ]
    }
   ],
   "source": [
    "a=st1.find('k') # retuns the index where the substring is find first else returns -1 \n",
    "print(a)\n",
    "a=st1.find('b',3,6) # find substring only in mentioned range\n",
    "print(a)\n",
    "a=st1.find('y') \n",
    "print(a)\n",
    "a=st1.find('d') \n",
    "print(a)"
   ]
  },
  {
   "cell_type": "code",
   "execution_count": 30,
   "id": "39a0cea7",
   "metadata": {},
   "outputs": [
    {
     "name": "stdout",
     "output_type": "stream",
     "text": [
      "True\n"
     ]
    }
   ],
   "source": [
    "s='12'\n",
    "s1=s.isdigit()#returns True\n",
    "print(s1)"
   ]
  },
  {
   "cell_type": "code",
   "execution_count": 31,
   "id": "49d28d92",
   "metadata": {},
   "outputs": [
    {
     "name": "stdout",
     "output_type": "stream",
     "text": [
      "False\n"
     ]
    }
   ],
   "source": [
    "s='abc'\n",
    "s1=s.isdigit()#returns True\n",
    "print(s1)"
   ]
  },
  {
   "cell_type": "code",
   "execution_count": null,
   "id": "13e4ef3e",
   "metadata": {},
   "outputs": [],
   "source": [
    "s='abc'\n",
    "r=s.isnumeric()\n",
    "print(r)\n",
    "print(s.islower())\n",
    "s.isupper()\n",
    "s.isalpha()\n",
    "s.isalnum()"
   ]
  },
  {
   "cell_type": "code",
   "execution_count": 36,
   "id": "a64903fb",
   "metadata": {},
   "outputs": [
    {
     "name": "stdout",
     "output_type": "stream",
     "text": [
      "kirankumar\n",
      "kiran kumar\n"
     ]
    }
   ],
   "source": [
    "f='kiran'\n",
    "l='kumar'\n",
    "r=f+l\n",
    "print(r)\n",
    "r=f+' '+l\n",
    "print(r)"
   ]
  },
  {
   "cell_type": "code",
   "execution_count": 37,
   "id": "70681f74",
   "metadata": {},
   "outputs": [
    {
     "name": "stdout",
     "output_type": "stream",
     "text": [
      "kirankiran\n"
     ]
    }
   ],
   "source": [
    "f='kiran'\n",
    "l='kumar'\n",
    "r=f*2\n",
    "print(r)"
   ]
  },
  {
   "cell_type": "code",
   "execution_count": 38,
   "id": "a2721896",
   "metadata": {},
   "outputs": [],
   "source": [
    "s3='hyderabad'  \n",
    "del s3"
   ]
  },
  {
   "cell_type": "code",
   "execution_count": 39,
   "id": "42da23ce",
   "metadata": {},
   "outputs": [
    {
     "ename": "NameError",
     "evalue": "name 's3' is not defined",
     "output_type": "error",
     "traceback": [
      "\u001b[1;31m---------------------------------------------------------------------------\u001b[0m",
      "\u001b[1;31mNameError\u001b[0m                                 Traceback (most recent call last)",
      "\u001b[1;32m~\\AppData\\Local\\Temp\\ipykernel_11824\\834128321.py\u001b[0m in \u001b[0;36m<module>\u001b[1;34m\u001b[0m\n\u001b[1;32m----> 1\u001b[1;33m \u001b[0ms3\u001b[0m\u001b[1;33m\u001b[0m\u001b[1;33m\u001b[0m\u001b[0m\n\u001b[0m",
      "\u001b[1;31mNameError\u001b[0m: name 's3' is not defined"
     ]
    }
   ],
   "source": [
    "s3"
   ]
  },
  {
   "cell_type": "code",
   "execution_count": 42,
   "id": "8644c170",
   "metadata": {},
   "outputs": [
    {
     "name": "stdout",
     "output_type": "stream",
     "text": [
      "I contain\b three tabs\n",
      "I contain\tthree\ttabs\n",
      "I contain\t\t\tthree\t\t\ttabs\n",
      "I contain a\t\u000b",
      "\tvertical tab\n",
      "I contain a\t\u0007\tBELL, which you can \n",
      "hear\n"
     ]
    }
   ],
   "source": [
    "'''\n",
    "\\n - go to next line\n",
    "\\t - Tab space\n",
    "\\a - alert\n",
    "\\b -backspace\n",
    "'''\n",
    "s4 = \"I contain\\b three tabs\"\n",
    "s5 = \"I contain\\tthree\\ttabs\"\n",
    "s6 = \"I contain\\t\\t\\tthree\\t\\t\\ttabs\"\n",
    "s7 = \"I contain a\\t\\v\\tvertical tab\"\n",
    "s8 = \"I contain a\\t\\a\\tBELL, which you can \\nhear\"\n",
    "\n",
    "print(s4)\n",
    "print(s5)\n",
    "print(s6)\n",
    "print(s7)\n",
    "print(s8)"
   ]
  },
  {
   "cell_type": "code",
   "execution_count": null,
   "id": "f3be3e2b",
   "metadata": {},
   "outputs": [],
   "source": []
  }
 ],
 "metadata": {
  "kernelspec": {
   "display_name": "Python 3 (ipykernel)",
   "language": "python",
   "name": "python3"
  },
  "language_info": {
   "codemirror_mode": {
    "name": "ipython",
    "version": 3
   },
   "file_extension": ".py",
   "mimetype": "text/x-python",
   "name": "python",
   "nbconvert_exporter": "python",
   "pygments_lexer": "ipython3",
   "version": "3.9.13"
  }
 },
 "nbformat": 4,
 "nbformat_minor": 5
}
