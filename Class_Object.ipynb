{
 "cells": [
  {
   "cell_type": "raw",
   "id": "44bdb9f5",
   "metadata": {},
   "source": [
    "Class:A Code that defines the attributes and methods of a kind of object\n",
    "A class is a collection of variables and functions \n",
    "\n",
    "Object: A single software unit that combines attributes and methods\n",
    "\n",
    "Constructor: A special method that is automatically invoked right after a new object is created\n",
    "\n",
    "Self - It is a reference"
   ]
  },
  {
   "cell_type": "code",
   "execution_count": 2,
   "id": "d176503b",
   "metadata": {},
   "outputs": [
    {
     "name": "stdout",
     "output_type": "stream",
     "text": [
      "4\n",
      "6\n"
     ]
    }
   ],
   "source": [
    "class Sample:\n",
    "    a=4\n",
    "    b=6\n",
    "obj1=Sample\n",
    "d=Sample\n",
    "print(obj1.a)\n",
    "print(d.b)"
   ]
  },
  {
   "cell_type": "code",
   "execution_count": 3,
   "id": "bb41556a",
   "metadata": {},
   "outputs": [
    {
     "name": "stdout",
     "output_type": "stream",
     "text": [
      "the value <built-in function id>\n"
     ]
    }
   ],
   "source": [
    "class Employee:  \n",
    "    id = 10;  \n",
    "    name = \"John\"  \n",
    "    def display (self):  \n",
    "        #print(\"ID: %d \\nName: %s\"%(self.id,self.name))  \n",
    "        print(\"the value\",id)\n",
    "emp = Employee()  \n",
    "emp.display() "
   ]
  },
  {
   "cell_type": "code",
   "execution_count": 4,
   "id": "301c7443",
   "metadata": {},
   "outputs": [
    {
     "name": "stdout",
     "output_type": "stream",
     "text": [
      "John\n",
      "101\n"
     ]
    }
   ],
   "source": [
    "class Employee:  \n",
    "    def __init__(self,name,id):  \n",
    "        self.id = id\n",
    "        self.name = name\n",
    "    \n",
    "emp1 = Employee(\"John\",101)  \n",
    "\n",
    "print(emp1.name)\n",
    "print(emp1.id)"
   ]
  },
  {
   "cell_type": "code",
   "execution_count": 5,
   "id": "bf4c47d3",
   "metadata": {},
   "outputs": [],
   "source": [
    "class Student:  \n",
    "    def __init__(self,name,id,age):  \n",
    "        self.name = name;  \n",
    "        self.id = id;  \n",
    "        self.age = age  \n",
    "  \n",
    "#creates the object of the class Student  \n",
    "s = Student(\"John\",101,22)  "
   ]
  },
  {
   "cell_type": "code",
   "execution_count": 6,
   "id": "2d06fa76",
   "metadata": {},
   "outputs": [
    {
     "data": {
      "text/plain": [
       "'John'"
      ]
     },
     "execution_count": 6,
     "metadata": {},
     "output_type": "execute_result"
    }
   ],
   "source": [
    "getattr(s,'name')"
   ]
  },
  {
   "cell_type": "code",
   "execution_count": 7,
   "id": "834eead0",
   "metadata": {},
   "outputs": [],
   "source": [
    "setattr(s,'age',23)"
   ]
  },
  {
   "cell_type": "code",
   "execution_count": 8,
   "id": "ab7b3743",
   "metadata": {},
   "outputs": [
    {
     "data": {
      "text/plain": [
       "23"
      ]
     },
     "execution_count": 8,
     "metadata": {},
     "output_type": "execute_result"
    }
   ],
   "source": [
    "getattr(s,'age')"
   ]
  },
  {
   "cell_type": "code",
   "execution_count": 9,
   "id": "fecebe09",
   "metadata": {},
   "outputs": [
    {
     "name": "stdout",
     "output_type": "stream",
     "text": [
      "This is parametrized constructor\n",
      "Hello John\n"
     ]
    }
   ],
   "source": [
    "class Student:    \n",
    "    # Constructor - parameterized    \n",
    "    def __init__(self, n):    \n",
    "        print(\"This is parametrized constructor\")    \n",
    "        self.name = n    \n",
    "    def show(self):    \n",
    "        print(\"Hello\",self.name)    \n",
    "student = Student(\"John\")    \n",
    "student.show()  "
   ]
  },
  {
   "cell_type": "code",
   "execution_count": null,
   "id": "f797bfe1",
   "metadata": {},
   "outputs": [],
   "source": []
  }
 ],
 "metadata": {
  "kernelspec": {
   "display_name": "Python 3 (ipykernel)",
   "language": "python",
   "name": "python3"
  },
  "language_info": {
   "codemirror_mode": {
    "name": "ipython",
    "version": 3
   },
   "file_extension": ".py",
   "mimetype": "text/x-python",
   "name": "python",
   "nbconvert_exporter": "python",
   "pygments_lexer": "ipython3",
   "version": "3.9.13"
  }
 },
 "nbformat": 4,
 "nbformat_minor": 5
}
