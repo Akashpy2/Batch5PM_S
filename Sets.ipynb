{
 "cells": [
  {
   "cell_type": "raw",
   "id": "2b412b17",
   "metadata": {},
   "source": [
    "Sets -> {}\n",
    "Removes duplicates automatically\n",
    "Sort in accending order by default\n",
    "\n",
    "Types of sets:\n",
    "--------------------\n",
    "Normal sets -Mutable\n",
    "Frozen sets -Immutable\n",
    "\n",
    "Functions\n",
    "\n",
    "Union         |\n",
    "Intersection  &\n",
    "Diff          -\n",
    "Symm Diff     ^"
   ]
  },
  {
   "cell_type": "code",
   "execution_count": 5,
   "id": "159c6612",
   "metadata": {},
   "outputs": [
    {
     "name": "stdout",
     "output_type": "stream",
     "text": [
      "<class 'dict'>\n",
      "<class 'set'>\n",
      "{1, 3, 4, 5}\n"
     ]
    }
   ],
   "source": [
    "s1={}\n",
    "print(type(s1))\n",
    "s1={1,2,3}\n",
    "print(type(s1))\n",
    "s1={1,5,3,4,5}\n",
    "print(s1)"
   ]
  },
  {
   "cell_type": "code",
   "execution_count": 11,
   "id": "690e3750",
   "metadata": {},
   "outputs": [
    {
     "name": "stdout",
     "output_type": "stream",
     "text": [
      "{1, 4, 6, 7, 8, 9}\n",
      "{1, 4, 6, 7, 9}\n",
      "{4, 6, 7, 9}\n"
     ]
    }
   ],
   "source": [
    "s2={1,4,6,7,8,8}\n",
    "s2.add(9)\n",
    "print(s2)\n",
    "s2.remove(8)\n",
    "print(s2)\n",
    "s2.discard(1)\n",
    "print(s2)"
   ]
  },
  {
   "cell_type": "code",
   "execution_count": 15,
   "id": "01ff11de",
   "metadata": {},
   "outputs": [
    {
     "ename": "KeyError",
     "evalue": "1",
     "output_type": "error",
     "traceback": [
      "\u001b[1;31m---------------------------------------------------------------------------\u001b[0m",
      "\u001b[1;31mKeyError\u001b[0m                                  Traceback (most recent call last)",
      "\u001b[1;32m~\\AppData\\Local\\Temp\\ipykernel_18144\\1835039951.py\u001b[0m in \u001b[0;36m<module>\u001b[1;34m\u001b[0m\n\u001b[1;32m----> 1\u001b[1;33m \u001b[0ms2\u001b[0m\u001b[1;33m.\u001b[0m\u001b[0mremove\u001b[0m\u001b[1;33m(\u001b[0m\u001b[1;36m1\u001b[0m\u001b[1;33m)\u001b[0m\u001b[1;33m\u001b[0m\u001b[1;33m\u001b[0m\u001b[0m\n\u001b[0m\u001b[0;32m      2\u001b[0m \u001b[0mprint\u001b[0m\u001b[1;33m(\u001b[0m\u001b[0ms2\u001b[0m\u001b[1;33m)\u001b[0m\u001b[1;33m\u001b[0m\u001b[1;33m\u001b[0m\u001b[0m\n\u001b[0;32m      3\u001b[0m \u001b[0ms2\u001b[0m\u001b[1;33m.\u001b[0m\u001b[0mremove\u001b[0m\u001b[1;33m(\u001b[0m\u001b[1;36m1\u001b[0m\u001b[1;33m)\u001b[0m\u001b[1;33m\u001b[0m\u001b[1;33m\u001b[0m\u001b[0m\n\u001b[0;32m      4\u001b[0m \u001b[0mprint\u001b[0m\u001b[1;33m(\u001b[0m\u001b[0ms2\u001b[0m\u001b[1;33m)\u001b[0m\u001b[1;33m\u001b[0m\u001b[1;33m\u001b[0m\u001b[0m\n",
      "\u001b[1;31mKeyError\u001b[0m: 1"
     ]
    }
   ],
   "source": [
    "s2.remove(1)\n",
    "print(s2)\n",
    "s2.remove(1)\n",
    "print(s2)"
   ]
  },
  {
   "cell_type": "code",
   "execution_count": 1,
   "id": "fdbad978",
   "metadata": {},
   "outputs": [
    {
     "name": "stdout",
     "output_type": "stream",
     "text": [
      "{4, 6, 7, 8}\n"
     ]
    }
   ],
   "source": [
    "s2={1,4,6,7,8,8}\n",
    "s2.discard(1)\n",
    "print(s2)"
   ]
  },
  {
   "cell_type": "code",
   "execution_count": 2,
   "id": "5f130a0f",
   "metadata": {},
   "outputs": [
    {
     "name": "stdout",
     "output_type": "stream",
     "text": [
      "{4, 6, 7, 8}\n"
     ]
    }
   ],
   "source": [
    "s2.discard(1)\n",
    "print(s2)"
   ]
  },
  {
   "cell_type": "code",
   "execution_count": 17,
   "id": "ac61ea7a",
   "metadata": {},
   "outputs": [
    {
     "name": "stdout",
     "output_type": "stream",
     "text": [
      "1\n"
     ]
    }
   ],
   "source": [
    "s2={1,4,6,7,8,8}\n",
    "print(s2.pop())"
   ]
  },
  {
   "cell_type": "code",
   "execution_count": 18,
   "id": "03947e4f",
   "metadata": {},
   "outputs": [
    {
     "name": "stdout",
     "output_type": "stream",
     "text": [
      "4\n"
     ]
    }
   ],
   "source": [
    "print(s2.pop())"
   ]
  },
  {
   "cell_type": "code",
   "execution_count": 19,
   "id": "409b76a0",
   "metadata": {},
   "outputs": [
    {
     "name": "stdout",
     "output_type": "stream",
     "text": [
      "6\n",
      "{7, 8}\n"
     ]
    }
   ],
   "source": [
    "print(s2.pop())\n",
    "print(s2)"
   ]
  },
  {
   "cell_type": "code",
   "execution_count": 21,
   "id": "9e8e20bf",
   "metadata": {},
   "outputs": [
    {
     "name": "stdout",
     "output_type": "stream",
     "text": [
      "{1, 4, 6, 7, 8}\n",
      "{1, 4, 6, 7, 8, 9}\n"
     ]
    }
   ],
   "source": [
    "s3={1,4,6}\n",
    "s3.update({6,7,8})\n",
    "print(s3)\n",
    "s3.update([7,8,9])\n",
    "print(s3)"
   ]
  },
  {
   "cell_type": "code",
   "execution_count": 3,
   "id": "085e6f0e",
   "metadata": {},
   "outputs": [
    {
     "data": {
      "text/plain": [
       "set()"
      ]
     },
     "execution_count": 3,
     "metadata": {},
     "output_type": "execute_result"
    }
   ],
   "source": [
    "s1={1,2,3,4,5}\n",
    "s1.clear()\n",
    "s1"
   ]
  },
  {
   "cell_type": "code",
   "execution_count": 28,
   "id": "5e18e9f0",
   "metadata": {},
   "outputs": [
    {
     "name": "stdout",
     "output_type": "stream",
     "text": [
      "<class 'frozenset'>\n"
     ]
    },
    {
     "ename": "AttributeError",
     "evalue": "'frozenset' object has no attribute 'add'",
     "output_type": "error",
     "traceback": [
      "\u001b[1;31m---------------------------------------------------------------------------\u001b[0m",
      "\u001b[1;31mAttributeError\u001b[0m                            Traceback (most recent call last)",
      "\u001b[1;32m~\\AppData\\Local\\Temp\\ipykernel_18144\\1554727675.py\u001b[0m in \u001b[0;36m<module>\u001b[1;34m\u001b[0m\n\u001b[0;32m      2\u001b[0m \u001b[1;31m#frozenset(s4)\u001b[0m\u001b[1;33m\u001b[0m\u001b[1;33m\u001b[0m\u001b[0m\n\u001b[0;32m      3\u001b[0m \u001b[0mprint\u001b[0m\u001b[1;33m(\u001b[0m\u001b[0mtype\u001b[0m\u001b[1;33m(\u001b[0m\u001b[0ms4\u001b[0m\u001b[1;33m)\u001b[0m\u001b[1;33m)\u001b[0m\u001b[1;33m\u001b[0m\u001b[1;33m\u001b[0m\u001b[0m\n\u001b[1;32m----> 4\u001b[1;33m \u001b[0ms4\u001b[0m\u001b[1;33m.\u001b[0m\u001b[0madd\u001b[0m\u001b[1;33m(\u001b[0m\u001b[1;36m6\u001b[0m\u001b[1;33m)\u001b[0m\u001b[1;33m\u001b[0m\u001b[1;33m\u001b[0m\u001b[0m\n\u001b[0m\u001b[0;32m      5\u001b[0m \u001b[0mprint\u001b[0m\u001b[1;33m(\u001b[0m\u001b[0ms4\u001b[0m\u001b[1;33m)\u001b[0m\u001b[1;33m\u001b[0m\u001b[1;33m\u001b[0m\u001b[0m\n",
      "\u001b[1;31mAttributeError\u001b[0m: 'frozenset' object has no attribute 'add'"
     ]
    }
   ],
   "source": [
    "s4=frozenset({1,2,3,4,5})\n",
    "print(type(s4))\n",
    "s4.add(6)\n",
    "print(s4)"
   ]
  },
  {
   "cell_type": "code",
   "execution_count": 32,
   "id": "493f9d3d",
   "metadata": {},
   "outputs": [
    {
     "name": "stdout",
     "output_type": "stream",
     "text": [
      "{1, 4, 6, 7, 8}\n"
     ]
    }
   ],
   "source": [
    "s5={1,4,6}\n",
    "s6={6,7,8}\n",
    "r=s5.union(s6)\n",
    "print(r)"
   ]
  },
  {
   "cell_type": "code",
   "execution_count": 33,
   "id": "c6c5a7e8",
   "metadata": {},
   "outputs": [
    {
     "name": "stdout",
     "output_type": "stream",
     "text": [
      "{1, 4, 6, 7, 8}\n"
     ]
    }
   ],
   "source": [
    "s5={1,4,6}\n",
    "s6={6,7,8}\n",
    "r=s5|s6\n",
    "print(r)"
   ]
  },
  {
   "cell_type": "code",
   "execution_count": 34,
   "id": "c586a563",
   "metadata": {},
   "outputs": [
    {
     "name": "stdout",
     "output_type": "stream",
     "text": [
      "{6}\n",
      "{6}\n"
     ]
    }
   ],
   "source": [
    "s5={1,4,6}\n",
    "s6={6,7,8}\n",
    "r=s5.intersection(s6)\n",
    "print(r)\n",
    "r=s5&s6\n",
    "print(r)"
   ]
  },
  {
   "cell_type": "code",
   "execution_count": 37,
   "id": "7b443bee",
   "metadata": {},
   "outputs": [
    {
     "name": "stdout",
     "output_type": "stream",
     "text": [
      "{1, 4}\n",
      "{8, 7}\n"
     ]
    }
   ],
   "source": [
    "s5={1,4,6}\n",
    "s6={6,7,8}\n",
    "r=s5.difference(s6)\n",
    "print(r)\n",
    "r=s6-s5\n",
    "print(r)"
   ]
  },
  {
   "cell_type": "code",
   "execution_count": 40,
   "id": "bad68cb2",
   "metadata": {},
   "outputs": [
    {
     "name": "stdout",
     "output_type": "stream",
     "text": [
      "{1, 4, 7, 8}\n",
      "{1, 4, 7, 8}\n"
     ]
    }
   ],
   "source": [
    "s5={1,4,6}\n",
    "s6={6,7,8}\n",
    "r=s5.symmetric_difference(s6)\n",
    "print(r)\n",
    "r=s6^s5\n",
    "print(r)"
   ]
  },
  {
   "cell_type": "code",
   "execution_count": 41,
   "id": "9ac7041a",
   "metadata": {},
   "outputs": [
    {
     "data": {
      "text/plain": [
       "False"
      ]
     },
     "execution_count": 41,
     "metadata": {},
     "output_type": "execute_result"
    }
   ],
   "source": [
    "#Isdisjoint - Determines whether or not two sets have any elements in common.\n",
    "#x1.isdisjoint(x2) returns True if x1 and x2 have no elements in common:\n",
    "\n",
    "s5={1,4,6}\n",
    "s6={6,7,8}\n",
    "s5.isdisjoint(s6)"
   ]
  },
  {
   "cell_type": "code",
   "execution_count": 42,
   "id": "9e96d5c5",
   "metadata": {},
   "outputs": [
    {
     "data": {
      "text/plain": [
       "True"
      ]
     },
     "execution_count": 42,
     "metadata": {},
     "output_type": "execute_result"
    }
   ],
   "source": [
    "s5={1,4,6}\n",
    "s6={7,8,9}\n",
    "s5.isdisjoint(s6)"
   ]
  },
  {
   "cell_type": "code",
   "execution_count": 47,
   "id": "cc927688",
   "metadata": {},
   "outputs": [
    {
     "data": {
      "text/plain": [
       "True"
      ]
     },
     "execution_count": 47,
     "metadata": {},
     "output_type": "execute_result"
    }
   ],
   "source": [
    "#A set is considered to be a subset of itself:\n",
    "\n",
    "x = {1, 2, 3, 4, 5}\n",
    "x.issubset(x)"
   ]
  },
  {
   "cell_type": "code",
   "execution_count": 51,
   "id": "7ff7c3a1",
   "metadata": {},
   "outputs": [
    {
     "name": "stdout",
     "output_type": "stream",
     "text": [
      "False\n",
      "True\n",
      "False\n"
     ]
    }
   ],
   "source": [
    "x = {1, 2, 3, 4, 5}\n",
    "r=x.issubset({1,2})\n",
    "print(r)\n",
    "r=x.issubset({1,2,3,4,5,6})\n",
    "print(r)\n",
    "r=x.issubset({6})\n",
    "print(r)"
   ]
  },
  {
   "cell_type": "code",
   "execution_count": null,
   "id": "f96d3f14",
   "metadata": {},
   "outputs": [],
   "source": []
  }
 ],
 "metadata": {
  "kernelspec": {
   "display_name": "Python 3 (ipykernel)",
   "language": "python",
   "name": "python3"
  },
  "language_info": {
   "codemirror_mode": {
    "name": "ipython",
    "version": 3
   },
   "file_extension": ".py",
   "mimetype": "text/x-python",
   "name": "python",
   "nbconvert_exporter": "python",
   "pygments_lexer": "ipython3",
   "version": "3.9.13"
  }
 },
 "nbformat": 4,
 "nbformat_minor": 5
}
